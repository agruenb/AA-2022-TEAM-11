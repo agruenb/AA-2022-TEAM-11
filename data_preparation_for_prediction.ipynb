{
 "cells": [
  {
   "attachments": {},
   "cell_type": "markdown",
   "metadata": {},
   "source": [
    "# Data preparation for prediction\n",
    "\n",
    "The task for the prediction is as follows:\n",
    "\n",
    "... forecasting total system-level demand in the next hour ...\n",
    "\n",
    "Therefore we need a dataset which has an hourly resolution. An intuitive system-level demand measure would be the amount of trips per hour. To achive this we resample the whole dataset by the hour and count the number of trips per hour."
   ]
  },
  {
   "cell_type": "code",
   "execution_count": 2,
   "metadata": {},
   "outputs": [],
   "source": [
    "import pandas as pd\n",
    "import seaborn as sns\n",
    "import matplotlib.pyplot as plt\n",
    "from matplotlib import rcParams"
   ]
  },
  {
   "cell_type": "code",
   "execution_count": 3,
   "metadata": {},
   "outputs": [
    {
     "data": {
      "text/html": [
       "<div>\n",
       "<style scoped>\n",
       "    .dataframe tbody tr th:only-of-type {\n",
       "        vertical-align: middle;\n",
       "    }\n",
       "\n",
       "    .dataframe tbody tr th {\n",
       "        vertical-align: top;\n",
       "    }\n",
       "\n",
       "    .dataframe thead th {\n",
       "        text-align: right;\n",
       "    }\n",
       "</style>\n",
       "<table border=\"1\" class=\"dataframe\">\n",
       "  <thead>\n",
       "    <tr style=\"text-align: right;\">\n",
       "      <th></th>\n",
       "      <th>start_time</th>\n",
       "      <th>end_time</th>\n",
       "      <th>start_station_id</th>\n",
       "      <th>end_station_id</th>\n",
       "      <th>bike_id</th>\n",
       "      <th>user_type</th>\n",
       "      <th>start_hour</th>\n",
       "      <th>start_day</th>\n",
       "      <th>start_month</th>\n",
       "      <th>start_weekday</th>\n",
       "      <th>max_temp</th>\n",
       "      <th>min_temp</th>\n",
       "      <th>precip</th>\n",
       "      <th>start_long</th>\n",
       "      <th>start_lat</th>\n",
       "      <th>end_lat</th>\n",
       "      <th>end_long</th>\n",
       "    </tr>\n",
       "  </thead>\n",
       "  <tbody>\n",
       "    <tr>\n",
       "      <th>6</th>\n",
       "      <td>2017-01-01 00:11:34</td>\n",
       "      <td>2017-01-01 00:23:47</td>\n",
       "      <td>194</td>\n",
       "      <td>68</td>\n",
       "      <td>1145</td>\n",
       "      <td>Subscriber</td>\n",
       "      <td>0</td>\n",
       "      <td>1</td>\n",
       "      <td>1</td>\n",
       "      <td>6</td>\n",
       "      <td>-0.6</td>\n",
       "      <td>-0.6</td>\n",
       "      <td>0.0</td>\n",
       "      <td>-87.62603</td>\n",
       "      <td>41.886875</td>\n",
       "      <td>41.875885</td>\n",
       "      <td>-87.640795</td>\n",
       "    </tr>\n",
       "  </tbody>\n",
       "</table>\n",
       "</div>"
      ],
      "text/plain": [
       "           start_time            end_time  start_station_id  end_station_id  \\\n",
       "6 2017-01-01 00:11:34 2017-01-01 00:23:47               194              68   \n",
       "\n",
       "   bike_id   user_type  start_hour  start_day  start_month  start_weekday  \\\n",
       "6     1145  Subscriber           0          1            1              6   \n",
       "\n",
       "   max_temp  min_temp  precip  start_long  start_lat    end_lat   end_long  \n",
       "6      -0.6      -0.6     0.0   -87.62603  41.886875  41.875885 -87.640795  "
      ]
     },
     "execution_count": 3,
     "metadata": {},
     "output_type": "execute_result"
    }
   ],
   "source": [
    "#read dataset\n",
    "path = \"../adrian_workspace/chicago_2017_REDUCED.csv\"\n",
    "bike_data = pd.read_csv(path, parse_dates=[\"start_time\",\"end_time\"], index_col=0)\n",
    "bike_data.head(1)"
   ]
  },
  {
   "attachments": {},
   "cell_type": "markdown",
   "metadata": {},
   "source": [
    "The data contains trips specfic information like the start and end station. Since this data cannot be used for system-level demand those features are not needed for the prediction."
   ]
  },
  {
   "cell_type": "code",
   "execution_count": 4,
   "metadata": {},
   "outputs": [
    {
     "data": {
      "text/html": [
       "<div>\n",
       "<style scoped>\n",
       "    .dataframe tbody tr th:only-of-type {\n",
       "        vertical-align: middle;\n",
       "    }\n",
       "\n",
       "    .dataframe tbody tr th {\n",
       "        vertical-align: top;\n",
       "    }\n",
       "\n",
       "    .dataframe thead th {\n",
       "        text-align: right;\n",
       "    }\n",
       "</style>\n",
       "<table border=\"1\" class=\"dataframe\">\n",
       "  <thead>\n",
       "    <tr style=\"text-align: right;\">\n",
       "      <th></th>\n",
       "      <th>start_time</th>\n",
       "      <th>bike_id</th>\n",
       "      <th>start_hour</th>\n",
       "      <th>start_day</th>\n",
       "      <th>start_month</th>\n",
       "      <th>start_weekday</th>\n",
       "      <th>is_weekend</th>\n",
       "      <th>duration_min</th>\n",
       "      <th>max_temp</th>\n",
       "      <th>precip</th>\n",
       "    </tr>\n",
       "  </thead>\n",
       "  <tbody>\n",
       "    <tr>\n",
       "      <th>6</th>\n",
       "      <td>2017-01-01 00:11:34</td>\n",
       "      <td>1145</td>\n",
       "      <td>0</td>\n",
       "      <td>1</td>\n",
       "      <td>1</td>\n",
       "      <td>6</td>\n",
       "      <td>True</td>\n",
       "      <td>12</td>\n",
       "      <td>-0.6</td>\n",
       "      <td>0.0</td>\n",
       "    </tr>\n",
       "  </tbody>\n",
       "</table>\n",
       "</div>"
      ],
      "text/plain": [
       "           start_time  bike_id  start_hour  start_day  start_month  \\\n",
       "6 2017-01-01 00:11:34     1145           0          1            1   \n",
       "\n",
       "   start_weekday  is_weekend  duration_min  max_temp  precip  \n",
       "6              6        True            12      -0.6     0.0  "
      ]
     },
     "execution_count": 4,
     "metadata": {},
     "output_type": "execute_result"
    }
   ],
   "source": [
    "# feature engineering\n",
    "# add trip duration feature\n",
    "timedelta = bike_data[\"end_time\"] - bike_data[\"start_time\"]\n",
    "bike_data[\"duration\"] = timedelta.apply(lambda x:x.seconds)\n",
    "bike_data[\"duration_min\"] = bike_data[\"duration\"].apply(lambda x:(int) (x/60))\n",
    "# add weekend dummy variable\n",
    "bike_data[\"is_weekend\"] = bike_data[\"start_weekday\"].isin([5,6])\n",
    "# only include possibel features\n",
    "feature_data = bike_data[[\"start_time\",\"bike_id\",\"start_hour\",\"start_day\",\"start_month\",\"start_weekday\",\"is_weekend\",\"duration_min\",\"max_temp\",\"precip\"]]\n",
    "feature_data.head(1)\n"
   ]
  },
  {
   "cell_type": "code",
   "execution_count": 5,
   "metadata": {},
   "outputs": [
    {
     "name": "stdout",
     "output_type": "stream",
     "text": [
      "<class 'pandas.core.frame.DataFrame'>\n",
      "DatetimeIndex: 8760 entries, 2017-01-01 00:00:00 to 2017-12-31 23:00:00\n",
      "Freq: H\n",
      "Data columns (total 9 columns):\n",
      " #   Column             Non-Null Count  Dtype  \n",
      "---  ------             --------------  -----  \n",
      " 0   trip_amount        8760 non-null   int64  \n",
      " 1   start_hour         8237 non-null   float64\n",
      " 2   start_day          8237 non-null   float64\n",
      " 3   start_month        8237 non-null   float64\n",
      " 4   start_weekday      8237 non-null   float64\n",
      " 5   is_weekend         8237 non-null   float64\n",
      " 6   mean_duration_min  8237 non-null   float64\n",
      " 7   max_temp           8237 non-null   float64\n",
      " 8   precip             8237 non-null   float64\n",
      "dtypes: float64(8), int64(1)\n",
      "memory usage: 684.4 KB\n"
     ]
    }
   ],
   "source": [
    "#aggregate by hour (for demand prediction in the next hour)\n",
    "feature_data_by_hour = feature_data.groupby(pd.Grouper(key='start_time',freq='1H')).agg({\"bike_id\":\"count\",\"start_hour\":\"mean\",\"start_day\":\"mean\",\"start_month\":\"mean\",\"start_weekday\":\"mean\",\"is_weekend\":\"mean\",\"duration_min\":\"mean\",\"max_temp\":\"mean\",\"precip\":\"mean\"})\n",
    "feature_data_by_hour.rename(columns={\"duration_min\":\"mean_duration_min\",\"bike_id\":\"trip_amount\"}, inplace=True)\n",
    "feature_data_by_hour.info()"
   ]
  },
  {
   "attachments": {},
   "cell_type": "markdown",
   "metadata": {},
   "source": [
    "As we can see there are some hours where there were no trips done. This results in null values. However we predictive models can not handle null values. To make the data usable we forwards fill the weather data and calculate values for the other columns."
   ]
  },
  {
   "cell_type": "code",
   "execution_count": 19,
   "metadata": {},
   "outputs": [
    {
     "name": "stdout",
     "output_type": "stream",
     "text": [
      "<class 'pandas.core.frame.DataFrame'>\n",
      "DatetimeIndex: 8760 entries, 2017-01-01 00:00:00 to 2017-12-31 23:00:00\n",
      "Freq: H\n",
      "Data columns (total 9 columns):\n",
      " #   Column             Non-Null Count  Dtype  \n",
      "---  ------             --------------  -----  \n",
      " 0   trip_amount        8760 non-null   int64  \n",
      " 1   start_hour         8760 non-null   int64  \n",
      " 2   start_day          8760 non-null   int64  \n",
      " 3   start_month        8760 non-null   int64  \n",
      " 4   start_weekday      8760 non-null   int64  \n",
      " 5   is_weekend         8760 non-null   int64  \n",
      " 6   mean_duration_min  8760 non-null   float64\n",
      " 7   max_temp           8760 non-null   float64\n",
      " 8   precip             8760 non-null   float64\n",
      "dtypes: float64(3), int64(6)\n",
      "memory usage: 684.4 KB\n"
     ]
    }
   ],
   "source": [
    "# deal with NaN values\n",
    "feature_data_by_hour.sort_index(inplace=True)\n",
    "feature_data_by_hour[\"max_temp\"] = feature_data_by_hour[\"max_temp\"].ffill()\n",
    "feature_data_by_hour[\"precip\"] = feature_data_by_hour[\"precip\"].ffill()\n",
    "feature_data_by_hour[\"mean_duration_min\"] = feature_data_by_hour[\"mean_duration_min\"].fillna(value=0)\n",
    "feature_data_by_hour[\"start_hour\"] = feature_data_by_hour.index.to_series().apply(lambda x:x.hour)\n",
    "feature_data_by_hour[\"start_day\"] = feature_data_by_hour.index.to_series().apply(lambda x:x.day)\n",
    "feature_data_by_hour[\"start_month\"] = feature_data_by_hour.index.to_series().apply(lambda x:x.month)\n",
    "feature_data_by_hour[\"start_weekday\"] = feature_data_by_hour.index.to_series().apply(lambda x:x.dayofweek)\n",
    "feature_data_by_hour[\"is_weekend\"] = feature_data_by_hour[\"start_weekday\"].apply(lambda x: 1 if (x in [5,6]) else 0 )\n",
    "feature_data_by_hour.info()"
   ]
  },
  {
   "cell_type": "code",
   "execution_count": 20,
   "metadata": {},
   "outputs": [
    {
     "data": {
      "text/html": [
       "<div>\n",
       "<style scoped>\n",
       "    .dataframe tbody tr th:only-of-type {\n",
       "        vertical-align: middle;\n",
       "    }\n",
       "\n",
       "    .dataframe tbody tr th {\n",
       "        vertical-align: top;\n",
       "    }\n",
       "\n",
       "    .dataframe thead th {\n",
       "        text-align: right;\n",
       "    }\n",
       "</style>\n",
       "<table border=\"1\" class=\"dataframe\">\n",
       "  <thead>\n",
       "    <tr style=\"text-align: right;\">\n",
       "      <th></th>\n",
       "      <th>trip_amount</th>\n",
       "      <th>start_hour</th>\n",
       "      <th>start_day</th>\n",
       "      <th>start_month</th>\n",
       "      <th>start_weekday</th>\n",
       "      <th>is_weekend</th>\n",
       "      <th>mean_duration_min</th>\n",
       "      <th>max_temp</th>\n",
       "      <th>precip</th>\n",
       "    </tr>\n",
       "    <tr>\n",
       "      <th>start_time</th>\n",
       "      <th></th>\n",
       "      <th></th>\n",
       "      <th></th>\n",
       "      <th></th>\n",
       "      <th></th>\n",
       "      <th></th>\n",
       "      <th></th>\n",
       "      <th></th>\n",
       "      <th></th>\n",
       "    </tr>\n",
       "  </thead>\n",
       "  <tbody>\n",
       "    <tr>\n",
       "      <th>2017-01-01 00:00:00</th>\n",
       "      <td>4</td>\n",
       "      <td>0</td>\n",
       "      <td>1</td>\n",
       "      <td>1</td>\n",
       "      <td>6</td>\n",
       "      <td>1</td>\n",
       "      <td>9.5</td>\n",
       "      <td>-0.6</td>\n",
       "      <td>0.0</td>\n",
       "    </tr>\n",
       "    <tr>\n",
       "      <th>2017-01-01 01:00:00</th>\n",
       "      <td>4</td>\n",
       "      <td>1</td>\n",
       "      <td>1</td>\n",
       "      <td>1</td>\n",
       "      <td>6</td>\n",
       "      <td>1</td>\n",
       "      <td>10.0</td>\n",
       "      <td>-2.2</td>\n",
       "      <td>0.0</td>\n",
       "    </tr>\n",
       "    <tr>\n",
       "      <th>2017-01-01 02:00:00</th>\n",
       "      <td>3</td>\n",
       "      <td>2</td>\n",
       "      <td>1</td>\n",
       "      <td>1</td>\n",
       "      <td>6</td>\n",
       "      <td>1</td>\n",
       "      <td>4.0</td>\n",
       "      <td>-2.8</td>\n",
       "      <td>0.0</td>\n",
       "    </tr>\n",
       "    <tr>\n",
       "      <th>2017-01-01 03:00:00</th>\n",
       "      <td>1</td>\n",
       "      <td>3</td>\n",
       "      <td>1</td>\n",
       "      <td>1</td>\n",
       "      <td>6</td>\n",
       "      <td>1</td>\n",
       "      <td>10.0</td>\n",
       "      <td>-3.3</td>\n",
       "      <td>0.0</td>\n",
       "    </tr>\n",
       "    <tr>\n",
       "      <th>2017-01-01 04:00:00</th>\n",
       "      <td>0</td>\n",
       "      <td>4</td>\n",
       "      <td>1</td>\n",
       "      <td>1</td>\n",
       "      <td>6</td>\n",
       "      <td>1</td>\n",
       "      <td>0.0</td>\n",
       "      <td>-3.3</td>\n",
       "      <td>0.0</td>\n",
       "    </tr>\n",
       "  </tbody>\n",
       "</table>\n",
       "</div>"
      ],
      "text/plain": [
       "                     trip_amount  start_hour  start_day  start_month  \\\n",
       "start_time                                                             \n",
       "2017-01-01 00:00:00            4           0          1            1   \n",
       "2017-01-01 01:00:00            4           1          1            1   \n",
       "2017-01-01 02:00:00            3           2          1            1   \n",
       "2017-01-01 03:00:00            1           3          1            1   \n",
       "2017-01-01 04:00:00            0           4          1            1   \n",
       "\n",
       "                     start_weekday  is_weekend  mean_duration_min  max_temp  \\\n",
       "start_time                                                                    \n",
       "2017-01-01 00:00:00              6           1                9.5      -0.6   \n",
       "2017-01-01 01:00:00              6           1               10.0      -2.2   \n",
       "2017-01-01 02:00:00              6           1                4.0      -2.8   \n",
       "2017-01-01 03:00:00              6           1               10.0      -3.3   \n",
       "2017-01-01 04:00:00              6           1                0.0      -3.3   \n",
       "\n",
       "                     precip  \n",
       "start_time                   \n",
       "2017-01-01 00:00:00     0.0  \n",
       "2017-01-01 01:00:00     0.0  \n",
       "2017-01-01 02:00:00     0.0  \n",
       "2017-01-01 03:00:00     0.0  \n",
       "2017-01-01 04:00:00     0.0  "
      ]
     },
     "execution_count": 20,
     "metadata": {},
     "output_type": "execute_result"
    }
   ],
   "source": [
    "feature_data_by_hour.head()"
   ]
  },
  {
   "attachments": {},
   "cell_type": "markdown",
   "metadata": {},
   "source": [
    "Now we have a good dataset for creating ML models."
   ]
  },
  {
   "cell_type": "code",
   "execution_count": 21,
   "metadata": {},
   "outputs": [],
   "source": [
    "# save data as csv\n",
    "# feature_data_by_hour.to_csv(\"load_prediction_data.csv\")"
   ]
  }
 ],
 "metadata": {
  "kernelspec": {
   "display_name": "Python 3",
   "language": "python",
   "name": "python3"
  },
  "language_info": {
   "codemirror_mode": {
    "name": "ipython",
    "version": 3
   },
   "file_extension": ".py",
   "mimetype": "text/x-python",
   "name": "python",
   "nbconvert_exporter": "python",
   "pygments_lexer": "ipython3",
   "version": "3.10.6"
  },
  "orig_nbformat": 4,
  "vscode": {
   "interpreter": {
    "hash": "eb4a0ac80907d7f44e1a5e88d3d3381b33e3dbedd3a24d113e876f30a0c46bee"
   }
  }
 },
 "nbformat": 4,
 "nbformat_minor": 2
}
