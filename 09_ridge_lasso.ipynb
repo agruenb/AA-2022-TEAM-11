{
 "cells": [
  {
   "cell_type": "markdown",
   "id": "8282a11d",
   "metadata": {},
   "source": [
    "# Predictive Analytics"
   ]
  },
  {
   "cell_type": "markdown",
   "id": "a8d6b734",
   "metadata": {},
   "source": [
    "### Predicting future bikesharing demand"
   ]
  },
  {
   "cell_type": "markdown",
   "id": "a8726b3e",
   "metadata": {},
   "source": [
    "Accurately predicting future demand is an important step towards providing a high service level (e.g. by deploying additional bikes or by re-positioning vehicles etc.)"
   ]
  },
  {
   "cell_type": "markdown",
   "id": "8f1b017a",
   "metadata": {},
   "source": [
    "Future demand is a key factor that will steer operational decision making of a shared rental network. As a data scientist it is your responsibility to facilitate this type of decision support. For the purpose of this assignment we will be interested in forecasting total system-level demand in the next hour. To do so, develop a prediction model that predicts bike rental demand as a function of suitable features available in or derived from the datasets (incl. the weather data). <br>\n",
    "– Feature Engineering: Develop a rich set of features that you expect to be correlated with your target. In this process you can draw on your domain knowledge and/or conduct additional research around the topic of demand prediction in vehicle rental networks. Justify your selection of features. <br>\n",
    "– Model Building: Select three regression algorithms that are suitable for the prediction task at hand. Explain and justify why you selected the three algorithms and describe their respective advantages and drawbacks. <br>\n",
    "– Model Evaluation: How well do the models perform? Evaluate and benchmark your models’ performance using suitable evaluation metrics. Which model would you select for deployment? <br>\n",
    "– Outlook: How could the selected model be improved further? Explain some of the improvement levers that you might focus on in a follow-up project. <br>"
   ]
  },
  {
   "cell_type": "markdown",
   "id": "7d0ca58e",
   "metadata": {},
   "source": [
    "## Feature Engineering"
   ]
  },
  {
   "cell_type": "markdown",
   "id": "c78664d5",
   "metadata": {},
   "source": [
    "Develop a rich set of features that you expect to be correlated with your target. In this process you can draw on your domain knowledge and/or conduct additional research around the topic of demand prediction in vehicle rental networks. Justify your selection of features."
   ]
  },
  {
   "cell_type": "code",
   "execution_count": 1,
   "id": "30819d0b",
   "metadata": {},
   "outputs": [],
   "source": [
    "#Imports\n",
    "import warnings\n",
    "warnings.filterwarnings('ignore')\n",
    "\n",
    "import math\n",
    "import pandas as pd\n",
    "import numpy as np\n",
    "from datetime import date, time, datetime, timedelta\n",
    "\n",
    "import matplotlib.pyplot as plt\n",
    "from matplotlib import rcParams\n",
    "\n",
    "from sklearn.preprocessing import StandardScaler, PolynomialFeatures\n",
    "from sklearn.model_selection import train_test_split\n",
    "from sklearn.metrics import mean_absolute_error, mean_squared_error, r2_score\n",
    "from sklearn.linear_model import LinearRegression, Ridge, Lasso, LassoCV\n",
    "from sklearn.pipeline import Pipeline"
   ]
  },
  {
   "cell_type": "code",
   "execution_count": 2,
   "id": "acde3ac0",
   "metadata": {},
   "outputs": [
    {
     "data": {
      "text/html": [
       "<div>\n",
       "<style scoped>\n",
       "    .dataframe tbody tr th:only-of-type {\n",
       "        vertical-align: middle;\n",
       "    }\n",
       "\n",
       "    .dataframe tbody tr th {\n",
       "        vertical-align: top;\n",
       "    }\n",
       "\n",
       "    .dataframe thead th {\n",
       "        text-align: right;\n",
       "    }\n",
       "</style>\n",
       "<table border=\"1\" class=\"dataframe\">\n",
       "  <thead>\n",
       "    <tr style=\"text-align: right;\">\n",
       "      <th></th>\n",
       "      <th>start_time</th>\n",
       "      <th>end_time</th>\n",
       "      <th>start_station_id</th>\n",
       "      <th>end_station_id</th>\n",
       "      <th>start_station_name</th>\n",
       "      <th>end_station_name</th>\n",
       "      <th>bike_id</th>\n",
       "      <th>user_type</th>\n",
       "      <th>start_hour</th>\n",
       "      <th>start_day</th>\n",
       "      <th>start_month</th>\n",
       "      <th>start_weekday</th>\n",
       "      <th>max_temp</th>\n",
       "      <th>min_temp</th>\n",
       "      <th>precip</th>\n",
       "      <th>start_lat</th>\n",
       "      <th>start_long</th>\n",
       "      <th>end_lat</th>\n",
       "      <th>end_long</th>\n",
       "    </tr>\n",
       "  </thead>\n",
       "  <tbody>\n",
       "    <tr>\n",
       "      <th>0</th>\n",
       "      <td>2017-01-01 00:00:36</td>\n",
       "      <td>2017-01-01 00:06:32</td>\n",
       "      <td>414</td>\n",
       "      <td>191</td>\n",
       "      <td>Canal St &amp; Taylor St</td>\n",
       "      <td>Canal St &amp; Monroe St (*)</td>\n",
       "      <td>2511</td>\n",
       "      <td>Customer</td>\n",
       "      <td>0</td>\n",
       "      <td>1</td>\n",
       "      <td>1</td>\n",
       "      <td>6</td>\n",
       "      <td>-0.6</td>\n",
       "      <td>-0.6</td>\n",
       "      <td>0.0</td>\n",
       "      <td>41.870257</td>\n",
       "      <td>-87.639474</td>\n",
       "      <td>41.880884</td>\n",
       "      <td>-87.639525</td>\n",
       "    </tr>\n",
       "    <tr>\n",
       "      <th>1</th>\n",
       "      <td>2017-01-01 00:02:54</td>\n",
       "      <td>2017-01-01 00:08:21</td>\n",
       "      <td>28</td>\n",
       "      <td>20</td>\n",
       "      <td>Larrabee St &amp; Menomonee St</td>\n",
       "      <td>Sheffield Ave &amp; Kingsbury St</td>\n",
       "      <td>3660</td>\n",
       "      <td>Subscriber</td>\n",
       "      <td>0</td>\n",
       "      <td>1</td>\n",
       "      <td>1</td>\n",
       "      <td>6</td>\n",
       "      <td>-0.6</td>\n",
       "      <td>-0.6</td>\n",
       "      <td>0.0</td>\n",
       "      <td>41.914680</td>\n",
       "      <td>-87.643320</td>\n",
       "      <td>41.910522</td>\n",
       "      <td>-87.653106</td>\n",
       "    </tr>\n",
       "    <tr>\n",
       "      <th>2</th>\n",
       "      <td>2017-01-01 00:06:06</td>\n",
       "      <td>2017-01-01 00:18:31</td>\n",
       "      <td>620</td>\n",
       "      <td>333</td>\n",
       "      <td>Orleans St &amp; Chestnut St (NEXT Apts)</td>\n",
       "      <td>Ashland Ave &amp; Blackhawk St</td>\n",
       "      <td>4992</td>\n",
       "      <td>Subscriber</td>\n",
       "      <td>0</td>\n",
       "      <td>1</td>\n",
       "      <td>1</td>\n",
       "      <td>6</td>\n",
       "      <td>-0.6</td>\n",
       "      <td>-0.6</td>\n",
       "      <td>0.0</td>\n",
       "      <td>41.898203</td>\n",
       "      <td>-87.637536</td>\n",
       "      <td>41.907066</td>\n",
       "      <td>-87.667252</td>\n",
       "    </tr>\n",
       "    <tr>\n",
       "      <th>3</th>\n",
       "      <td>2017-01-01 00:07:28</td>\n",
       "      <td>2017-01-01 00:12:51</td>\n",
       "      <td>287</td>\n",
       "      <td>68</td>\n",
       "      <td>Franklin St &amp; Monroe St</td>\n",
       "      <td>Clinton St &amp; Tilden St</td>\n",
       "      <td>5637</td>\n",
       "      <td>Subscriber</td>\n",
       "      <td>0</td>\n",
       "      <td>1</td>\n",
       "      <td>1</td>\n",
       "      <td>6</td>\n",
       "      <td>-0.6</td>\n",
       "      <td>-0.6</td>\n",
       "      <td>0.0</td>\n",
       "      <td>41.880317</td>\n",
       "      <td>-87.635185</td>\n",
       "      <td>41.875885</td>\n",
       "      <td>-87.640795</td>\n",
       "    </tr>\n",
       "    <tr>\n",
       "      <th>4</th>\n",
       "      <td>2017-01-01 00:07:57</td>\n",
       "      <td>2017-01-01 00:20:53</td>\n",
       "      <td>300</td>\n",
       "      <td>118</td>\n",
       "      <td>Broadway &amp; Barry Ave</td>\n",
       "      <td>Sedgwick St &amp; North Ave</td>\n",
       "      <td>2209</td>\n",
       "      <td>Subscriber</td>\n",
       "      <td>0</td>\n",
       "      <td>1</td>\n",
       "      <td>1</td>\n",
       "      <td>6</td>\n",
       "      <td>-0.6</td>\n",
       "      <td>-0.6</td>\n",
       "      <td>0.0</td>\n",
       "      <td>41.937725</td>\n",
       "      <td>-87.644095</td>\n",
       "      <td>41.911386</td>\n",
       "      <td>-87.638677</td>\n",
       "    </tr>\n",
       "  </tbody>\n",
       "</table>\n",
       "</div>"
      ],
      "text/plain": [
       "            start_time             end_time  start_station_id  end_station_id  \\\n",
       "0  2017-01-01 00:00:36  2017-01-01 00:06:32               414             191   \n",
       "1  2017-01-01 00:02:54  2017-01-01 00:08:21                28              20   \n",
       "2  2017-01-01 00:06:06  2017-01-01 00:18:31               620             333   \n",
       "3  2017-01-01 00:07:28  2017-01-01 00:12:51               287              68   \n",
       "4  2017-01-01 00:07:57  2017-01-01 00:20:53               300             118   \n",
       "\n",
       "                     start_station_name              end_station_name  \\\n",
       "0                  Canal St & Taylor St      Canal St & Monroe St (*)   \n",
       "1            Larrabee St & Menomonee St  Sheffield Ave & Kingsbury St   \n",
       "2  Orleans St & Chestnut St (NEXT Apts)    Ashland Ave & Blackhawk St   \n",
       "3               Franklin St & Monroe St        Clinton St & Tilden St   \n",
       "4                  Broadway & Barry Ave       Sedgwick St & North Ave   \n",
       "\n",
       "   bike_id   user_type  start_hour  start_day  start_month  start_weekday  \\\n",
       "0     2511    Customer           0          1            1              6   \n",
       "1     3660  Subscriber           0          1            1              6   \n",
       "2     4992  Subscriber           0          1            1              6   \n",
       "3     5637  Subscriber           0          1            1              6   \n",
       "4     2209  Subscriber           0          1            1              6   \n",
       "\n",
       "   max_temp  min_temp  precip  start_lat  start_long    end_lat   end_long  \n",
       "0      -0.6      -0.6     0.0  41.870257  -87.639474  41.880884 -87.639525  \n",
       "1      -0.6      -0.6     0.0  41.914680  -87.643320  41.910522 -87.653106  \n",
       "2      -0.6      -0.6     0.0  41.898203  -87.637536  41.907066 -87.667252  \n",
       "3      -0.6      -0.6     0.0  41.880317  -87.635185  41.875885 -87.640795  \n",
       "4      -0.6      -0.6     0.0  41.937725  -87.644095  41.911386 -87.638677  "
      ]
     },
     "execution_count": 2,
     "metadata": {},
     "output_type": "execute_result"
    }
   ],
   "source": [
    "#Import Dataset \n",
    "file_path = \"./data/\"\n",
    "\n",
    "raw_data = pd.read_csv(f\"{file_path}chicago_2017_prepared.csv\")\n",
    "raw_data.head()"
   ]
  },
  {
   "attachments": {},
   "cell_type": "markdown",
   "id": "0d19cf3f",
   "metadata": {},
   "source": [
    "Our task is to predict the trip demand in the next hour in the network. To do so, we decided to fit the data into a format where one data sample (one row) contains measurements on the following features:\n",
    "\n",
    "month,\n",
    "day,\n",
    "hour,\n",
    "weekday,\n",
    "precipitation,\n",
    "average temperature\n",
    "\n",
    "The target would then be the number of trips within that hour."
   ]
  },
  {
   "attachments": {},
   "cell_type": "markdown",
   "metadata": {},
   "source": [
    "We choose these features, since the other features such as start/endstation or usertype will not accessible after aggregating the hourly trips in the whole network. Every feature that still will be useable has been selected. Only the min and max temperature for each hour will be changed by calculating an average temperature per hour"
   ]
  },
  {
   "cell_type": "code",
   "execution_count": 3,
   "id": "bef95acb",
   "metadata": {},
   "outputs": [
    {
     "data": {
      "text/html": [
       "<div>\n",
       "<style scoped>\n",
       "    .dataframe tbody tr th:only-of-type {\n",
       "        vertical-align: middle;\n",
       "    }\n",
       "\n",
       "    .dataframe tbody tr th {\n",
       "        vertical-align: top;\n",
       "    }\n",
       "\n",
       "    .dataframe thead th {\n",
       "        text-align: right;\n",
       "    }\n",
       "</style>\n",
       "<table border=\"1\" class=\"dataframe\">\n",
       "  <thead>\n",
       "    <tr style=\"text-align: right;\">\n",
       "      <th></th>\n",
       "      <th>month</th>\n",
       "      <th>day</th>\n",
       "      <th>hour</th>\n",
       "      <th>weekday</th>\n",
       "      <th>precip</th>\n",
       "      <th>temp</th>\n",
       "      <th>trips</th>\n",
       "    </tr>\n",
       "  </thead>\n",
       "  <tbody>\n",
       "    <tr>\n",
       "      <th>0</th>\n",
       "      <td>1</td>\n",
       "      <td>1</td>\n",
       "      <td>0</td>\n",
       "      <td>6</td>\n",
       "      <td>0.0</td>\n",
       "      <td>-0.6</td>\n",
       "      <td>46</td>\n",
       "    </tr>\n",
       "    <tr>\n",
       "      <th>1</th>\n",
       "      <td>1</td>\n",
       "      <td>1</td>\n",
       "      <td>1</td>\n",
       "      <td>6</td>\n",
       "      <td>0.0</td>\n",
       "      <td>-2.2</td>\n",
       "      <td>46</td>\n",
       "    </tr>\n",
       "    <tr>\n",
       "      <th>2</th>\n",
       "      <td>1</td>\n",
       "      <td>1</td>\n",
       "      <td>2</td>\n",
       "      <td>6</td>\n",
       "      <td>0.0</td>\n",
       "      <td>-2.8</td>\n",
       "      <td>36</td>\n",
       "    </tr>\n",
       "    <tr>\n",
       "      <th>3</th>\n",
       "      <td>1</td>\n",
       "      <td>1</td>\n",
       "      <td>3</td>\n",
       "      <td>6</td>\n",
       "      <td>0.0</td>\n",
       "      <td>-3.3</td>\n",
       "      <td>18</td>\n",
       "    </tr>\n",
       "    <tr>\n",
       "      <th>4</th>\n",
       "      <td>1</td>\n",
       "      <td>1</td>\n",
       "      <td>4</td>\n",
       "      <td>6</td>\n",
       "      <td>0.0</td>\n",
       "      <td>-3.3</td>\n",
       "      <td>6</td>\n",
       "    </tr>\n",
       "    <tr>\n",
       "      <th>...</th>\n",
       "      <td>...</td>\n",
       "      <td>...</td>\n",
       "      <td>...</td>\n",
       "      <td>...</td>\n",
       "      <td>...</td>\n",
       "      <td>...</td>\n",
       "      <td>...</td>\n",
       "    </tr>\n",
       "    <tr>\n",
       "      <th>8738</th>\n",
       "      <td>12</td>\n",
       "      <td>31</td>\n",
       "      <td>19</td>\n",
       "      <td>6</td>\n",
       "      <td>0.0</td>\n",
       "      <td>-11.1</td>\n",
       "      <td>20</td>\n",
       "    </tr>\n",
       "    <tr>\n",
       "      <th>8739</th>\n",
       "      <td>12</td>\n",
       "      <td>31</td>\n",
       "      <td>20</td>\n",
       "      <td>6</td>\n",
       "      <td>0.0</td>\n",
       "      <td>-10.6</td>\n",
       "      <td>20</td>\n",
       "    </tr>\n",
       "    <tr>\n",
       "      <th>8740</th>\n",
       "      <td>12</td>\n",
       "      <td>31</td>\n",
       "      <td>21</td>\n",
       "      <td>6</td>\n",
       "      <td>0.0</td>\n",
       "      <td>-10.6</td>\n",
       "      <td>13</td>\n",
       "    </tr>\n",
       "    <tr>\n",
       "      <th>8741</th>\n",
       "      <td>12</td>\n",
       "      <td>31</td>\n",
       "      <td>22</td>\n",
       "      <td>6</td>\n",
       "      <td>0.0</td>\n",
       "      <td>-11.7</td>\n",
       "      <td>9</td>\n",
       "    </tr>\n",
       "    <tr>\n",
       "      <th>8742</th>\n",
       "      <td>12</td>\n",
       "      <td>31</td>\n",
       "      <td>23</td>\n",
       "      <td>6</td>\n",
       "      <td>0.0</td>\n",
       "      <td>-12.8</td>\n",
       "      <td>6</td>\n",
       "    </tr>\n",
       "  </tbody>\n",
       "</table>\n",
       "<p>8743 rows × 7 columns</p>\n",
       "</div>"
      ],
      "text/plain": [
       "      month  day  hour  weekday  precip  temp  trips\n",
       "0         1    1     0        6     0.0  -0.6     46\n",
       "1         1    1     1        6     0.0  -2.2     46\n",
       "2         1    1     2        6     0.0  -2.8     36\n",
       "3         1    1     3        6     0.0  -3.3     18\n",
       "4         1    1     4        6     0.0  -3.3      6\n",
       "...     ...  ...   ...      ...     ...   ...    ...\n",
       "8738     12   31    19        6     0.0 -11.1     20\n",
       "8739     12   31    20        6     0.0 -10.6     20\n",
       "8740     12   31    21        6     0.0 -10.6     13\n",
       "8741     12   31    22        6     0.0 -11.7      9\n",
       "8742     12   31    23        6     0.0 -12.8      6\n",
       "\n",
       "[8743 rows x 7 columns]"
      ]
     },
     "execution_count": 3,
     "metadata": {},
     "output_type": "execute_result"
    }
   ],
   "source": [
    "raw_data = raw_data[[\"start_month\", \"start_day\", \"start_hour\", \"start_weekday\", \"bike_id\", \"max_temp\", \"min_temp\", \"precip\"]]\n",
    "raw_data.rename(columns={\"start_month\": \"month\", \"start_day\": \"day\", \"start_hour\": \"hour\", \"start_weekday\": \"weekday\"}, inplace=True)\n",
    "trip_number = raw_data.groupby([\"month\", \"day\", \"hour\"])['bike_id'].count()\n",
    "\n",
    "raw_data['temp'] = raw_data['min_temp'] + ((raw_data['max_temp'] - raw_data['min_temp']) /2)\n",
    "raw_data.drop(['max_temp', 'min_temp'], axis=1, inplace=True)\n",
    "\n",
    "raw_data.drop('bike_id', axis=1, inplace=True)\n",
    "raw_data.drop_duplicates(inplace=True)\n",
    "raw_data['trips'] = trip_number.values\n",
    "raw_data = raw_data.reset_index(drop=True)\n",
    "\n",
    "raw_data"
   ]
  },
  {
   "cell_type": "markdown",
   "id": "8481562e",
   "metadata": {},
   "source": [
    "As we can see, we only have trip data for 8743 hours of the year. A year has 365 * 24 = 8760 hours. So there were 17 hours in the year were we are missing trip data, most likely because there simply were no trips during these hours. We will look look at these missing hours after creating a new data frame implementing all hours and merging both dataframes"
   ]
  },
  {
   "cell_type": "code",
   "execution_count": 4,
   "id": "c9cedbda",
   "metadata": {},
   "outputs": [
    {
     "data": {
      "text/html": [
       "<div>\n",
       "<style scoped>\n",
       "    .dataframe tbody tr th:only-of-type {\n",
       "        vertical-align: middle;\n",
       "    }\n",
       "\n",
       "    .dataframe tbody tr th {\n",
       "        vertical-align: top;\n",
       "    }\n",
       "\n",
       "    .dataframe thead th {\n",
       "        text-align: right;\n",
       "    }\n",
       "</style>\n",
       "<table border=\"1\" class=\"dataframe\">\n",
       "  <thead>\n",
       "    <tr style=\"text-align: right;\">\n",
       "      <th></th>\n",
       "      <th>month</th>\n",
       "      <th>day</th>\n",
       "      <th>hour</th>\n",
       "      <th>weekday</th>\n",
       "      <th>precip</th>\n",
       "      <th>temp</th>\n",
       "      <th>trips</th>\n",
       "    </tr>\n",
       "  </thead>\n",
       "  <tbody>\n",
       "    <tr>\n",
       "      <th>195</th>\n",
       "      <td>1</td>\n",
       "      <td>9</td>\n",
       "      <td>3</td>\n",
       "      <td>0</td>\n",
       "      <td>NaN</td>\n",
       "      <td>NaN</td>\n",
       "      <td>NaN</td>\n",
       "    </tr>\n",
       "    <tr>\n",
       "      <th>387</th>\n",
       "      <td>1</td>\n",
       "      <td>17</td>\n",
       "      <td>3</td>\n",
       "      <td>1</td>\n",
       "      <td>NaN</td>\n",
       "      <td>NaN</td>\n",
       "      <td>NaN</td>\n",
       "    </tr>\n",
       "    <tr>\n",
       "      <th>938</th>\n",
       "      <td>2</td>\n",
       "      <td>9</td>\n",
       "      <td>2</td>\n",
       "      <td>3</td>\n",
       "      <td>NaN</td>\n",
       "      <td>NaN</td>\n",
       "      <td>NaN</td>\n",
       "    </tr>\n",
       "    <tr>\n",
       "      <th>963</th>\n",
       "      <td>2</td>\n",
       "      <td>10</td>\n",
       "      <td>3</td>\n",
       "      <td>4</td>\n",
       "      <td>NaN</td>\n",
       "      <td>NaN</td>\n",
       "      <td>NaN</td>\n",
       "    </tr>\n",
       "    <tr>\n",
       "      <th>1562</th>\n",
       "      <td>3</td>\n",
       "      <td>7</td>\n",
       "      <td>2</td>\n",
       "      <td>1</td>\n",
       "      <td>NaN</td>\n",
       "      <td>NaN</td>\n",
       "      <td>NaN</td>\n",
       "    </tr>\n",
       "    <tr>\n",
       "      <th>1682</th>\n",
       "      <td>3</td>\n",
       "      <td>12</td>\n",
       "      <td>2</td>\n",
       "      <td>6</td>\n",
       "      <td>NaN</td>\n",
       "      <td>NaN</td>\n",
       "      <td>NaN</td>\n",
       "    </tr>\n",
       "    <tr>\n",
       "      <th>2114</th>\n",
       "      <td>3</td>\n",
       "      <td>30</td>\n",
       "      <td>2</td>\n",
       "      <td>3</td>\n",
       "      <td>NaN</td>\n",
       "      <td>NaN</td>\n",
       "      <td>NaN</td>\n",
       "    </tr>\n",
       "    <tr>\n",
       "      <th>8472</th>\n",
       "      <td>12</td>\n",
       "      <td>20</td>\n",
       "      <td>0</td>\n",
       "      <td>2</td>\n",
       "      <td>NaN</td>\n",
       "      <td>NaN</td>\n",
       "      <td>NaN</td>\n",
       "    </tr>\n",
       "    <tr>\n",
       "      <th>8473</th>\n",
       "      <td>12</td>\n",
       "      <td>20</td>\n",
       "      <td>1</td>\n",
       "      <td>2</td>\n",
       "      <td>NaN</td>\n",
       "      <td>NaN</td>\n",
       "      <td>NaN</td>\n",
       "    </tr>\n",
       "    <tr>\n",
       "      <th>8474</th>\n",
       "      <td>12</td>\n",
       "      <td>20</td>\n",
       "      <td>2</td>\n",
       "      <td>2</td>\n",
       "      <td>NaN</td>\n",
       "      <td>NaN</td>\n",
       "      <td>NaN</td>\n",
       "    </tr>\n",
       "    <tr>\n",
       "      <th>8475</th>\n",
       "      <td>12</td>\n",
       "      <td>20</td>\n",
       "      <td>3</td>\n",
       "      <td>2</td>\n",
       "      <td>NaN</td>\n",
       "      <td>NaN</td>\n",
       "      <td>NaN</td>\n",
       "    </tr>\n",
       "    <tr>\n",
       "      <th>8476</th>\n",
       "      <td>12</td>\n",
       "      <td>20</td>\n",
       "      <td>4</td>\n",
       "      <td>2</td>\n",
       "      <td>NaN</td>\n",
       "      <td>NaN</td>\n",
       "      <td>NaN</td>\n",
       "    </tr>\n",
       "    <tr>\n",
       "      <th>8477</th>\n",
       "      <td>12</td>\n",
       "      <td>20</td>\n",
       "      <td>5</td>\n",
       "      <td>2</td>\n",
       "      <td>NaN</td>\n",
       "      <td>NaN</td>\n",
       "      <td>NaN</td>\n",
       "    </tr>\n",
       "    <tr>\n",
       "      <th>8615</th>\n",
       "      <td>12</td>\n",
       "      <td>25</td>\n",
       "      <td>23</td>\n",
       "      <td>0</td>\n",
       "      <td>NaN</td>\n",
       "      <td>NaN</td>\n",
       "      <td>NaN</td>\n",
       "    </tr>\n",
       "    <tr>\n",
       "      <th>8617</th>\n",
       "      <td>12</td>\n",
       "      <td>26</td>\n",
       "      <td>1</td>\n",
       "      <td>1</td>\n",
       "      <td>NaN</td>\n",
       "      <td>NaN</td>\n",
       "      <td>NaN</td>\n",
       "    </tr>\n",
       "    <tr>\n",
       "      <th>8642</th>\n",
       "      <td>12</td>\n",
       "      <td>27</td>\n",
       "      <td>2</td>\n",
       "      <td>2</td>\n",
       "      <td>NaN</td>\n",
       "      <td>NaN</td>\n",
       "      <td>NaN</td>\n",
       "    </tr>\n",
       "    <tr>\n",
       "      <th>8717</th>\n",
       "      <td>12</td>\n",
       "      <td>30</td>\n",
       "      <td>5</td>\n",
       "      <td>5</td>\n",
       "      <td>NaN</td>\n",
       "      <td>NaN</td>\n",
       "      <td>NaN</td>\n",
       "    </tr>\n",
       "  </tbody>\n",
       "</table>\n",
       "</div>"
      ],
      "text/plain": [
       "      month  day  hour  weekday  precip  temp  trips\n",
       "195       1    9     3        0     NaN   NaN    NaN\n",
       "387       1   17     3        1     NaN   NaN    NaN\n",
       "938       2    9     2        3     NaN   NaN    NaN\n",
       "963       2   10     3        4     NaN   NaN    NaN\n",
       "1562      3    7     2        1     NaN   NaN    NaN\n",
       "1682      3   12     2        6     NaN   NaN    NaN\n",
       "2114      3   30     2        3     NaN   NaN    NaN\n",
       "8472     12   20     0        2     NaN   NaN    NaN\n",
       "8473     12   20     1        2     NaN   NaN    NaN\n",
       "8474     12   20     2        2     NaN   NaN    NaN\n",
       "8475     12   20     3        2     NaN   NaN    NaN\n",
       "8476     12   20     4        2     NaN   NaN    NaN\n",
       "8477     12   20     5        2     NaN   NaN    NaN\n",
       "8615     12   25    23        0     NaN   NaN    NaN\n",
       "8617     12   26     1        1     NaN   NaN    NaN\n",
       "8642     12   27     2        2     NaN   NaN    NaN\n",
       "8717     12   30     5        5     NaN   NaN    NaN"
      ]
     },
     "execution_count": 4,
     "metadata": {},
     "output_type": "execute_result"
    }
   ],
   "source": [
    "hourly_2017 = (datetime(year=2017, month=1, day=1, hour=0)) + pd.to_timedelta(np.arange(365 * 24), 'H')\n",
    "\n",
    "hourly_2017_df = pd.DataFrame(hourly_2017)\n",
    "hourly_2017_df[0] = pd.to_datetime(hourly_2017_df[0])\n",
    "hourly_2017_df[\"month\"] = hourly_2017_df[0].apply(lambda date: date.month)\n",
    "hourly_2017_df[\"day\"] = hourly_2017_df[0].apply(lambda date: date.day)\n",
    "hourly_2017_df[\"hour\"] = hourly_2017_df[0].apply(lambda date: date.hour)\n",
    "hourly_2017_df[\"weekday\"] = hourly_2017_df[0].apply(lambda date: date.weekday())\n",
    "hourly_2017_df = hourly_2017_df.drop(0, 1)\n",
    "\n",
    "hourly_bikesharing_demand = pd.merge(hourly_2017_df, raw_data, on=['month', 'day', 'hour', 'hour' , 'weekday'], how='left')\n",
    "hourly_bikesharing_demand[hourly_bikesharing_demand[\"trips\"].isnull() == True]"
   ]
  },
  {
   "attachments": {},
   "cell_type": "markdown",
   "id": "b7a1bfc6",
   "metadata": {},
   "source": [
    "These 17 missing values will be filled with 0 in the trips column since there were no trips and the missing weather data will be filled forward filled just like in the data preperation"
   ]
  },
  {
   "cell_type": "code",
   "execution_count": 5,
   "id": "7534d7e2",
   "metadata": {
    "scrolled": false
   },
   "outputs": [
    {
     "name": "stdout",
     "output_type": "stream",
     "text": [
      "<class 'pandas.core.frame.DataFrame'>\n",
      "Int64Index: 8760 entries, 0 to 8759\n",
      "Data columns (total 7 columns):\n",
      " #   Column   Non-Null Count  Dtype  \n",
      "---  ------   --------------  -----  \n",
      " 0   month    8760 non-null   int64  \n",
      " 1   day      8760 non-null   int64  \n",
      " 2   hour     8760 non-null   int64  \n",
      " 3   weekday  8760 non-null   int64  \n",
      " 4   precip   8760 non-null   float64\n",
      " 5   temp     8760 non-null   float64\n",
      " 6   trips    8760 non-null   float64\n",
      "dtypes: float64(3), int64(4)\n",
      "memory usage: 547.5 KB\n"
     ]
    }
   ],
   "source": [
    "hourly_bikesharing_demand['trips'] = hourly_bikesharing_demand['trips'].fillna(0)\n",
    "hourly_bikesharing_demand = hourly_bikesharing_demand.fillna(method='ffill')\n",
    "hourly_bikesharing_demand.info()"
   ]
  },
  {
   "attachments": {},
   "cell_type": "markdown",
   "id": "aa03cce0",
   "metadata": {},
   "source": [
    "Our precipitation as well as trip count are in float, while they should simply be an int (0 or 1). Weekday will be transformed to a weekend or not feature "
   ]
  },
  {
   "cell_type": "code",
   "execution_count": 6,
   "id": "9cb3a80d",
   "metadata": {},
   "outputs": [],
   "source": [
    "def weekend_(x):\n",
    "    if x >= 5:\n",
    "        return '1'\n",
    "    else:\n",
    "        return '0'\n",
    "\n",
    "hourly_bikesharing_demand['weekend'] = hourly_bikesharing_demand['weekday'].apply(weekend_)"
   ]
  },
  {
   "cell_type": "code",
   "execution_count": 7,
   "id": "d19e64a0",
   "metadata": {
    "scrolled": true
   },
   "outputs": [
    {
     "data": {
      "text/html": [
       "<div>\n",
       "<style scoped>\n",
       "    .dataframe tbody tr th:only-of-type {\n",
       "        vertical-align: middle;\n",
       "    }\n",
       "\n",
       "    .dataframe tbody tr th {\n",
       "        vertical-align: top;\n",
       "    }\n",
       "\n",
       "    .dataframe thead th {\n",
       "        text-align: right;\n",
       "    }\n",
       "</style>\n",
       "<table border=\"1\" class=\"dataframe\">\n",
       "  <thead>\n",
       "    <tr style=\"text-align: right;\">\n",
       "      <th></th>\n",
       "      <th>month</th>\n",
       "      <th>day</th>\n",
       "      <th>hour</th>\n",
       "      <th>weekday</th>\n",
       "      <th>precip</th>\n",
       "      <th>temp</th>\n",
       "      <th>trips</th>\n",
       "      <th>weekend</th>\n",
       "    </tr>\n",
       "  </thead>\n",
       "  <tbody>\n",
       "    <tr>\n",
       "      <th>0</th>\n",
       "      <td>1</td>\n",
       "      <td>1</td>\n",
       "      <td>0</td>\n",
       "      <td>6</td>\n",
       "      <td>0</td>\n",
       "      <td>-0.6</td>\n",
       "      <td>46</td>\n",
       "      <td>1</td>\n",
       "    </tr>\n",
       "    <tr>\n",
       "      <th>1</th>\n",
       "      <td>1</td>\n",
       "      <td>1</td>\n",
       "      <td>1</td>\n",
       "      <td>6</td>\n",
       "      <td>0</td>\n",
       "      <td>-2.2</td>\n",
       "      <td>46</td>\n",
       "      <td>1</td>\n",
       "    </tr>\n",
       "    <tr>\n",
       "      <th>2</th>\n",
       "      <td>1</td>\n",
       "      <td>1</td>\n",
       "      <td>2</td>\n",
       "      <td>6</td>\n",
       "      <td>0</td>\n",
       "      <td>-2.8</td>\n",
       "      <td>36</td>\n",
       "      <td>1</td>\n",
       "    </tr>\n",
       "    <tr>\n",
       "      <th>3</th>\n",
       "      <td>1</td>\n",
       "      <td>1</td>\n",
       "      <td>3</td>\n",
       "      <td>6</td>\n",
       "      <td>0</td>\n",
       "      <td>-3.3</td>\n",
       "      <td>18</td>\n",
       "      <td>1</td>\n",
       "    </tr>\n",
       "    <tr>\n",
       "      <th>4</th>\n",
       "      <td>1</td>\n",
       "      <td>1</td>\n",
       "      <td>4</td>\n",
       "      <td>6</td>\n",
       "      <td>0</td>\n",
       "      <td>-3.3</td>\n",
       "      <td>6</td>\n",
       "      <td>1</td>\n",
       "    </tr>\n",
       "    <tr>\n",
       "      <th>...</th>\n",
       "      <td>...</td>\n",
       "      <td>...</td>\n",
       "      <td>...</td>\n",
       "      <td>...</td>\n",
       "      <td>...</td>\n",
       "      <td>...</td>\n",
       "      <td>...</td>\n",
       "      <td>...</td>\n",
       "    </tr>\n",
       "    <tr>\n",
       "      <th>8755</th>\n",
       "      <td>12</td>\n",
       "      <td>31</td>\n",
       "      <td>19</td>\n",
       "      <td>6</td>\n",
       "      <td>0</td>\n",
       "      <td>-11.1</td>\n",
       "      <td>20</td>\n",
       "      <td>1</td>\n",
       "    </tr>\n",
       "    <tr>\n",
       "      <th>8756</th>\n",
       "      <td>12</td>\n",
       "      <td>31</td>\n",
       "      <td>20</td>\n",
       "      <td>6</td>\n",
       "      <td>0</td>\n",
       "      <td>-10.6</td>\n",
       "      <td>20</td>\n",
       "      <td>1</td>\n",
       "    </tr>\n",
       "    <tr>\n",
       "      <th>8757</th>\n",
       "      <td>12</td>\n",
       "      <td>31</td>\n",
       "      <td>21</td>\n",
       "      <td>6</td>\n",
       "      <td>0</td>\n",
       "      <td>-10.6</td>\n",
       "      <td>13</td>\n",
       "      <td>1</td>\n",
       "    </tr>\n",
       "    <tr>\n",
       "      <th>8758</th>\n",
       "      <td>12</td>\n",
       "      <td>31</td>\n",
       "      <td>22</td>\n",
       "      <td>6</td>\n",
       "      <td>0</td>\n",
       "      <td>-11.7</td>\n",
       "      <td>9</td>\n",
       "      <td>1</td>\n",
       "    </tr>\n",
       "    <tr>\n",
       "      <th>8759</th>\n",
       "      <td>12</td>\n",
       "      <td>31</td>\n",
       "      <td>23</td>\n",
       "      <td>6</td>\n",
       "      <td>0</td>\n",
       "      <td>-12.8</td>\n",
       "      <td>6</td>\n",
       "      <td>1</td>\n",
       "    </tr>\n",
       "  </tbody>\n",
       "</table>\n",
       "<p>8760 rows × 8 columns</p>\n",
       "</div>"
      ],
      "text/plain": [
       "      month  day  hour  weekday  precip  temp  trips weekend\n",
       "0         1    1     0        6       0  -0.6     46       1\n",
       "1         1    1     1        6       0  -2.2     46       1\n",
       "2         1    1     2        6       0  -2.8     36       1\n",
       "3         1    1     3        6       0  -3.3     18       1\n",
       "4         1    1     4        6       0  -3.3      6       1\n",
       "...     ...  ...   ...      ...     ...   ...    ...     ...\n",
       "8755     12   31    19        6       0 -11.1     20       1\n",
       "8756     12   31    20        6       0 -10.6     20       1\n",
       "8757     12   31    21        6       0 -10.6     13       1\n",
       "8758     12   31    22        6       0 -11.7      9       1\n",
       "8759     12   31    23        6       0 -12.8      6       1\n",
       "\n",
       "[8760 rows x 8 columns]"
      ]
     },
     "execution_count": 7,
     "metadata": {},
     "output_type": "execute_result"
    }
   ],
   "source": [
    "hourly_bikesharing_demand['precip'] = hourly_bikesharing_demand['precip'].apply(lambda precip: int(precip))\n",
    "hourly_bikesharing_demand['trips'] = hourly_bikesharing_demand['trips'].apply(lambda count: int(count))\n",
    "hourly_bikesharing_demand"
   ]
  },
  {
   "attachments": {},
   "cell_type": "markdown",
   "metadata": {},
   "source": [
    "Lastly, the weekday and day feature will be dropped, since we will use an weekend or not feature as an substitute for weekday and day has no explanatory value, as number of trips which will be made on a specific day without taking the weekday into account will be very low."
   ]
  },
  {
   "cell_type": "code",
   "execution_count": 8,
   "metadata": {},
   "outputs": [],
   "source": [
    "hourly_bikesharing_demand.drop(['day', 'weekday'], axis=1, inplace=True)"
   ]
  },
  {
   "attachments": {},
   "cell_type": "markdown",
   "metadata": {},
   "source": [
    "Lets have an overlook over our data, the means, the standard deviations and min / max values"
   ]
  },
  {
   "cell_type": "code",
   "execution_count": 9,
   "id": "509b30e0",
   "metadata": {},
   "outputs": [
    {
     "data": {
      "text/html": [
       "<div>\n",
       "<style scoped>\n",
       "    .dataframe tbody tr th:only-of-type {\n",
       "        vertical-align: middle;\n",
       "    }\n",
       "\n",
       "    .dataframe tbody tr th {\n",
       "        vertical-align: top;\n",
       "    }\n",
       "\n",
       "    .dataframe thead th {\n",
       "        text-align: right;\n",
       "    }\n",
       "</style>\n",
       "<table border=\"1\" class=\"dataframe\">\n",
       "  <thead>\n",
       "    <tr style=\"text-align: right;\">\n",
       "      <th></th>\n",
       "      <th>month</th>\n",
       "      <th>hour</th>\n",
       "      <th>precip</th>\n",
       "      <th>temp</th>\n",
       "      <th>trips</th>\n",
       "    </tr>\n",
       "  </thead>\n",
       "  <tbody>\n",
       "    <tr>\n",
       "      <th>count</th>\n",
       "      <td>8760.000000</td>\n",
       "      <td>8760.000000</td>\n",
       "      <td>8760.000000</td>\n",
       "      <td>8760.000000</td>\n",
       "      <td>8760.000000</td>\n",
       "    </tr>\n",
       "    <tr>\n",
       "      <th>mean</th>\n",
       "      <td>6.526027</td>\n",
       "      <td>11.500000</td>\n",
       "      <td>0.087443</td>\n",
       "      <td>11.517888</td>\n",
       "      <td>437.095205</td>\n",
       "    </tr>\n",
       "    <tr>\n",
       "      <th>std</th>\n",
       "      <td>3.448048</td>\n",
       "      <td>6.922582</td>\n",
       "      <td>0.282499</td>\n",
       "      <td>10.915560</td>\n",
       "      <td>498.340244</td>\n",
       "    </tr>\n",
       "    <tr>\n",
       "      <th>min</th>\n",
       "      <td>1.000000</td>\n",
       "      <td>0.000000</td>\n",
       "      <td>0.000000</td>\n",
       "      <td>-19.400000</td>\n",
       "      <td>0.000000</td>\n",
       "    </tr>\n",
       "    <tr>\n",
       "      <th>25%</th>\n",
       "      <td>4.000000</td>\n",
       "      <td>5.750000</td>\n",
       "      <td>0.000000</td>\n",
       "      <td>3.300000</td>\n",
       "      <td>57.750000</td>\n",
       "    </tr>\n",
       "    <tr>\n",
       "      <th>50%</th>\n",
       "      <td>7.000000</td>\n",
       "      <td>11.500000</td>\n",
       "      <td>0.000000</td>\n",
       "      <td>11.700000</td>\n",
       "      <td>234.500000</td>\n",
       "    </tr>\n",
       "    <tr>\n",
       "      <th>75%</th>\n",
       "      <td>10.000000</td>\n",
       "      <td>17.250000</td>\n",
       "      <td>0.000000</td>\n",
       "      <td>20.600000</td>\n",
       "      <td>660.000000</td>\n",
       "    </tr>\n",
       "    <tr>\n",
       "      <th>max</th>\n",
       "      <td>12.000000</td>\n",
       "      <td>23.000000</td>\n",
       "      <td>1.000000</td>\n",
       "      <td>35.000000</td>\n",
       "      <td>2852.000000</td>\n",
       "    </tr>\n",
       "  </tbody>\n",
       "</table>\n",
       "</div>"
      ],
      "text/plain": [
       "             month         hour       precip         temp        trips\n",
       "count  8760.000000  8760.000000  8760.000000  8760.000000  8760.000000\n",
       "mean      6.526027    11.500000     0.087443    11.517888   437.095205\n",
       "std       3.448048     6.922582     0.282499    10.915560   498.340244\n",
       "min       1.000000     0.000000     0.000000   -19.400000     0.000000\n",
       "25%       4.000000     5.750000     0.000000     3.300000    57.750000\n",
       "50%       7.000000    11.500000     0.000000    11.700000   234.500000\n",
       "75%      10.000000    17.250000     0.000000    20.600000   660.000000\n",
       "max      12.000000    23.000000     1.000000    35.000000  2852.000000"
      ]
     },
     "execution_count": 9,
     "metadata": {},
     "output_type": "execute_result"
    }
   ],
   "source": [
    "hourly_bikesharing_demand.describe()"
   ]
  },
  {
   "attachments": {},
   "cell_type": "markdown",
   "metadata": {},
   "source": [
    "Also we will calculate MAD - Mean abslute deviation for a later use"
   ]
  },
  {
   "cell_type": "code",
   "execution_count": 10,
   "metadata": {},
   "outputs": [
    {
     "data": {
      "text/plain": [
       "388.91142819163474"
      ]
     },
     "execution_count": 10,
     "metadata": {},
     "output_type": "execute_result"
    }
   ],
   "source": [
    "def Mean_Absolute_Deviation(x):\n",
    "    mean_trips = hourly_bikesharing_demand['trips'].mean(axis=0)\n",
    "    x = x - mean_trips\n",
    "    if x < 0:\n",
    "        return x*-1\n",
    "    else:\n",
    "        return x\n",
    "    \n",
    "hourly_bikesharing_demand['AD'] = hourly_bikesharing_demand['trips'].apply(Mean_Absolute_Deviation)\n",
    "mad = hourly_bikesharing_demand['AD'].mean(axis=0)\n",
    "mad"
   ]
  },
  {
   "cell_type": "markdown",
   "id": "1cde0cd0",
   "metadata": {},
   "source": [
    "## Model Building"
   ]
  },
  {
   "cell_type": "markdown",
   "id": "f0f71cc4",
   "metadata": {},
   "source": [
    "Select three regression algorithms that are suitable for the prediction task at hand. Explain and justify why you selected the three algorithms and describe their respective advantages and drawbacks."
   ]
  },
  {
   "attachments": {},
   "cell_type": "markdown",
   "metadata": {},
   "source": [
    "First we will select basic linear regression to set a baseline for our regression models. To show how changes affect the performance. we will then fit it with polynomial features and an error term for high coefficeint values. The benefit of an polynomial linear regression is that is should fit the data well and can be easily setup and tuned, but it has an exponential high computing time for high degrees and has limited tuning options."
   ]
  },
  {
   "attachments": {},
   "cell_type": "markdown",
   "metadata": {},
   "source": [
    "### Linear Regression with Polynomial Features"
   ]
  },
  {
   "attachments": {},
   "cell_type": "markdown",
   "metadata": {},
   "source": [
    "Polynomial regression, first using linear regression with polynomial features, later introducing a penalty for larger coefficients, using ridge and lasso regression."
   ]
  },
  {
   "cell_type": "code",
   "execution_count": 11,
   "id": "04322841",
   "metadata": {},
   "outputs": [
    {
     "name": "stdout",
     "output_type": "stream",
     "text": [
      "Size of training data set: 4380\n",
      "Size of validation data set: 2628\n",
      "Size of test data set: 1752\n"
     ]
    }
   ],
   "source": [
    "X_full = hourly_bikesharing_demand[['temp', 'weekend', 'month', 'hour']]\n",
    "y = hourly_bikesharing_demand['trips']\n",
    "\n",
    "X_train, X_temp, y_train, y_temp = train_test_split(X_full, y,\n",
    "    test_size=0.5, shuffle = True, random_state = 8)\n",
    "X_validation, X_test, y_validation, y_test = train_test_split(X_temp, y_temp,\n",
    "    test_size=0.4, shuffle = True, random_state = 8) # 0,4 * 0,5 = 0,2\n",
    "\n",
    "print('Size of training data set: ' + str(len(X_train)))\n",
    "print('Size of validation data set: ' + str(len(X_validation)))\n",
    "print('Size of test data set: ' + str(len(X_test)))"
   ]
  },
  {
   "attachments": {},
   "cell_type": "markdown",
   "metadata": {},
   "source": [
    "Helper function: Evaluation"
   ]
  },
  {
   "cell_type": "code",
   "execution_count": 12,
   "metadata": {},
   "outputs": [],
   "source": [
    "def eval(target, pred):\n",
    "    MAE = mean_absolute_error(target, pred)\n",
    "    RMSE = math.sqrt(mean_squared_error(target, pred))\n",
    "    R2 = r2_score(target, pred)\n",
    "\n",
    "    print(\"MAE: \" + str(MAE))\n",
    "    print(\"RMSE: \" + str(RMSE))\n",
    "    print(\"R^2: \" + str(R2))"
   ]
  },
  {
   "attachments": {},
   "cell_type": "markdown",
   "metadata": {},
   "source": [
    "For comparision we will first try to fit the data to a normal linear regression"
   ]
  },
  {
   "cell_type": "code",
   "execution_count": 13,
   "metadata": {},
   "outputs": [
    {
     "name": "stdout",
     "output_type": "stream",
     "text": [
      "MAE: 321.7924100661075\n",
      "RMSE: 428.15445454366426\n",
      "R^2: 0.24605518919314862\n"
     ]
    }
   ],
   "source": [
    "lin_reg = LinearRegression()\n",
    "lin_reg.fit(X_train, y_train)\n",
    "\n",
    "pred = lin_reg.predict(X_validation)\n",
    "eval(y_validation, pred)"
   ]
  },
  {
   "attachments": {},
   "cell_type": "markdown",
   "metadata": {},
   "source": [
    "Now we will use polynomial features. <br> For this we will generate polynomial features for the whole dataset and because of the shifted magnitude, standarize the data right after. "
   ]
  },
  {
   "cell_type": "code",
   "execution_count": 14,
   "metadata": {},
   "outputs": [
    {
     "name": "stdout",
     "output_type": "stream",
     "text": [
      "MAE: 260.5952624671921\n",
      "RMSE: 342.4928301441031\n",
      "R^2: 0.5175619078417837\n"
     ]
    }
   ],
   "source": [
    "poly = PolynomialFeatures(degree = 2)\n",
    "X_train_poly = poly.fit_transform(X_train)\n",
    "\n",
    "scaler = StandardScaler()\n",
    "X_train_poly_scaled = scaler.fit_transform(X_train_poly) \n",
    "\n",
    "X_vali_poly = poly.transform(X_validation)\n",
    "X_vali_poly_scaled = scaler.transform(X_vali_poly)\n",
    "\n",
    "poly_reg = LinearRegression()\n",
    "poly_reg.fit(X_train_poly_scaled, y_train)\n",
    "pred = poly_reg.predict(X_vali_poly_scaled)\n",
    "eval(y_validation, pred)"
   ]
  },
  {
   "attachments": {},
   "cell_type": "markdown",
   "metadata": {},
   "source": [
    "The PolynomialFeatures function of scikitlearn has 3 different options, lets try to optimize our Features by trying them out. include_bias creates an artificial intercept, while interaction_only gives the option to not generate features which are just multiplies of the base feature (so there are only polynomial features in which the base feature interacts with other base features)"
   ]
  },
  {
   "cell_type": "code",
   "execution_count": 15,
   "metadata": {},
   "outputs": [
    {
     "name": "stdout",
     "output_type": "stream",
     "text": [
      "0.2621167436119527\n",
      "0.5175619078417837\n",
      "0.2621167436119528\n"
     ]
    }
   ],
   "source": [
    "#include_bias = False erschafft keinen künstlichen Intercept, interaction_only = False nicht nur Features mit degree distinct input Features werden produziert\n",
    "opts = list()\n",
    "opts.append(PolynomialFeatures(degree = 2, interaction_only = True))\n",
    "opts.append(PolynomialFeatures(degree = 2, include_bias = False))\n",
    "opts.append(PolynomialFeatures(degree = 2, interaction_only = True, include_bias = False))\n",
    "for choice in opts:\n",
    "    X_train_poly = choice.fit_transform(X_train)\n",
    "\n",
    "    X_train_poly_scaled = scaler.fit_transform(X_train_poly) \n",
    "\n",
    "    X_vali_poly = choice.transform(X_validation)\n",
    "    X_vali_poly_scaled = scaler.transform(X_vali_poly)\n",
    "\n",
    "    poly_reg.fit(X_train_poly_scaled, y_train)\n",
    "    pred = poly_reg.predict(X_vali_poly_scaled)\n",
    "    print(r2_score(y_validation, pred))\n",
    "    "
   ]
  },
  {
   "attachments": {},
   "cell_type": "markdown",
   "metadata": {},
   "source": [
    "It seems every single option is worse than the default options, but no bias is close to the exact to original output, for degree 2 even identical. Now lets try the performance of different Regression methods using weiths for larger coefficients. First we have to regenerate the polynomial features"
   ]
  },
  {
   "cell_type": "code",
   "execution_count": 16,
   "metadata": {},
   "outputs": [],
   "source": [
    "#first pol features without options again\n",
    "poly = PolynomialFeatures(degree = 2)\n",
    "X_train_poly = poly.fit_transform(X_train)\n",
    "\n",
    "scaler = StandardScaler()\n",
    "X_train_poly_scaled = scaler.fit_transform(X_train_poly) \n",
    "\n",
    "X_vali_poly = poly.transform(X_validation)\n",
    "X_vali_poly_scaled = scaler.transform(X_vali_poly)"
   ]
  },
  {
   "attachments": {},
   "cell_type": "markdown",
   "metadata": {},
   "source": [
    "Ridge"
   ]
  },
  {
   "cell_type": "code",
   "execution_count": 17,
   "id": "3ab40b59",
   "metadata": {
    "scrolled": false
   },
   "outputs": [
    {
     "name": "stdout",
     "output_type": "stream",
     "text": [
      "Ridge, alpha 0\n",
      "MAE: 260.60527042805586\n",
      "RMSE: 342.50532206604214\n",
      "R^2: 0.5175267147611551\n",
      "Ridge, alpha 1\n",
      "MAE: 260.36181639564717\n",
      "RMSE: 342.512382827452\n",
      "R^2: 0.5175068221425703\n"
     ]
    }
   ],
   "source": [
    "#Ridge(alpha = regu_param, normalize = True, solver = 'lsqr')\n",
    "\n",
    "#should have the same results as linear regression, but there may be computational complications when running with 0, according to the sklearn documentation, as in this case\n",
    "model_L2_no = Ridge(alpha = 0)\n",
    "model_L2_no.fit(X_train_poly_scaled, y_train)\n",
    "pred = model_L2_no.predict(X_vali_poly_scaled)\n",
    "print(\"Ridge, alpha 0\")\n",
    "eval(y_validation, pred)\n",
    "\n",
    "model_L2 = Ridge(alpha = 1)\n",
    "model_L2.fit(X_train_poly_scaled, y_train)\n",
    "pred = model_L2.predict(X_vali_poly_scaled)\n",
    "print(\"Ridge, alpha 1\")\n",
    "eval(y_validation, pred)"
   ]
  },
  {
   "attachments": {},
   "cell_type": "markdown",
   "metadata": {},
   "source": [
    "Lasso"
   ]
  },
  {
   "cell_type": "code",
   "execution_count": 18,
   "metadata": {},
   "outputs": [
    {
     "name": "stdout",
     "output_type": "stream",
     "text": [
      "Lasso, alpha 0\n",
      "MAE: 260.59526244203573\n",
      "RMSE: 342.4928301318825\n",
      "R^2: 0.5175619078762116\n",
      "Lasso, alpha 1\n",
      "MAE: 258.9085074571786\n",
      "RMSE: 342.52443557941115\n",
      "R^2: 0.5174728644043656\n"
     ]
    }
   ],
   "source": [
    "model_L1_no = Lasso(alpha = 0)\n",
    "model_L1_no.fit(X_train_poly_scaled, y_train)\n",
    "\n",
    "pred = model_L1_no.predict(X_vali_poly_scaled)\n",
    "print(\"Lasso, alpha 0\")\n",
    "eval(y_validation, pred)\n",
    "\n",
    "model_L1 = Lasso(alpha = 1)\n",
    "model_L1.fit(X_train_poly_scaled, y_train)\n",
    "\n",
    "pred = model_L1.predict(X_vali_poly_scaled)\n",
    "print(\"Lasso, alpha 1\")\n",
    "eval(y_validation, pred)"
   ]
  },
  {
   "attachments": {},
   "cell_type": "markdown",
   "metadata": {},
   "source": [
    "The results are roughly the same, since regularization isn't really necessary for Polynomial degree 2. Therefore we should find the optimal polynomial degree first <br>\n",
    "While finding out which PolynomialFeatures degree option is the most efficient, interaction_only will not be considered, since it performance was so bad and bias will not be considered since it performs nearly the same "
   ]
  },
  {
   "attachments": {},
   "cell_type": "markdown",
   "metadata": {},
   "source": [
    "About our scoring methods, As our lecturer told me: Since RMSE is lower than the standard deviation of 498.340244 and MAE is lower than the Mean absolute deviation of 388.91142819163474, both of these scores are already good for our regression. <br>\n",
    "Therefore, we will going forward use the R2 Score as our base for improving the performance of our regressions. "
   ]
  },
  {
   "attachments": {},
   "cell_type": "markdown",
   "metadata": {},
   "source": [
    "We will now build a function to calculate the degree with the highest R^2 Score in an given range of a minimum and a maximum degree. We will assume this is the optimal degree in this range."
   ]
  },
  {
   "cell_type": "code",
   "execution_count": 19,
   "metadata": {},
   "outputs": [],
   "source": [
    "def get_models(min_deg, max_deg, mod, alpha):\n",
    "    models = dict()\n",
    "    for d in range(min_deg,max_deg+1):\n",
    "        features = PolynomialFeatures(degree=d)\n",
    "        sc = StandardScaler()\n",
    "        if mod == 'ridge':\n",
    "            model = Ridge(alpha = alpha)\n",
    "        elif mod == 'lasso':\n",
    "            model = Lasso(alpha = alpha)\n",
    "        elif mod == 'linear':\n",
    "            model = LinearRegression()\n",
    "        models[str(d)] = Pipeline(steps=[('t', features), ('scaler', sc), ('m', model)])\n",
    "    return models\n",
    "\n",
    "def poly_tuning(min_degree, max_degree, regression_model, alpha = 1, \n",
    "    Xtrain_set = X_train, ytrain_set = y_train, \n",
    "    Xvalidation_set = X_validation, yvalidation_set = y_validation, \n",
    "    plot = True):\n",
    "\n",
    "    results_train, results_val, names = list(), list(), list()\n",
    "    poly_models = get_models(min_degree, max_degree, regression_model, alpha)\n",
    "    \n",
    "    for name, model in poly_models.items():\n",
    "        model.fit(Xtrain_set, ytrain_set)\n",
    "        y_pred_train = model.predict(Xtrain_set)\n",
    "        results_train.append(r2_score(ytrain_set, y_pred_train))\n",
    "        y_pred_val = model.predict(Xvalidation_set)\n",
    "        results_val.append(r2_score(yvalidation_set, y_pred_val))\n",
    "        names.append(name)\n",
    "\n",
    "    if plot:\n",
    "        rcParams['figure.figsize'] = 12, 6\n",
    "        plt.plot(names, results_train)\n",
    "        plt.plot(names, results_val)\n",
    "\n",
    "        plt.title(\"Optimal Polynomial Regression degree\")\n",
    "        plt.legend([\"Training\", \"Validation\"])\n",
    "        plt.xlabel(\"degree\")\n",
    "        plt.ylabel(\"R^2\")\n",
    "        plt.show()\n",
    "    \n",
    "    id = np.argmax(results_val)\n",
    "    return names[id], results_train[id], results_val[id]"
   ]
  },
  {
   "attachments": {},
   "cell_type": "markdown",
   "metadata": {},
   "source": [
    "Finding optimal polynomial degree for normal polynomial regression"
   ]
  },
  {
   "cell_type": "code",
   "execution_count": 20,
   "metadata": {},
   "outputs": [
    {
     "data": {
      "image/png": "[encoded data removed]",
      "text/plain": [
       "<Figure size 864x432 with 1 Axes>"
      ]
     },
     "metadata": {
      "needs_background": "light"
     },
     "output_type": "display_data"
    },
    {
     "data": {
      "text/plain": [
       "('10', 0.8524361404288741, 0.8234414936702723)"
      ]
     },
     "execution_count": 20,
     "metadata": {},
     "output_type": "execute_result"
    }
   ],
   "source": [
    "poly_tuning(2,15, 'linear')"
   ]
  },
  {
   "attachments": {},
   "cell_type": "markdown",
   "metadata": {},
   "source": [
    "Even though R2 is really bad for degrees > 12, degree 10 seems to be the most efficient. "
   ]
  },
  {
   "cell_type": "code",
   "execution_count": 21,
   "metadata": {},
   "outputs": [
    {
     "data": {
      "image/png": "[encoded data removed]",
      "text/plain": [
       "<Figure size 864x432 with 1 Axes>"
      ]
     },
     "metadata": {
      "needs_background": "light"
     },
     "output_type": "display_data"
    },
    {
     "data": {
      "text/plain": [
       "('10', 0.8524361404288741, 0.8234414936702723)"
      ]
     },
     "execution_count": 21,
     "metadata": {},
     "output_type": "execute_result"
    }
   ],
   "source": [
    "poly_tuning(9,11, 'linear')"
   ]
  },
  {
   "cell_type": "code",
   "execution_count": 22,
   "metadata": {},
   "outputs": [
    {
     "name": "stdout",
     "output_type": "stream",
     "text": [
      "Most efficient degree for simple polynomial regression: 10; training R2: 0.8524361404288741; validation R2: 0.8234414936702723\n"
     ]
    }
   ],
   "source": [
    "effi_deg = poly_tuning(2,15, 'linear', plot = False)\n",
    "print('Most efficient degree for simple polynomial regression: ' + str(effi_deg[0]) + '; training R2: ' + str(effi_deg[1]) + '; validation R2: ' + str(effi_deg[2]))"
   ]
  },
  {
   "attachments": {},
   "cell_type": "markdown",
   "metadata": {},
   "source": [
    "Next we will try to find the optimal degree for Ridge, with alpha 0.1 (since alpha usually is a lot smaller than 1)"
   ]
  },
  {
   "cell_type": "code",
   "execution_count": 23,
   "metadata": {},
   "outputs": [
    {
     "data": {
      "image/png": "[encoded data removed]",
      "text/plain": [
       "<Figure size 864x432 with 1 Axes>"
      ]
     },
     "metadata": {
      "needs_background": "light"
     },
     "output_type": "display_data"
    },
    {
     "data": {
      "text/plain": [
       "('15', 0.7610441682312903, 0.7517143485353248)"
      ]
     },
     "execution_count": 23,
     "metadata": {},
     "output_type": "execute_result"
    }
   ],
   "source": [
    "poly_tuning(2,15,'ridge',0.1)"
   ]
  },
  {
   "cell_type": "code",
   "execution_count": 24,
   "metadata": {},
   "outputs": [
    {
     "data": {
      "image/png": "[encoded data removed]",
      "text/plain": [
       "<Figure size 864x432 with 1 Axes>"
      ]
     },
     "metadata": {
      "needs_background": "light"
     },
     "output_type": "display_data"
    },
    {
     "data": {
      "text/plain": [
       "('22', 0.8019720234634221, 0.7828879001780964)"
      ]
     },
     "execution_count": 24,
     "metadata": {},
     "output_type": "execute_result"
    }
   ],
   "source": [
    "poly_tuning(14,25,'ridge',0.1)"
   ]
  },
  {
   "attachments": {},
   "cell_type": "markdown",
   "metadata": {},
   "source": [
    "Is this still optimizable? Maybe with an different alpha?"
   ]
  },
  {
   "cell_type": "code",
   "execution_count": 25,
   "metadata": {},
   "outputs": [
    {
     "data": {
      "image/png": "[encoded data removed]",
      "text/plain": [
       "<Figure size 864x432 with 1 Axes>"
      ]
     },
     "metadata": {
      "needs_background": "light"
     },
     "output_type": "display_data"
    },
    {
     "data": {
      "text/plain": [
       "('18', 0.8210393131901286, 0.8016725679957204)"
      ]
     },
     "execution_count": 25,
     "metadata": {},
     "output_type": "execute_result"
    }
   ],
   "source": [
    "poly_tuning(14,25,'ridge',0.01)"
   ]
  },
  {
   "cell_type": "code",
   "execution_count": 26,
   "metadata": {},
   "outputs": [
    {
     "data": {
      "image/png": "[encoded data removed]",
      "text/plain": [
       "<Figure size 864x432 with 1 Axes>"
      ]
     },
     "metadata": {
      "needs_background": "light"
     },
     "output_type": "display_data"
    },
    {
     "data": {
      "text/plain": [
       "('15', 0.7114634269254851, 0.7099152233995736)"
      ]
     },
     "execution_count": 26,
     "metadata": {},
     "output_type": "execute_result"
    }
   ],
   "source": [
    "poly_tuning(2,15,'lasso', 0.1)"
   ]
  },
  {
   "cell_type": "code",
   "execution_count": 27,
   "metadata": {},
   "outputs": [
    {
     "data": {
      "image/png": "[encoded data removed]",
      "text/plain": [
       "<Figure size 864x432 with 1 Axes>"
      ]
     },
     "metadata": {
      "needs_background": "light"
     },
     "output_type": "display_data"
    },
    {
     "data": {
      "text/plain": [
       "('20', 0.7197114210682617, 0.7174741764527541)"
      ]
     },
     "execution_count": 27,
     "metadata": {},
     "output_type": "execute_result"
    }
   ],
   "source": [
    "#runtime > 2min \n",
    "#output ('20', 0.7197114210682617, 0.7174741764527541)\n",
    "\n",
    "poly_tuning(15,20,'lasso', 0.1)"
   ]
  },
  {
   "attachments": {},
   "cell_type": "markdown",
   "metadata": {},
   "source": [
    "Ridge culminated for some degree around 20, which changes depending on the choosen alpha. <br>\n",
    "Lasso is still continously improving. We should try to optimize the alpha value now, as we can see from the experiment with ridge regression, the degree can change according to the alpha value"
   ]
  },
  {
   "attachments": {},
   "cell_type": "markdown",
   "metadata": {},
   "source": [
    "This is a function whoch sould calculate an optimal degree and alpha in a given range of degrees and range of alphas. For this it uses the optimal degree function"
   ]
  },
  {
   "cell_type": "code",
   "execution_count": 28,
   "metadata": {},
   "outputs": [],
   "source": [
    "def regularization_test(alphas_to_try, min_degree, max_degree, \n",
    "    Xt_set = X_train, yt_set = y_train, Xv_set = X_validation, \n",
    "    yv_set = y_validation, model_name = 'lasso', draw_plot = False):\n",
    "\n",
    "    Feature_Options = []\n",
    "    train_scores = []\n",
    "    validation_scores = []\n",
    "\n",
    "    for curr_alpha in alphas_to_try:\n",
    "\n",
    "        results = poly_tuning(min_degree, max_degree, model_name, \n",
    "        curr_alpha, Xt_set, yt_set, Xv_set, yv_set, False)\n",
    "\n",
    "        Feature_Options.append(results[0])\n",
    "        train_scores.append(results[1])\n",
    "        validation_scores.append(results[2])\n",
    "\n",
    "    chosen_alpha_id = np.argmax(validation_scores)\n",
    "    chosen_alpha = alphas_to_try[chosen_alpha_id]\n",
    "            \n",
    "    if draw_plot:\n",
    "        rcParams['figure.figsize'] = 12, 6\n",
    "        plt.plot(alphas_to_try, train_scores)\n",
    "        plt.plot(alphas_to_try, validation_scores)\n",
    "\n",
    "        plt.title(\"Optimal Regularization Parameter for degree \" + str(max_degree))\n",
    "        plt.legend([\"Training\", \"Validation\"])\n",
    "        plt.xlabel(\"alpha\")\n",
    "        plt.ylabel(\"R^2\")\n",
    "        plt.show()\n",
    "    \n",
    "    return chosen_alpha, Feature_Options[chosen_alpha_id], train_scores[chosen_alpha_id], validation_scores[chosen_alpha_id]"
   ]
  },
  {
   "attachments": {},
   "cell_type": "markdown",
   "metadata": {},
   "source": [
    "Now we will calculate the optimal regularization parameter for ridge"
   ]
  },
  {
   "cell_type": "code",
   "execution_count": 29,
   "metadata": {},
   "outputs": [
    {
     "data": {
      "image/png": "[encoded data removed]",
      "text/plain": [
       "<Figure size 864x432 with 1 Axes>"
      ]
     },
     "metadata": {
      "needs_background": "light"
     },
     "output_type": "display_data"
    },
    {
     "name": "stdout",
     "output_type": "stream",
     "text": [
      "(0.01, '15', 0.799384052631996, 0.7852118887513846)\n"
     ]
    }
   ],
   "source": [
    "alphas = np.linspace(0, 0.1, 11)\n",
    "print(regularization_test(alphas, 2, 15, model_name = 'ridge', draw_plot = True))"
   ]
  },
  {
   "attachments": {},
   "cell_type": "markdown",
   "metadata": {},
   "source": [
    "After continously optimizing regularization and degree of ridge regessions until no major improvement can be found (not in this notebook, since it would take up a lot of space) we arrived at the following roughly optimal alpha"
   ]
  },
  {
   "cell_type": "code",
   "execution_count": 30,
   "metadata": {},
   "outputs": [
    {
     "name": "stdout",
     "output_type": "stream",
     "text": [
      "(5e-06, '12', 0.8471896102346997, 0.8257898365375024)\n"
     ]
    }
   ],
   "source": [
    "alphas = []\n",
    "alphas.append(0.000005)\n",
    "print(regularization_test(alphas, 12, 12, model_name = 'ridge'))"
   ]
  },
  {
   "attachments": {},
   "cell_type": "markdown",
   "metadata": {},
   "source": [
    "After this point there were no improvements in 0.0005 R2 Score range, so this will suffice. Optimal Alpha is 0.000005 and degree 12 for ridge regression on this dataset"
   ]
  },
  {
   "attachments": {},
   "cell_type": "markdown",
   "metadata": {},
   "source": [
    "Now the same thing for Lasso"
   ]
  },
  {
   "cell_type": "code",
   "execution_count": 31,
   "metadata": {},
   "outputs": [
    {
     "data": {
      "image/png": "[encoded data removed]",
      "text/plain": [
       "<Figure size 864x432 with 1 Axes>"
      ]
     },
     "metadata": {
      "needs_background": "light"
     },
     "output_type": "display_data"
    },
    {
     "name": "stdout",
     "output_type": "stream",
     "text": [
      "(0.0, '10', 0.699255464314859, 0.6962295417689153)\n"
     ]
    }
   ],
   "source": [
    "#runtime > 2min \n",
    "#output (0.0, '10', 0.699255464314859, 0.6962295417689153)\n",
    "\n",
    "alphas = np.linspace(0, 0.1, 11)\n",
    "print(regularization_test(alphas, 2, 10, model_name = 'lasso', draw_plot = True))"
   ]
  },
  {
   "cell_type": "code",
   "execution_count": 32,
   "metadata": {},
   "outputs": [
    {
     "data": {
      "image/png": "[encoded data removed]",
      "text/plain": [
       "<Figure size 864x432 with 1 Axes>"
      ]
     },
     "metadata": {
      "needs_background": "light"
     },
     "output_type": "display_data"
    },
    {
     "name": "stdout",
     "output_type": "stream",
     "text": [
      "(0.0, '12', 0.7067495000430725, 0.7039483144705022)\n"
     ]
    }
   ],
   "source": [
    "#runtime > 4min \n",
    "#output (0.0, '12', 0.7067495000430725, 0.7039483144705022)\n",
    "\n",
    "alphas = np.linspace(0, 0.001, 11)\n",
    "print(regularization_test(alphas, 9, 12, model_name = 'lasso', draw_plot = True))"
   ]
  },
  {
   "cell_type": "code",
   "execution_count": 33,
   "metadata": {},
   "outputs": [
    {
     "data": {
      "image/png": "[encoded data removed]",
      "text/plain": [
       "<Figure size 864x432 with 1 Axes>"
      ]
     },
     "metadata": {
      "needs_background": "light"
     },
     "output_type": "display_data"
    },
    {
     "name": "stdout",
     "output_type": "stream",
     "text": [
      "(0.005, '20', 0.7274475978096173, 0.7220505627881275)\n"
     ]
    }
   ],
   "source": [
    "#runtime > 9min \n",
    "#output (0.001, '20', 0.7274775714193451, 0.7219589602456107)\n",
    "\n",
    "alphas = np.linspace(0, 0.01, 11)\n",
    "print(regularization_test(alphas, 20, 20, model_name = 'lasso', draw_plot = True))"
   ]
  },
  {
   "attachments": {},
   "cell_type": "markdown",
   "metadata": {},
   "source": [
    "It's safe to say that Lasso has a very high computional time, while most likely, even for very small alphas, it will be never able to match the R2 Scores of Ridge, therefore we will not look at it further now <br>\n",
    "To sum our best Regressions up:"
   ]
  },
  {
   "cell_type": "code",
   "execution_count": 34,
   "metadata": {},
   "outputs": [
    {
     "name": "stdout",
     "output_type": "stream",
     "text": [
      "Polynomial linear regression, Degree 10: \n",
      "MAE: 137.25790589731642\n",
      "RMSE: 207.19296799502345\n",
      "R^2: 0.8234414936702723\n",
      "Ridge regression, Degree 12, alpha 0.000005: \n",
      "MAE: 138.69101308444667\n",
      "RMSE: 205.81045496877414\n",
      "R^2: 0.8257898365375024\n",
      "Lasso regression, Degree 20, alpha 0.001: \n",
      "MAE: 174.20288261686852\n",
      "RMSE: 260.00705998444096\n",
      "R^2: 0.7219589602456107\n"
     ]
    }
   ],
   "source": [
    "#Polynomial Linear regression\n",
    "poly = PolynomialFeatures(degree = 10)\n",
    "X_train_poly = poly.fit_transform(X_train)\n",
    "\n",
    "scaler = StandardScaler()\n",
    "X_train_poly_scaled = scaler.fit_transform(X_train_poly) \n",
    "\n",
    "X_vali_poly = poly.transform(X_validation)\n",
    "X_vali_poly_scaled = scaler.transform(X_vali_poly)\n",
    "\n",
    "poly_reg = LinearRegression()\n",
    "poly_reg.fit(X_train_poly_scaled, y_train)\n",
    "pred = poly_reg.predict(X_vali_poly_scaled)\n",
    "print(\"Polynomial linear regression, Degree 10: \")\n",
    "eval(y_validation, pred)\n",
    "\n",
    "#Ridge regression\n",
    "poly = PolynomialFeatures(degree = 12)\n",
    "X_train_poly = poly.fit_transform(X_train)\n",
    "\n",
    "scaler = StandardScaler()\n",
    "X_train_poly_scaled = scaler.fit_transform(X_train_poly) \n",
    "\n",
    "X_vali_poly = poly.transform(X_validation)\n",
    "X_vali_poly_scaled = scaler.transform(X_vali_poly)\n",
    "\n",
    "poly_reg = Ridge(alpha = 0.000005)\n",
    "poly_reg.fit(X_train_poly_scaled, y_train)\n",
    "pred = poly_reg.predict(X_vali_poly_scaled)\n",
    "print(\"Ridge regression, Degree 12, alpha 0.000005: \")\n",
    "eval(y_validation, pred)\n",
    "\n",
    "#Lasso regression\n",
    "poly = PolynomialFeatures(degree = 20)\n",
    "X_train_poly = poly.fit_transform(X_train)\n",
    "\n",
    "scaler = StandardScaler()\n",
    "X_train_poly_scaled = scaler.fit_transform(X_train_poly) \n",
    "\n",
    "X_vali_poly = poly.transform(X_validation)\n",
    "X_vali_poly_scaled = scaler.transform(X_vali_poly)\n",
    "\n",
    "poly_reg = Lasso(alpha = 0.001)\n",
    "poly_reg.fit(X_train_poly_scaled, y_train)\n",
    "pred = poly_reg.predict(X_vali_poly_scaled)\n",
    "print(\"Lasso regression, Degree 20, alpha 0.001: \")\n",
    "eval(y_validation, pred)"
   ]
  },
  {
   "attachments": {},
   "cell_type": "markdown",
   "metadata": {},
   "source": [
    "While we tried every option to optimize the regression tasks for our given data set, we didn't try to change the dataset itself. By changing the time features to dummies we will now try to improve our r2"
   ]
  },
  {
   "cell_type": "code",
   "execution_count": 35,
   "metadata": {},
   "outputs": [],
   "source": [
    "Copy = hourly_bikesharing_demand.copy()\n",
    "Copy = pd.get_dummies(Copy, columns=['month'])\n",
    "Copy = pd.get_dummies(Copy, columns=['hour'])"
   ]
  },
  {
   "cell_type": "code",
   "execution_count": 36,
   "metadata": {},
   "outputs": [
    {
     "name": "stdout",
     "output_type": "stream",
     "text": [
      "Size of training data set: 4380\n",
      "Size of validation data set: 2628\n",
      "Size of test data set: 1752\n"
     ]
    }
   ],
   "source": [
    "X2 = Copy[['temp', 'precip', 'weekend', 'month_1', 'month_2', 'month_3',\n",
    "       'month_4', 'month_5', 'month_6', 'month_7', 'month_8', 'month_9',\n",
    "       'month_10', 'month_11', 'month_12', 'hour_0', 'hour_1', 'hour_2',\n",
    "       'hour_3', 'hour_4', 'hour_5', 'hour_6', 'hour_7', 'hour_8', 'hour_9',\n",
    "       'hour_10', 'hour_11', 'hour_12', 'hour_13', 'hour_14', 'hour_15',\n",
    "       'hour_16', 'hour_17', 'hour_18', 'hour_19', 'hour_20', 'hour_21',\n",
    "       'hour_22', 'hour_23']]\n",
    "y2 = Copy['trips']\n",
    "\n",
    "X_train2, X_temp2, y_train2, y_temp2 = train_test_split(X2, y2,\n",
    "    test_size=0.5, shuffle = True, random_state = 8)\n",
    "X_validation2, X_test2, y_validation2, y_test2 = train_test_split(X_temp2, y_temp2,\n",
    "    test_size=0.4, shuffle = True, random_state = 8) # 0,4 * 0,5 = 0,2\n",
    "\n",
    "print('Size of training data set: ' + str(len(X_train2)))\n",
    "print('Size of validation data set: ' + str(len(X_validation2)))\n",
    "print('Size of test data set: ' + str(len(X_test2)))"
   ]
  },
  {
   "cell_type": "code",
   "execution_count": 37,
   "metadata": {},
   "outputs": [
    {
     "name": "stdout",
     "output_type": "stream",
     "text": [
      "MAE: 118.75683809719077\n",
      "RMSE: 183.9129728290649\n",
      "R^2: 0.8608883980269818\n"
     ]
    }
   ],
   "source": [
    "poly = PolynomialFeatures(degree = 2)\n",
    "X_train2_poly = poly.fit_transform(X_train2)\n",
    "\n",
    "scaler = StandardScaler()\n",
    "X_train2_poly_scaled = scaler.fit_transform(X_train2_poly) \n",
    "\n",
    "X_vali2_poly = poly.transform(X_validation2)\n",
    "X_vali2_poly_scaled = scaler.transform(X_vali2_poly)\n",
    "\n",
    "poly_reg = LinearRegression()\n",
    "poly_reg.fit(X_train2_poly_scaled, y_train2)\n",
    "pred = poly_reg.predict(X_vali2_poly_scaled)\n",
    "eval(y_validation2, pred)"
   ]
  },
  {
   "attachments": {},
   "cell_type": "markdown",
   "metadata": {},
   "source": [
    "Right from the start this dataset seems to be way more performative than the anything we have worked on before <br> \n",
    "So we now are back at optimzing the degree"
   ]
  },
  {
   "cell_type": "code",
   "execution_count": 38,
   "metadata": {},
   "outputs": [
    {
     "data": {
      "image/png": "[encoded data removed]",
      "text/plain": [
       "<Figure size 864x432 with 1 Axes>"
      ]
     },
     "metadata": {
      "needs_background": "light"
     },
     "output_type": "display_data"
    },
    {
     "data": {
      "text/plain": [
       "('2', 0.8879240267134632, 0.8608883980269818)"
      ]
     },
     "execution_count": 38,
     "metadata": {},
     "output_type": "execute_result"
    }
   ],
   "source": [
    "poly_tuning(2, 3, 'linear', Xtrain_set = X_train2, \n",
    "    ytrain_set = y_train2, Xvalidation_set = X_validation2, \n",
    "    yvalidation_set = y_validation2)"
   ]
  },
  {
   "attachments": {},
   "cell_type": "markdown",
   "metadata": {},
   "source": [
    "Since degree 3 is already a negative R2, Optimal polynomial degree for linear regression is 2"
   ]
  },
  {
   "cell_type": "code",
   "execution_count": 39,
   "metadata": {},
   "outputs": [
    {
     "data": {
      "image/png": "[encoded data removed]",
      "text/plain": [
       "<Figure size 864x432 with 1 Axes>"
      ]
     },
     "metadata": {
      "needs_background": "light"
     },
     "output_type": "display_data"
    },
    {
     "data": {
      "text/plain": [
       "('2', 0.8923459899567459, 0.8643987477010301)"
      ]
     },
     "execution_count": 39,
     "metadata": {},
     "output_type": "execute_result"
    }
   ],
   "source": [
    "poly_tuning(2, 3, 'ridge', alpha = 0.1, Xtrain_set = X_train2, \n",
    "    ytrain_set = y_train2, Xvalidation_set = X_validation2, \n",
    "    yvalidation_set = y_validation2)"
   ]
  },
  {
   "cell_type": "code",
   "execution_count": 40,
   "metadata": {},
   "outputs": [
    {
     "data": {
      "image/png": "[encoded data removed]",
      "text/plain": [
       "<Figure size 864x432 with 1 Axes>"
      ]
     },
     "metadata": {
      "needs_background": "light"
     },
     "output_type": "display_data"
    },
    {
     "name": "stdout",
     "output_type": "stream",
     "text": [
      "(1.0, '2', 0.8923455015353723, 0.8644363187092006)\n"
     ]
    }
   ],
   "source": [
    "alphas = np.linspace(0, 1, 11)\n",
    "print(regularization_test(alphas, 2, 3, model_name = 'ridge', Xt_set = X_train2, \n",
    "    yt_set = y_train2, Xv_set = X_validation2, \n",
    "    yv_set = y_validation2, draw_plot = True))"
   ]
  },
  {
   "attachments": {},
   "cell_type": "markdown",
   "metadata": {},
   "source": [
    "Optimized alpha and degree through iterative executions"
   ]
  },
  {
   "cell_type": "code",
   "execution_count": 41,
   "metadata": {},
   "outputs": [
    {
     "data": {
      "image/png": "[encoded data removed]",
      "text/plain": [
       "<Figure size 864x432 with 1 Axes>"
      ]
     },
     "metadata": {
      "needs_background": "light"
     },
     "output_type": "display_data"
    },
    {
     "name": "stdout",
     "output_type": "stream",
     "text": [
      "(1110.0, '3', 0.9160377873079062, 0.8732158182396325)\n"
     ]
    }
   ],
   "source": [
    "alphas = np.linspace(1050, 1150, 11)\n",
    "print(regularization_test(alphas, 2, 3, model_name = 'ridge', Xt_set = X_train2, \n",
    "    yt_set = y_train2, Xv_set = X_validation2, \n",
    "    yv_set = y_validation2, draw_plot = True))"
   ]
  },
  {
   "attachments": {},
   "cell_type": "markdown",
   "metadata": {},
   "source": [
    "Next we will optimize Lasso for the dummy dataset"
   ]
  },
  {
   "cell_type": "code",
   "execution_count": 42,
   "metadata": {},
   "outputs": [
    {
     "data": {
      "image/png": "[encoded data removed]",
      "text/plain": [
       "<Figure size 864x432 with 1 Axes>"
      ]
     },
     "metadata": {
      "needs_background": "light"
     },
     "output_type": "display_data"
    },
    {
     "name": "stdout",
     "output_type": "stream",
     "text": [
      "(1.0, '3', 0.9176462435974313, 0.8732271873879942)\n"
     ]
    }
   ],
   "source": [
    "#runtime > 10min \n",
    "#output (1.0, '3', 0.9176462435974313, 0.8732271873879942)\n",
    "\n",
    "alphas = np.linspace(0, 1, 11)\n",
    "print(regularization_test(alphas, 2, 4, model_name = 'lasso', Xt_set = X_train2, \n",
    "    yt_set = y_train2, Xv_set = X_validation2, \n",
    "    yv_set = y_validation2, draw_plot = True))"
   ]
  },
  {
   "attachments": {},
   "cell_type": "markdown",
   "metadata": {},
   "source": [
    "After iterative optimizing"
   ]
  },
  {
   "cell_type": "code",
   "execution_count": 43,
   "metadata": {},
   "outputs": [
    {
     "data": {
      "image/png": "[encoded data removed]",
      "text/plain": [
       "<Figure size 864x432 with 1 Axes>"
      ]
     },
     "metadata": {
      "needs_background": "light"
     },
     "output_type": "display_data"
    },
    {
     "name": "stdout",
     "output_type": "stream",
     "text": [
      "(1.2, '3', 0.9157815565677199, 0.873507778835803)\n"
     ]
    }
   ],
   "source": [
    "#runtime > 1min \n",
    "#output (1.2, '3', 0.9157815565677199, 0.873507778835803)\n",
    "\n",
    "alphas = np.linspace(1, 2, 11)\n",
    "print(regularization_test(alphas, 2, 3, model_name = 'lasso', Xt_set = X_train2, \n",
    "    yt_set = y_train2, Xv_set = X_validation2, \n",
    "    yv_set = y_validation2, draw_plot = True))"
   ]
  },
  {
   "attachments": {},
   "cell_type": "markdown",
   "metadata": {},
   "source": [
    "## Model Evaluation"
   ]
  },
  {
   "attachments": {},
   "cell_type": "markdown",
   "metadata": {},
   "source": [
    "How well do the models perform? Evaluate and benchmark your models’ performance using suitable evaluation metrics. Which model would you select for deployment?"
   ]
  },
  {
   "attachments": {},
   "cell_type": "markdown",
   "metadata": {},
   "source": [
    "It seems, after all, the Ridge & Lasso Regression on the second dataset have the highest performace of close to 87,4% R2 Score on the validation set. Lets look at their MSE to see if it improved"
   ]
  },
  {
   "cell_type": "code",
   "execution_count": 44,
   "metadata": {},
   "outputs": [
    {
     "name": "stdout",
     "output_type": "stream",
     "text": [
      "Performance of Ridge with degree 3 and alpha 1110:\n",
      "MAE: 100.62907258323023\n",
      "RMSE: 175.57522137059598\n",
      "R^2: 0.8732158182396325\n"
     ]
    }
   ],
   "source": [
    "# Ridge (1110.0, '3', 0.9160377873079062, 0.8732158182396325)\n",
    "poly = PolynomialFeatures(degree = 3)\n",
    "X_train2_poly = poly.fit_transform(X_train2)\n",
    "\n",
    "scaler = StandardScaler()\n",
    "X_train2_poly_scaled = scaler.fit_transform(X_train2_poly) \n",
    "\n",
    "X_vali2_poly = poly.transform(X_validation2)\n",
    "X_vali2_poly_scaled = scaler.transform(X_vali2_poly)\n",
    "\n",
    "poly_reg = Ridge(alpha = 1110)\n",
    "poly_reg.fit(X_train2_poly_scaled, y_train2)\n",
    "pred = poly_reg.predict(X_vali2_poly_scaled)\n",
    "print(\"Performance of Ridge with degree 3 and alpha 1110:\")\n",
    "eval(y_validation2, pred)"
   ]
  },
  {
   "cell_type": "code",
   "execution_count": 45,
   "metadata": {},
   "outputs": [
    {
     "name": "stdout",
     "output_type": "stream",
     "text": [
      "Performance of Lasso with degree 3 and alpha 1,2:\n",
      "MAE: 102.04730152797056\n",
      "RMSE: 175.3729461703103\n",
      "R^2: 0.873507778835803\n"
     ]
    }
   ],
   "source": [
    "#Lasso (1.2, '3', 0.9157815565677199, 0.873507778835803)\n",
    "poly = PolynomialFeatures(degree = 3)\n",
    "X_train2_poly = poly.fit_transform(X_train2)\n",
    "\n",
    "scaler = StandardScaler()\n",
    "X_train2_poly_scaled = scaler.fit_transform(X_train2_poly) \n",
    "\n",
    "X_vali2_poly = poly.transform(X_validation2)\n",
    "X_vali2_poly_scaled = scaler.transform(X_vali2_poly)\n",
    "\n",
    "poly_reg = Lasso(alpha = 1.2)\n",
    "poly_reg.fit(X_train2_poly_scaled, y_train2)\n",
    "pred = poly_reg.predict(X_vali2_poly_scaled)\n",
    "print(\"Performance of Lasso with degree 3 and alpha 1,2:\")\n",
    "eval(y_validation2, pred)"
   ]
  },
  {
   "attachments": {},
   "cell_type": "markdown",
   "metadata": {},
   "source": [
    "Since our MAE and RMSE also decreased dramatically, we will call this an success"
   ]
  },
  {
   "attachments": {},
   "cell_type": "markdown",
   "metadata": {},
   "source": [
    "### Test set"
   ]
  },
  {
   "attachments": {},
   "cell_type": "markdown",
   "metadata": {},
   "source": [
    "We will now test the best performing and optimizied algorithm of dataset2 on the test split and compare it with the performace of the the best algorithm of the first dataset on the test set"
   ]
  },
  {
   "cell_type": "code",
   "execution_count": 46,
   "metadata": {},
   "outputs": [
    {
     "name": "stdout",
     "output_type": "stream",
     "text": [
      "Performance of Ridge with degree 3 and alpha 1110:\n",
      "MAE: 96.17864610136465\n",
      "RMSE: 165.95483370807173\n",
      "R^2: 0.893080067488209\n",
      "Performance of Lasso with degree 3 and alpha 1,2:\n",
      "MAE: 96.96610979456521\n",
      "RMSE: 165.89739382936787\n",
      "R^2: 0.8931540684074039\n"
     ]
    }
   ],
   "source": [
    "#Markdown = beide algorythmen, erst für dataset 2\n",
    "#Ridge\n",
    "poly = PolynomialFeatures(degree = 3)\n",
    "X_train2_poly = poly.fit_transform(X_train2)\n",
    "\n",
    "scaler = StandardScaler()\n",
    "X_train2_poly_scaled = scaler.fit_transform(X_train2_poly) \n",
    "\n",
    "X_test2_poly = poly.transform(X_test2)\n",
    "X_test2_poly_scaled = scaler.transform(X_test2_poly)\n",
    "\n",
    "poly_reg = Ridge(alpha = 1110)\n",
    "poly_reg.fit(X_train2_poly_scaled, y_train2)\n",
    "pred = poly_reg.predict(X_test2_poly_scaled)\n",
    "print(\"Performance of Ridge with degree 3 and alpha 1110:\")\n",
    "eval(y_test2, pred)\n",
    "#Lasso\n",
    "poly = PolynomialFeatures(degree = 3)\n",
    "X_train2_poly = poly.fit_transform(X_train2)\n",
    "\n",
    "scaler = StandardScaler()\n",
    "X_train2_poly_scaled = scaler.fit_transform(X_train2_poly) \n",
    "\n",
    "X_test2_poly = poly.transform(X_test2)\n",
    "X_test2_poly_scaled = scaler.transform(X_test2_poly)\n",
    "\n",
    "poly_reg = Lasso(alpha = 1.2)\n",
    "poly_reg.fit(X_train2_poly_scaled, y_train2)\n",
    "pred = poly_reg.predict(X_test2_poly_scaled)\n",
    "print(\"Performance of Lasso with degree 3 and alpha 1,2:\")\n",
    "eval(y_test2, pred)"
   ]
  },
  {
   "attachments": {},
   "cell_type": "markdown",
   "metadata": {},
   "source": [
    "An R^2 Score of close to 90 is a very optimal result compared to where we started. We even managed to reduce our MAE under 100 and also reduce RMSE by an high amount."
   ]
  },
  {
   "attachments": {},
   "cell_type": "markdown",
   "metadata": {},
   "source": [
    "As an comparison the performance of the best performing algorithm on dataset 1"
   ]
  },
  {
   "cell_type": "code",
   "execution_count": 47,
   "metadata": {},
   "outputs": [
    {
     "name": "stdout",
     "output_type": "stream",
     "text": [
      "Ridge regression, Degree 12, alpha 0.000005: \n",
      "MAE: 133.46920000454733\n",
      "RMSE: 201.8880772193021\n",
      "R^2: 0.841765854286746\n"
     ]
    }
   ],
   "source": [
    "poly = PolynomialFeatures(degree = 12)\n",
    "X_train_poly = poly.fit_transform(X_train)\n",
    "\n",
    "scaler = StandardScaler()\n",
    "X_train_poly_scaled = scaler.fit_transform(X_train_poly) \n",
    "\n",
    "X_test_poly = poly.transform(X_test)\n",
    "X_test_poly_scaled = scaler.transform(X_test_poly)\n",
    "\n",
    "poly_reg = Ridge(alpha = 0.000005)\n",
    "poly_reg.fit(X_train_poly_scaled, y_train)\n",
    "pred = poly_reg.predict(X_test_poly_scaled)\n",
    "print(\"Ridge regression, Degree 12, alpha 0.000005: \")\n",
    "eval(y_test, pred)"
   ]
  },
  {
   "attachments": {},
   "cell_type": "markdown",
   "metadata": {},
   "source": [
    "Concluding: The best performing algorithm are both on the second dataset and have a much lower degree. With R^2 Scores close to 90 they perform very well for ML algorithms on a dataset with as much variance as this one"
   ]
  },
  {
   "attachments": {},
   "cell_type": "markdown",
   "metadata": {},
   "source": [
    "## Outlook"
   ]
  },
  {
   "attachments": {},
   "cell_type": "markdown",
   "metadata": {},
   "source": [
    "This will be done in the Report"
   ]
  }
 ],
 "metadata": {
  "kernelspec": {
   "display_name": "base",
   "language": "python",
   "name": "python3"
  },
  "language_info": {
   "codemirror_mode": {
    "name": "ipython",
    "version": 3
   },
   "file_extension": ".py",
   "mimetype": "text/x-python",
   "name": "python",
   "nbconvert_exporter": "python",
   "pygments_lexer": "ipython3",
   "version": "3.9.12"
  },
  "orig_nbformat": 4,
  "vscode": {
   "interpreter": {
    "hash": "a6467a01d5df23dc51c343d569f384d6f6878013175da5eccd9655a66946a61a"
   }
  }
 },
 "nbformat": 4,
 "nbformat_minor": 2
}
