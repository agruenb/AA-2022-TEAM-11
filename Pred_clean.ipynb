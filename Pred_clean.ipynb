{
 "cells": [
  {
   "cell_type": "markdown",
   "id": "8282a11d",
   "metadata": {},
   "source": [
    "# Predictive Analytics"
   ]
  },
  {
   "cell_type": "markdown",
   "id": "a8d6b734",
   "metadata": {},
   "source": [
    "### Predicting future bikesharing demand"
   ]
  },
  {
   "cell_type": "markdown",
   "id": "a8726b3e",
   "metadata": {},
   "source": [
    "Accurately predicting future demand is an important step towards providing a high service level (e.g. by deploying additional bikes or by re-positioning vehicles etc.)"
   ]
  },
  {
   "cell_type": "markdown",
   "id": "8f1b017a",
   "metadata": {},
   "source": [
    "Future demand is a key factor that will steer operational decision making of a shared rental network. As a data scientist it is your responsibility to facilitate this type of decision support. For the purpose of this assignment we will be interested in forecasting total system-level demand in the next hour. To do so, develop a prediction model that predicts bike rental demand as a function of suitable features available in or derived from the datasets (incl. the weather data). <br>\n",
    "– Feature Engineering: Develop a rich set of features that you expect to be correlated with your target. In this process you can draw on your domain knowledge and/or conduct additional research around the topic of demand prediction in vehicle rental networks. Justify your selection of features. <br>\n",
    "– Model Building: Select three regression algorithms that are suitable for the prediction task at hand. Explain and justify why you selected the three algorithms and describe their respective advantages and drawbacks. <br>\n",
    "– Model Evaluation: How well do the models perform? Evaluate and benchmark your models’ performance using suitable evaluation metrics. Which model would you select for deployment? <br>\n",
    "– Outlook: How could the selected model be improved further? Explain some of the improvement levers that you might focus on in a follow-up project. <br>"
   ]
  },
  {
   "cell_type": "markdown",
   "id": "7d0ca58e",
   "metadata": {},
   "source": [
    "## Feature Engineering"
   ]
  },
  {
   "cell_type": "markdown",
   "id": "c78664d5",
   "metadata": {},
   "source": [
    "Develop a rich set of features that you expect to be correlated with your target. In this process you can draw on your domain knowledge and/or conduct additional research around the topic of demand prediction in vehicle rental networks. Justify your selection of features."
   ]
  },
  {
   "cell_type": "code",
   "execution_count": 119,
   "id": "30819d0b",
   "metadata": {},
   "outputs": [],
   "source": [
    "import warnings\n",
    "warnings.filterwarnings('ignore')\n",
    "\n",
    "import pandas as pd\n",
    "import numpy as np\n",
    "from datetime import date, time, datetime, timedelta\n",
    "\n",
    "import matplotlib.pyplot as plt\n",
    "from matplotlib import rcParams\n",
    "\n",
    "from sklearn.preprocessing import StandardScaler, PolynomialFeatures\n",
    "from sklearn.model_selection import train_test_split\n",
    "from sklearn.metrics import mean_absolute_error, mean_squared_error, r2_score\n",
    "from sklearn.linear_model import LinearRegression, Ridge, Lasso, LassoCV"
   ]
  },
  {
   "cell_type": "code",
   "execution_count": 120,
   "id": "acde3ac0",
   "metadata": {},
   "outputs": [
    {
     "data": {
      "text/html": [
       "<div>\n",
       "<style scoped>\n",
       "    .dataframe tbody tr th:only-of-type {\n",
       "        vertical-align: middle;\n",
       "    }\n",
       "\n",
       "    .dataframe tbody tr th {\n",
       "        vertical-align: top;\n",
       "    }\n",
       "\n",
       "    .dataframe thead th {\n",
       "        text-align: right;\n",
       "    }\n",
       "</style>\n",
       "<table border=\"1\" class=\"dataframe\">\n",
       "  <thead>\n",
       "    <tr style=\"text-align: right;\">\n",
       "      <th></th>\n",
       "      <th>start_time</th>\n",
       "      <th>end_time</th>\n",
       "      <th>start_station_id</th>\n",
       "      <th>end_station_id</th>\n",
       "      <th>start_station_name</th>\n",
       "      <th>end_station_name</th>\n",
       "      <th>bike_id</th>\n",
       "      <th>user_type</th>\n",
       "      <th>start_hour</th>\n",
       "      <th>start_day</th>\n",
       "      <th>start_month</th>\n",
       "      <th>start_weekday</th>\n",
       "      <th>max_temp</th>\n",
       "      <th>min_temp</th>\n",
       "      <th>precip</th>\n",
       "      <th>start_lat</th>\n",
       "      <th>start_long</th>\n",
       "      <th>end_lat</th>\n",
       "      <th>end_long</th>\n",
       "    </tr>\n",
       "  </thead>\n",
       "  <tbody>\n",
       "    <tr>\n",
       "      <th>0</th>\n",
       "      <td>2017-01-01 00:00:36</td>\n",
       "      <td>2017-01-01 00:06:32</td>\n",
       "      <td>414</td>\n",
       "      <td>191</td>\n",
       "      <td>Canal St &amp; Taylor St</td>\n",
       "      <td>Canal St &amp; Monroe St (*)</td>\n",
       "      <td>2511</td>\n",
       "      <td>Customer</td>\n",
       "      <td>0</td>\n",
       "      <td>1</td>\n",
       "      <td>1</td>\n",
       "      <td>6</td>\n",
       "      <td>-0.6</td>\n",
       "      <td>-0.6</td>\n",
       "      <td>0.0</td>\n",
       "      <td>41.870257</td>\n",
       "      <td>-87.639474</td>\n",
       "      <td>41.880884</td>\n",
       "      <td>-87.639525</td>\n",
       "    </tr>\n",
       "    <tr>\n",
       "      <th>1</th>\n",
       "      <td>2017-01-01 00:02:54</td>\n",
       "      <td>2017-01-01 00:08:21</td>\n",
       "      <td>28</td>\n",
       "      <td>20</td>\n",
       "      <td>Larrabee St &amp; Menomonee St</td>\n",
       "      <td>Sheffield Ave &amp; Kingsbury St</td>\n",
       "      <td>3660</td>\n",
       "      <td>Subscriber</td>\n",
       "      <td>0</td>\n",
       "      <td>1</td>\n",
       "      <td>1</td>\n",
       "      <td>6</td>\n",
       "      <td>-0.6</td>\n",
       "      <td>-0.6</td>\n",
       "      <td>0.0</td>\n",
       "      <td>41.914680</td>\n",
       "      <td>-87.643320</td>\n",
       "      <td>41.910522</td>\n",
       "      <td>-87.653106</td>\n",
       "    </tr>\n",
       "    <tr>\n",
       "      <th>2</th>\n",
       "      <td>2017-01-01 00:06:06</td>\n",
       "      <td>2017-01-01 00:18:31</td>\n",
       "      <td>620</td>\n",
       "      <td>333</td>\n",
       "      <td>Orleans St &amp; Chestnut St (NEXT Apts)</td>\n",
       "      <td>Ashland Ave &amp; Blackhawk St</td>\n",
       "      <td>4992</td>\n",
       "      <td>Subscriber</td>\n",
       "      <td>0</td>\n",
       "      <td>1</td>\n",
       "      <td>1</td>\n",
       "      <td>6</td>\n",
       "      <td>-0.6</td>\n",
       "      <td>-0.6</td>\n",
       "      <td>0.0</td>\n",
       "      <td>41.898203</td>\n",
       "      <td>-87.637536</td>\n",
       "      <td>41.907066</td>\n",
       "      <td>-87.667252</td>\n",
       "    </tr>\n",
       "    <tr>\n",
       "      <th>3</th>\n",
       "      <td>2017-01-01 00:07:28</td>\n",
       "      <td>2017-01-01 00:12:51</td>\n",
       "      <td>287</td>\n",
       "      <td>68</td>\n",
       "      <td>Franklin St &amp; Monroe St</td>\n",
       "      <td>Clinton St &amp; Tilden St</td>\n",
       "      <td>5637</td>\n",
       "      <td>Subscriber</td>\n",
       "      <td>0</td>\n",
       "      <td>1</td>\n",
       "      <td>1</td>\n",
       "      <td>6</td>\n",
       "      <td>-0.6</td>\n",
       "      <td>-0.6</td>\n",
       "      <td>0.0</td>\n",
       "      <td>41.880317</td>\n",
       "      <td>-87.635185</td>\n",
       "      <td>41.875885</td>\n",
       "      <td>-87.640795</td>\n",
       "    </tr>\n",
       "    <tr>\n",
       "      <th>4</th>\n",
       "      <td>2017-01-01 00:07:57</td>\n",
       "      <td>2017-01-01 00:20:53</td>\n",
       "      <td>300</td>\n",
       "      <td>118</td>\n",
       "      <td>Broadway &amp; Barry Ave</td>\n",
       "      <td>Sedgwick St &amp; North Ave</td>\n",
       "      <td>2209</td>\n",
       "      <td>Subscriber</td>\n",
       "      <td>0</td>\n",
       "      <td>1</td>\n",
       "      <td>1</td>\n",
       "      <td>6</td>\n",
       "      <td>-0.6</td>\n",
       "      <td>-0.6</td>\n",
       "      <td>0.0</td>\n",
       "      <td>41.937725</td>\n",
       "      <td>-87.644095</td>\n",
       "      <td>41.911386</td>\n",
       "      <td>-87.638677</td>\n",
       "    </tr>\n",
       "  </tbody>\n",
       "</table>\n",
       "</div>"
      ],
      "text/plain": [
       "            start_time             end_time  start_station_id  end_station_id  \\\n",
       "0  2017-01-01 00:00:36  2017-01-01 00:06:32               414             191   \n",
       "1  2017-01-01 00:02:54  2017-01-01 00:08:21                28              20   \n",
       "2  2017-01-01 00:06:06  2017-01-01 00:18:31               620             333   \n",
       "3  2017-01-01 00:07:28  2017-01-01 00:12:51               287              68   \n",
       "4  2017-01-01 00:07:57  2017-01-01 00:20:53               300             118   \n",
       "\n",
       "                     start_station_name              end_station_name  \\\n",
       "0                  Canal St & Taylor St      Canal St & Monroe St (*)   \n",
       "1            Larrabee St & Menomonee St  Sheffield Ave & Kingsbury St   \n",
       "2  Orleans St & Chestnut St (NEXT Apts)    Ashland Ave & Blackhawk St   \n",
       "3               Franklin St & Monroe St        Clinton St & Tilden St   \n",
       "4                  Broadway & Barry Ave       Sedgwick St & North Ave   \n",
       "\n",
       "   bike_id   user_type  start_hour  start_day  start_month  start_weekday  \\\n",
       "0     2511    Customer           0          1            1              6   \n",
       "1     3660  Subscriber           0          1            1              6   \n",
       "2     4992  Subscriber           0          1            1              6   \n",
       "3     5637  Subscriber           0          1            1              6   \n",
       "4     2209  Subscriber           0          1            1              6   \n",
       "\n",
       "   max_temp  min_temp  precip  start_lat  start_long    end_lat   end_long  \n",
       "0      -0.6      -0.6     0.0  41.870257  -87.639474  41.880884 -87.639525  \n",
       "1      -0.6      -0.6     0.0  41.914680  -87.643320  41.910522 -87.653106  \n",
       "2      -0.6      -0.6     0.0  41.898203  -87.637536  41.907066 -87.667252  \n",
       "3      -0.6      -0.6     0.0  41.880317  -87.635185  41.875885 -87.640795  \n",
       "4      -0.6      -0.6     0.0  41.937725  -87.644095  41.911386 -87.638677  "
      ]
     },
     "execution_count": 120,
     "metadata": {},
     "output_type": "execute_result"
    }
   ],
   "source": [
    "#Import Dataset \n",
    "file_path = \"./data/\"\n",
    "\n",
    "raw_data = pd.read_csv(f\"{file_path}chicago_2017_prepared.csv\")\n",
    "raw_data.head()"
   ]
  },
  {
   "cell_type": "markdown",
   "id": "0d19cf3f",
   "metadata": {},
   "source": [
    "Our task is to predict the trip demand in the next hour in the network. To do so, we decided to fit the data into a format where one data sample (one row) contains measurements on the following features:\n",
    "\n",
    "month\n",
    "day\n",
    "hour\n",
    "weekday\n",
    "maximum temperature\n",
    "precipitation\n",
    "\n",
    "The target would then be the number of trips within that hour."
   ]
  },
  {
   "cell_type": "code",
   "execution_count": 121,
   "id": "bef95acb",
   "metadata": {},
   "outputs": [
    {
     "data": {
      "text/html": [
       "<div>\n",
       "<style scoped>\n",
       "    .dataframe tbody tr th:only-of-type {\n",
       "        vertical-align: middle;\n",
       "    }\n",
       "\n",
       "    .dataframe tbody tr th {\n",
       "        vertical-align: top;\n",
       "    }\n",
       "\n",
       "    .dataframe thead th {\n",
       "        text-align: right;\n",
       "    }\n",
       "</style>\n",
       "<table border=\"1\" class=\"dataframe\">\n",
       "  <thead>\n",
       "    <tr style=\"text-align: right;\">\n",
       "      <th></th>\n",
       "      <th>month</th>\n",
       "      <th>day</th>\n",
       "      <th>hour</th>\n",
       "      <th>weekday</th>\n",
       "      <th>precip</th>\n",
       "      <th>temp</th>\n",
       "      <th>trips</th>\n",
       "    </tr>\n",
       "  </thead>\n",
       "  <tbody>\n",
       "    <tr>\n",
       "      <th>0</th>\n",
       "      <td>1</td>\n",
       "      <td>1</td>\n",
       "      <td>0</td>\n",
       "      <td>6</td>\n",
       "      <td>0.0</td>\n",
       "      <td>-0.6</td>\n",
       "      <td>46</td>\n",
       "    </tr>\n",
       "    <tr>\n",
       "      <th>1</th>\n",
       "      <td>1</td>\n",
       "      <td>1</td>\n",
       "      <td>1</td>\n",
       "      <td>6</td>\n",
       "      <td>0.0</td>\n",
       "      <td>-2.2</td>\n",
       "      <td>46</td>\n",
       "    </tr>\n",
       "    <tr>\n",
       "      <th>2</th>\n",
       "      <td>1</td>\n",
       "      <td>1</td>\n",
       "      <td>2</td>\n",
       "      <td>6</td>\n",
       "      <td>0.0</td>\n",
       "      <td>-2.8</td>\n",
       "      <td>36</td>\n",
       "    </tr>\n",
       "    <tr>\n",
       "      <th>3</th>\n",
       "      <td>1</td>\n",
       "      <td>1</td>\n",
       "      <td>3</td>\n",
       "      <td>6</td>\n",
       "      <td>0.0</td>\n",
       "      <td>-3.3</td>\n",
       "      <td>18</td>\n",
       "    </tr>\n",
       "    <tr>\n",
       "      <th>4</th>\n",
       "      <td>1</td>\n",
       "      <td>1</td>\n",
       "      <td>4</td>\n",
       "      <td>6</td>\n",
       "      <td>0.0</td>\n",
       "      <td>-3.3</td>\n",
       "      <td>6</td>\n",
       "    </tr>\n",
       "    <tr>\n",
       "      <th>...</th>\n",
       "      <td>...</td>\n",
       "      <td>...</td>\n",
       "      <td>...</td>\n",
       "      <td>...</td>\n",
       "      <td>...</td>\n",
       "      <td>...</td>\n",
       "      <td>...</td>\n",
       "    </tr>\n",
       "    <tr>\n",
       "      <th>8738</th>\n",
       "      <td>12</td>\n",
       "      <td>31</td>\n",
       "      <td>19</td>\n",
       "      <td>6</td>\n",
       "      <td>0.0</td>\n",
       "      <td>-11.1</td>\n",
       "      <td>20</td>\n",
       "    </tr>\n",
       "    <tr>\n",
       "      <th>8739</th>\n",
       "      <td>12</td>\n",
       "      <td>31</td>\n",
       "      <td>20</td>\n",
       "      <td>6</td>\n",
       "      <td>0.0</td>\n",
       "      <td>-10.6</td>\n",
       "      <td>20</td>\n",
       "    </tr>\n",
       "    <tr>\n",
       "      <th>8740</th>\n",
       "      <td>12</td>\n",
       "      <td>31</td>\n",
       "      <td>21</td>\n",
       "      <td>6</td>\n",
       "      <td>0.0</td>\n",
       "      <td>-10.6</td>\n",
       "      <td>13</td>\n",
       "    </tr>\n",
       "    <tr>\n",
       "      <th>8741</th>\n",
       "      <td>12</td>\n",
       "      <td>31</td>\n",
       "      <td>22</td>\n",
       "      <td>6</td>\n",
       "      <td>0.0</td>\n",
       "      <td>-11.7</td>\n",
       "      <td>9</td>\n",
       "    </tr>\n",
       "    <tr>\n",
       "      <th>8742</th>\n",
       "      <td>12</td>\n",
       "      <td>31</td>\n",
       "      <td>23</td>\n",
       "      <td>6</td>\n",
       "      <td>0.0</td>\n",
       "      <td>-12.8</td>\n",
       "      <td>6</td>\n",
       "    </tr>\n",
       "  </tbody>\n",
       "</table>\n",
       "<p>8743 rows × 7 columns</p>\n",
       "</div>"
      ],
      "text/plain": [
       "      month  day  hour  weekday  precip  temp  trips\n",
       "0         1    1     0        6     0.0  -0.6     46\n",
       "1         1    1     1        6     0.0  -2.2     46\n",
       "2         1    1     2        6     0.0  -2.8     36\n",
       "3         1    1     3        6     0.0  -3.3     18\n",
       "4         1    1     4        6     0.0  -3.3      6\n",
       "...     ...  ...   ...      ...     ...   ...    ...\n",
       "8738     12   31    19        6     0.0 -11.1     20\n",
       "8739     12   31    20        6     0.0 -10.6     20\n",
       "8740     12   31    21        6     0.0 -10.6     13\n",
       "8741     12   31    22        6     0.0 -11.7      9\n",
       "8742     12   31    23        6     0.0 -12.8      6\n",
       "\n",
       "[8743 rows x 7 columns]"
      ]
     },
     "execution_count": 121,
     "metadata": {},
     "output_type": "execute_result"
    }
   ],
   "source": [
    "raw_data = raw_data[[\"start_month\", \"start_day\", \"start_hour\", \"start_weekday\", \"bike_id\", \"max_temp\", \"min_temp\", \"precip\"]]\n",
    "raw_data.rename(columns={\"start_month\": \"month\", \"start_day\": \"day\", \"start_hour\": \"hour\", \"start_weekday\": \"weekday\"}, inplace=True)\n",
    "trip_number = raw_data.groupby([\"month\", \"day\", \"hour\"])['bike_id'].count()\n",
    "\n",
    "raw_data['temp'] = raw_data['min_temp'] + ((raw_data['max_temp'] - raw_data['min_temp']) /2)\n",
    "raw_data.drop(['max_temp', 'min_temp'], axis=1, inplace=True)\n",
    "\n",
    "raw_data.drop('bike_id', axis=1, inplace=True)\n",
    "raw_data.drop_duplicates(inplace=True)\n",
    "raw_data['trips'] = trip_number.values\n",
    "raw_data = raw_data.reset_index(drop=True)\n",
    "\n",
    "raw_data"
   ]
  },
  {
   "cell_type": "markdown",
   "id": "8481562e",
   "metadata": {},
   "source": [
    "As we can see, we only have trip data for 8743 hours of the year. A year has 365 * 24 = 8760 hours. So there were 17 hours in the year were we are missing trip data, most likely because there simply were no trips during these hours. We will look look at these missing hours after creating a new data frame implementing all hours and merging both dataframes"
   ]
  },
  {
   "cell_type": "code",
   "execution_count": 122,
   "id": "c9cedbda",
   "metadata": {},
   "outputs": [
    {
     "data": {
      "text/html": [
       "<div>\n",
       "<style scoped>\n",
       "    .dataframe tbody tr th:only-of-type {\n",
       "        vertical-align: middle;\n",
       "    }\n",
       "\n",
       "    .dataframe tbody tr th {\n",
       "        vertical-align: top;\n",
       "    }\n",
       "\n",
       "    .dataframe thead th {\n",
       "        text-align: right;\n",
       "    }\n",
       "</style>\n",
       "<table border=\"1\" class=\"dataframe\">\n",
       "  <thead>\n",
       "    <tr style=\"text-align: right;\">\n",
       "      <th></th>\n",
       "      <th>month</th>\n",
       "      <th>day</th>\n",
       "      <th>hour</th>\n",
       "      <th>weekday</th>\n",
       "      <th>precip</th>\n",
       "      <th>temp</th>\n",
       "      <th>trips</th>\n",
       "    </tr>\n",
       "  </thead>\n",
       "  <tbody>\n",
       "    <tr>\n",
       "      <th>195</th>\n",
       "      <td>1</td>\n",
       "      <td>9</td>\n",
       "      <td>3</td>\n",
       "      <td>0</td>\n",
       "      <td>NaN</td>\n",
       "      <td>NaN</td>\n",
       "      <td>NaN</td>\n",
       "    </tr>\n",
       "    <tr>\n",
       "      <th>387</th>\n",
       "      <td>1</td>\n",
       "      <td>17</td>\n",
       "      <td>3</td>\n",
       "      <td>1</td>\n",
       "      <td>NaN</td>\n",
       "      <td>NaN</td>\n",
       "      <td>NaN</td>\n",
       "    </tr>\n",
       "    <tr>\n",
       "      <th>938</th>\n",
       "      <td>2</td>\n",
       "      <td>9</td>\n",
       "      <td>2</td>\n",
       "      <td>3</td>\n",
       "      <td>NaN</td>\n",
       "      <td>NaN</td>\n",
       "      <td>NaN</td>\n",
       "    </tr>\n",
       "    <tr>\n",
       "      <th>963</th>\n",
       "      <td>2</td>\n",
       "      <td>10</td>\n",
       "      <td>3</td>\n",
       "      <td>4</td>\n",
       "      <td>NaN</td>\n",
       "      <td>NaN</td>\n",
       "      <td>NaN</td>\n",
       "    </tr>\n",
       "    <tr>\n",
       "      <th>1562</th>\n",
       "      <td>3</td>\n",
       "      <td>7</td>\n",
       "      <td>2</td>\n",
       "      <td>1</td>\n",
       "      <td>NaN</td>\n",
       "      <td>NaN</td>\n",
       "      <td>NaN</td>\n",
       "    </tr>\n",
       "    <tr>\n",
       "      <th>1682</th>\n",
       "      <td>3</td>\n",
       "      <td>12</td>\n",
       "      <td>2</td>\n",
       "      <td>6</td>\n",
       "      <td>NaN</td>\n",
       "      <td>NaN</td>\n",
       "      <td>NaN</td>\n",
       "    </tr>\n",
       "    <tr>\n",
       "      <th>2114</th>\n",
       "      <td>3</td>\n",
       "      <td>30</td>\n",
       "      <td>2</td>\n",
       "      <td>3</td>\n",
       "      <td>NaN</td>\n",
       "      <td>NaN</td>\n",
       "      <td>NaN</td>\n",
       "    </tr>\n",
       "    <tr>\n",
       "      <th>8472</th>\n",
       "      <td>12</td>\n",
       "      <td>20</td>\n",
       "      <td>0</td>\n",
       "      <td>2</td>\n",
       "      <td>NaN</td>\n",
       "      <td>NaN</td>\n",
       "      <td>NaN</td>\n",
       "    </tr>\n",
       "    <tr>\n",
       "      <th>8473</th>\n",
       "      <td>12</td>\n",
       "      <td>20</td>\n",
       "      <td>1</td>\n",
       "      <td>2</td>\n",
       "      <td>NaN</td>\n",
       "      <td>NaN</td>\n",
       "      <td>NaN</td>\n",
       "    </tr>\n",
       "    <tr>\n",
       "      <th>8474</th>\n",
       "      <td>12</td>\n",
       "      <td>20</td>\n",
       "      <td>2</td>\n",
       "      <td>2</td>\n",
       "      <td>NaN</td>\n",
       "      <td>NaN</td>\n",
       "      <td>NaN</td>\n",
       "    </tr>\n",
       "    <tr>\n",
       "      <th>8475</th>\n",
       "      <td>12</td>\n",
       "      <td>20</td>\n",
       "      <td>3</td>\n",
       "      <td>2</td>\n",
       "      <td>NaN</td>\n",
       "      <td>NaN</td>\n",
       "      <td>NaN</td>\n",
       "    </tr>\n",
       "    <tr>\n",
       "      <th>8476</th>\n",
       "      <td>12</td>\n",
       "      <td>20</td>\n",
       "      <td>4</td>\n",
       "      <td>2</td>\n",
       "      <td>NaN</td>\n",
       "      <td>NaN</td>\n",
       "      <td>NaN</td>\n",
       "    </tr>\n",
       "    <tr>\n",
       "      <th>8477</th>\n",
       "      <td>12</td>\n",
       "      <td>20</td>\n",
       "      <td>5</td>\n",
       "      <td>2</td>\n",
       "      <td>NaN</td>\n",
       "      <td>NaN</td>\n",
       "      <td>NaN</td>\n",
       "    </tr>\n",
       "    <tr>\n",
       "      <th>8615</th>\n",
       "      <td>12</td>\n",
       "      <td>25</td>\n",
       "      <td>23</td>\n",
       "      <td>0</td>\n",
       "      <td>NaN</td>\n",
       "      <td>NaN</td>\n",
       "      <td>NaN</td>\n",
       "    </tr>\n",
       "    <tr>\n",
       "      <th>8617</th>\n",
       "      <td>12</td>\n",
       "      <td>26</td>\n",
       "      <td>1</td>\n",
       "      <td>1</td>\n",
       "      <td>NaN</td>\n",
       "      <td>NaN</td>\n",
       "      <td>NaN</td>\n",
       "    </tr>\n",
       "    <tr>\n",
       "      <th>8642</th>\n",
       "      <td>12</td>\n",
       "      <td>27</td>\n",
       "      <td>2</td>\n",
       "      <td>2</td>\n",
       "      <td>NaN</td>\n",
       "      <td>NaN</td>\n",
       "      <td>NaN</td>\n",
       "    </tr>\n",
       "    <tr>\n",
       "      <th>8717</th>\n",
       "      <td>12</td>\n",
       "      <td>30</td>\n",
       "      <td>5</td>\n",
       "      <td>5</td>\n",
       "      <td>NaN</td>\n",
       "      <td>NaN</td>\n",
       "      <td>NaN</td>\n",
       "    </tr>\n",
       "  </tbody>\n",
       "</table>\n",
       "</div>"
      ],
      "text/plain": [
       "      month  day  hour  weekday  precip  temp  trips\n",
       "195       1    9     3        0     NaN   NaN    NaN\n",
       "387       1   17     3        1     NaN   NaN    NaN\n",
       "938       2    9     2        3     NaN   NaN    NaN\n",
       "963       2   10     3        4     NaN   NaN    NaN\n",
       "1562      3    7     2        1     NaN   NaN    NaN\n",
       "1682      3   12     2        6     NaN   NaN    NaN\n",
       "2114      3   30     2        3     NaN   NaN    NaN\n",
       "8472     12   20     0        2     NaN   NaN    NaN\n",
       "8473     12   20     1        2     NaN   NaN    NaN\n",
       "8474     12   20     2        2     NaN   NaN    NaN\n",
       "8475     12   20     3        2     NaN   NaN    NaN\n",
       "8476     12   20     4        2     NaN   NaN    NaN\n",
       "8477     12   20     5        2     NaN   NaN    NaN\n",
       "8615     12   25    23        0     NaN   NaN    NaN\n",
       "8617     12   26     1        1     NaN   NaN    NaN\n",
       "8642     12   27     2        2     NaN   NaN    NaN\n",
       "8717     12   30     5        5     NaN   NaN    NaN"
      ]
     },
     "execution_count": 122,
     "metadata": {},
     "output_type": "execute_result"
    }
   ],
   "source": [
    "hourly_2017 = (datetime(year=2017, month=1, day=1, hour=0)) + pd.to_timedelta(np.arange(365 * 24), 'H')\n",
    "\n",
    "hourly_2017_df = pd.DataFrame(hourly_2017)\n",
    "hourly_2017_df[0] = pd.to_datetime(hourly_2017_df[0])\n",
    "hourly_2017_df[\"month\"] = hourly_2017_df[0].apply(lambda date: date.month)\n",
    "hourly_2017_df[\"day\"] = hourly_2017_df[0].apply(lambda date: date.day)\n",
    "hourly_2017_df[\"hour\"] = hourly_2017_df[0].apply(lambda date: date.hour)\n",
    "hourly_2017_df[\"weekday\"] = hourly_2017_df[0].apply(lambda date: date.weekday())\n",
    "hourly_2017_df = hourly_2017_df.drop(0, 1)\n",
    "\n",
    "hourly_bikesharing_demand = pd.merge(hourly_2017_df, raw_data, on=['month', 'day', 'hour', 'hour' , 'weekday'], how='left')\n",
    "hourly_bikesharing_demand[hourly_bikesharing_demand[\"trips\"].isnull() == True]"
   ]
  },
  {
   "cell_type": "markdown",
   "id": "b7a1bfc6",
   "metadata": {},
   "source": [
    "These 17 missing values will be filled with 0 since there were no trips and the missing weather data will be filled forward filled just like in the data preperation"
   ]
  },
  {
   "cell_type": "code",
   "execution_count": 123,
   "id": "7534d7e2",
   "metadata": {
    "scrolled": false
   },
   "outputs": [
    {
     "name": "stdout",
     "output_type": "stream",
     "text": [
      "<class 'pandas.core.frame.DataFrame'>\n",
      "Int64Index: 8760 entries, 0 to 8759\n",
      "Data columns (total 7 columns):\n",
      " #   Column   Non-Null Count  Dtype  \n",
      "---  ------   --------------  -----  \n",
      " 0   month    8760 non-null   int64  \n",
      " 1   day      8760 non-null   int64  \n",
      " 2   hour     8760 non-null   int64  \n",
      " 3   weekday  8760 non-null   int64  \n",
      " 4   precip   8760 non-null   float64\n",
      " 5   temp     8760 non-null   float64\n",
      " 6   trips    8760 non-null   float64\n",
      "dtypes: float64(3), int64(4)\n",
      "memory usage: 547.5 KB\n"
     ]
    }
   ],
   "source": [
    "hourly_bikesharing_demand['trips'] = hourly_bikesharing_demand['trips'].fillna(0)\n",
    "hourly_bikesharing_demand = hourly_bikesharing_demand.fillna(method='ffill')\n",
    "hourly_bikesharing_demand.info()"
   ]
  },
  {
   "attachments": {},
   "cell_type": "markdown",
   "id": "aa03cce0",
   "metadata": {},
   "source": [
    "Our precipitation as well as trip count are in float, while they should simply be an int (0 or 1). Weekday will be transformed to a weekend or not feature "
   ]
  },
  {
   "cell_type": "code",
   "execution_count": 124,
   "id": "9cb3a80d",
   "metadata": {},
   "outputs": [],
   "source": [
    "def weekend_(x):\n",
    "    if x >= 5:\n",
    "        return '1'\n",
    "    else:\n",
    "        return '0'\n",
    "\n",
    "hourly_bikesharing_demand['weekend'] = hourly_bikesharing_demand['weekday'].apply(weekend_)"
   ]
  },
  {
   "cell_type": "code",
   "execution_count": 125,
   "id": "d19e64a0",
   "metadata": {
    "scrolled": true
   },
   "outputs": [
    {
     "data": {
      "text/html": [
       "<div>\n",
       "<style scoped>\n",
       "    .dataframe tbody tr th:only-of-type {\n",
       "        vertical-align: middle;\n",
       "    }\n",
       "\n",
       "    .dataframe tbody tr th {\n",
       "        vertical-align: top;\n",
       "    }\n",
       "\n",
       "    .dataframe thead th {\n",
       "        text-align: right;\n",
       "    }\n",
       "</style>\n",
       "<table border=\"1\" class=\"dataframe\">\n",
       "  <thead>\n",
       "    <tr style=\"text-align: right;\">\n",
       "      <th></th>\n",
       "      <th>month</th>\n",
       "      <th>day</th>\n",
       "      <th>hour</th>\n",
       "      <th>weekday</th>\n",
       "      <th>precip</th>\n",
       "      <th>temp</th>\n",
       "      <th>trips</th>\n",
       "      <th>weekend</th>\n",
       "    </tr>\n",
       "  </thead>\n",
       "  <tbody>\n",
       "    <tr>\n",
       "      <th>0</th>\n",
       "      <td>1</td>\n",
       "      <td>1</td>\n",
       "      <td>0</td>\n",
       "      <td>6</td>\n",
       "      <td>0</td>\n",
       "      <td>-0.6</td>\n",
       "      <td>46</td>\n",
       "      <td>1</td>\n",
       "    </tr>\n",
       "    <tr>\n",
       "      <th>1</th>\n",
       "      <td>1</td>\n",
       "      <td>1</td>\n",
       "      <td>1</td>\n",
       "      <td>6</td>\n",
       "      <td>0</td>\n",
       "      <td>-2.2</td>\n",
       "      <td>46</td>\n",
       "      <td>1</td>\n",
       "    </tr>\n",
       "    <tr>\n",
       "      <th>2</th>\n",
       "      <td>1</td>\n",
       "      <td>1</td>\n",
       "      <td>2</td>\n",
       "      <td>6</td>\n",
       "      <td>0</td>\n",
       "      <td>-2.8</td>\n",
       "      <td>36</td>\n",
       "      <td>1</td>\n",
       "    </tr>\n",
       "    <tr>\n",
       "      <th>3</th>\n",
       "      <td>1</td>\n",
       "      <td>1</td>\n",
       "      <td>3</td>\n",
       "      <td>6</td>\n",
       "      <td>0</td>\n",
       "      <td>-3.3</td>\n",
       "      <td>18</td>\n",
       "      <td>1</td>\n",
       "    </tr>\n",
       "    <tr>\n",
       "      <th>4</th>\n",
       "      <td>1</td>\n",
       "      <td>1</td>\n",
       "      <td>4</td>\n",
       "      <td>6</td>\n",
       "      <td>0</td>\n",
       "      <td>-3.3</td>\n",
       "      <td>6</td>\n",
       "      <td>1</td>\n",
       "    </tr>\n",
       "    <tr>\n",
       "      <th>...</th>\n",
       "      <td>...</td>\n",
       "      <td>...</td>\n",
       "      <td>...</td>\n",
       "      <td>...</td>\n",
       "      <td>...</td>\n",
       "      <td>...</td>\n",
       "      <td>...</td>\n",
       "      <td>...</td>\n",
       "    </tr>\n",
       "    <tr>\n",
       "      <th>8755</th>\n",
       "      <td>12</td>\n",
       "      <td>31</td>\n",
       "      <td>19</td>\n",
       "      <td>6</td>\n",
       "      <td>0</td>\n",
       "      <td>-11.1</td>\n",
       "      <td>20</td>\n",
       "      <td>1</td>\n",
       "    </tr>\n",
       "    <tr>\n",
       "      <th>8756</th>\n",
       "      <td>12</td>\n",
       "      <td>31</td>\n",
       "      <td>20</td>\n",
       "      <td>6</td>\n",
       "      <td>0</td>\n",
       "      <td>-10.6</td>\n",
       "      <td>20</td>\n",
       "      <td>1</td>\n",
       "    </tr>\n",
       "    <tr>\n",
       "      <th>8757</th>\n",
       "      <td>12</td>\n",
       "      <td>31</td>\n",
       "      <td>21</td>\n",
       "      <td>6</td>\n",
       "      <td>0</td>\n",
       "      <td>-10.6</td>\n",
       "      <td>13</td>\n",
       "      <td>1</td>\n",
       "    </tr>\n",
       "    <tr>\n",
       "      <th>8758</th>\n",
       "      <td>12</td>\n",
       "      <td>31</td>\n",
       "      <td>22</td>\n",
       "      <td>6</td>\n",
       "      <td>0</td>\n",
       "      <td>-11.7</td>\n",
       "      <td>9</td>\n",
       "      <td>1</td>\n",
       "    </tr>\n",
       "    <tr>\n",
       "      <th>8759</th>\n",
       "      <td>12</td>\n",
       "      <td>31</td>\n",
       "      <td>23</td>\n",
       "      <td>6</td>\n",
       "      <td>0</td>\n",
       "      <td>-12.8</td>\n",
       "      <td>6</td>\n",
       "      <td>1</td>\n",
       "    </tr>\n",
       "  </tbody>\n",
       "</table>\n",
       "<p>8760 rows × 8 columns</p>\n",
       "</div>"
      ],
      "text/plain": [
       "      month  day  hour  weekday  precip  temp  trips weekend\n",
       "0         1    1     0        6       0  -0.6     46       1\n",
       "1         1    1     1        6       0  -2.2     46       1\n",
       "2         1    1     2        6       0  -2.8     36       1\n",
       "3         1    1     3        6       0  -3.3     18       1\n",
       "4         1    1     4        6       0  -3.3      6       1\n",
       "...     ...  ...   ...      ...     ...   ...    ...     ...\n",
       "8755     12   31    19        6       0 -11.1     20       1\n",
       "8756     12   31    20        6       0 -10.6     20       1\n",
       "8757     12   31    21        6       0 -10.6     13       1\n",
       "8758     12   31    22        6       0 -11.7      9       1\n",
       "8759     12   31    23        6       0 -12.8      6       1\n",
       "\n",
       "[8760 rows x 8 columns]"
      ]
     },
     "execution_count": 125,
     "metadata": {},
     "output_type": "execute_result"
    }
   ],
   "source": [
    "hourly_bikesharing_demand['precip'] = hourly_bikesharing_demand['precip'].apply(lambda precip: int(precip))\n",
    "hourly_bikesharing_demand['trips'] = hourly_bikesharing_demand['trips'].apply(lambda count: int(count))\n",
    "hourly_bikesharing_demand"
   ]
  },
  {
   "cell_type": "code",
   "execution_count": 126,
   "id": "509b30e0",
   "metadata": {},
   "outputs": [
    {
     "data": {
      "text/html": [
       "<div>\n",
       "<style scoped>\n",
       "    .dataframe tbody tr th:only-of-type {\n",
       "        vertical-align: middle;\n",
       "    }\n",
       "\n",
       "    .dataframe tbody tr th {\n",
       "        vertical-align: top;\n",
       "    }\n",
       "\n",
       "    .dataframe thead th {\n",
       "        text-align: right;\n",
       "    }\n",
       "</style>\n",
       "<table border=\"1\" class=\"dataframe\">\n",
       "  <thead>\n",
       "    <tr style=\"text-align: right;\">\n",
       "      <th></th>\n",
       "      <th>month</th>\n",
       "      <th>day</th>\n",
       "      <th>hour</th>\n",
       "      <th>weekday</th>\n",
       "      <th>precip</th>\n",
       "      <th>temp</th>\n",
       "      <th>trips</th>\n",
       "    </tr>\n",
       "  </thead>\n",
       "  <tbody>\n",
       "    <tr>\n",
       "      <th>count</th>\n",
       "      <td>8760.000000</td>\n",
       "      <td>8760.000000</td>\n",
       "      <td>8760.000000</td>\n",
       "      <td>8760.000000</td>\n",
       "      <td>8760.000000</td>\n",
       "      <td>8760.000000</td>\n",
       "      <td>8760.000000</td>\n",
       "    </tr>\n",
       "    <tr>\n",
       "      <th>mean</th>\n",
       "      <td>6.526027</td>\n",
       "      <td>15.720548</td>\n",
       "      <td>11.500000</td>\n",
       "      <td>3.008219</td>\n",
       "      <td>0.087443</td>\n",
       "      <td>11.517888</td>\n",
       "      <td>437.095205</td>\n",
       "    </tr>\n",
       "    <tr>\n",
       "      <th>std</th>\n",
       "      <td>3.448048</td>\n",
       "      <td>8.796749</td>\n",
       "      <td>6.922582</td>\n",
       "      <td>2.003519</td>\n",
       "      <td>0.282499</td>\n",
       "      <td>10.915560</td>\n",
       "      <td>498.340244</td>\n",
       "    </tr>\n",
       "    <tr>\n",
       "      <th>min</th>\n",
       "      <td>1.000000</td>\n",
       "      <td>1.000000</td>\n",
       "      <td>0.000000</td>\n",
       "      <td>0.000000</td>\n",
       "      <td>0.000000</td>\n",
       "      <td>-19.400000</td>\n",
       "      <td>0.000000</td>\n",
       "    </tr>\n",
       "    <tr>\n",
       "      <th>25%</th>\n",
       "      <td>4.000000</td>\n",
       "      <td>8.000000</td>\n",
       "      <td>5.750000</td>\n",
       "      <td>1.000000</td>\n",
       "      <td>0.000000</td>\n",
       "      <td>3.300000</td>\n",
       "      <td>57.750000</td>\n",
       "    </tr>\n",
       "    <tr>\n",
       "      <th>50%</th>\n",
       "      <td>7.000000</td>\n",
       "      <td>16.000000</td>\n",
       "      <td>11.500000</td>\n",
       "      <td>3.000000</td>\n",
       "      <td>0.000000</td>\n",
       "      <td>11.700000</td>\n",
       "      <td>234.500000</td>\n",
       "    </tr>\n",
       "    <tr>\n",
       "      <th>75%</th>\n",
       "      <td>10.000000</td>\n",
       "      <td>23.000000</td>\n",
       "      <td>17.250000</td>\n",
       "      <td>5.000000</td>\n",
       "      <td>0.000000</td>\n",
       "      <td>20.600000</td>\n",
       "      <td>660.000000</td>\n",
       "    </tr>\n",
       "    <tr>\n",
       "      <th>max</th>\n",
       "      <td>12.000000</td>\n",
       "      <td>31.000000</td>\n",
       "      <td>23.000000</td>\n",
       "      <td>6.000000</td>\n",
       "      <td>1.000000</td>\n",
       "      <td>35.000000</td>\n",
       "      <td>2852.000000</td>\n",
       "    </tr>\n",
       "  </tbody>\n",
       "</table>\n",
       "</div>"
      ],
      "text/plain": [
       "             month          day         hour      weekday       precip  \\\n",
       "count  8760.000000  8760.000000  8760.000000  8760.000000  8760.000000   \n",
       "mean      6.526027    15.720548    11.500000     3.008219     0.087443   \n",
       "std       3.448048     8.796749     6.922582     2.003519     0.282499   \n",
       "min       1.000000     1.000000     0.000000     0.000000     0.000000   \n",
       "25%       4.000000     8.000000     5.750000     1.000000     0.000000   \n",
       "50%       7.000000    16.000000    11.500000     3.000000     0.000000   \n",
       "75%      10.000000    23.000000    17.250000     5.000000     0.000000   \n",
       "max      12.000000    31.000000    23.000000     6.000000     1.000000   \n",
       "\n",
       "              temp        trips  \n",
       "count  8760.000000  8760.000000  \n",
       "mean     11.517888   437.095205  \n",
       "std      10.915560   498.340244  \n",
       "min     -19.400000     0.000000  \n",
       "25%       3.300000    57.750000  \n",
       "50%      11.700000   234.500000  \n",
       "75%      20.600000   660.000000  \n",
       "max      35.000000  2852.000000  "
      ]
     },
     "execution_count": 126,
     "metadata": {},
     "output_type": "execute_result"
    }
   ],
   "source": [
    "hourly_bikesharing_demand.describe()"
   ]
  },
  {
   "cell_type": "markdown",
   "id": "1cde0cd0",
   "metadata": {},
   "source": [
    "## Model Building"
   ]
  },
  {
   "cell_type": "markdown",
   "id": "f0f71cc4",
   "metadata": {},
   "source": [
    "Select three regression algorithms that are suitable for the prediction task at hand. Explain and justify why you selected the three algorithms and describe their respective advantages and drawbacks."
   ]
  },
  {
   "cell_type": "code",
   "execution_count": 127,
   "id": "04322841",
   "metadata": {},
   "outputs": [
    {
     "name": "stdout",
     "output_type": "stream",
     "text": [
      "Size of training data set: 4380\n",
      "Size of validation data set: 2628\n",
      "Size of test data set: 1752\n"
     ]
    }
   ],
   "source": [
    "X_full = hourly_bikesharing_demand[['temp', 'weekend', 'month', 'hour']]\n",
    "scaler = StandardScaler()\n",
    "X = scaler.fit_transform(X_full)\n",
    "#y_full = hourly_bikesharing_demand['trips'].values.reshape(-1, 1)\n",
    "#y = scaler.fit_transform(y_full)\n",
    "y = hourly_bikesharing_demand['trips']\n",
    "\n",
    "X_train, X_temp, y_train, y_temp = train_test_split(X, y,\n",
    "    test_size=0.5, shuffle = True, random_state = 8)\n",
    "X_validation, X_test, y_validation, y_test = train_test_split(X_temp, y_temp,\n",
    "    test_size=0.4, shuffle = True, random_state = 8) # 0,4 * 0,5 = 0,2\n",
    "\n",
    "print('Size of training data set: ' + str(len(X_train)))\n",
    "print('Size of validation data set: ' + str(len(X_validation)))\n",
    "print('Size of test data set: ' + str(len(X_test)))"
   ]
  },
  {
   "cell_type": "code",
   "execution_count": 128,
   "id": "83780223",
   "metadata": {},
   "outputs": [],
   "source": [
    "#include_bias = False erschafft keinen künstlichen Intercept, interaction_only = False nicht nur Features mit degree distinct input Features werden produziert\n",
    "def get_poly_features(features, degree):\n",
    "    poly_features = PolynomialFeatures(degree = degree, include_bias = False, interaction_only = False)\n",
    "    return_features = poly_features.fit_transform(features)\n",
    "    return return_features\n",
    "\n",
    "def eval(val_target, val_pred):\n",
    "    MAE = mean_absolute_error(val_target, val_pred)\n",
    "    MSE = mean_squared_error(val_target, val_pred)\n",
    "    R2 = r2_score(val_target, val_pred)\n",
    "\n",
    "    print(\"MAE: \" + str(MAE))\n",
    "    print(\"MSE: \" + str(MSE))\n",
    "    print(\"R^2: \" + str(R2))"
   ]
  },
  {
   "cell_type": "code",
   "execution_count": 129,
   "id": "95981286",
   "metadata": {},
   "outputs": [],
   "source": [
    "def simple_poly_regression(X_t, y_t, d, X_val, y_val):\n",
    "    poly_reg = LinearRegression()\n",
    "    poly_reg.fit(get_poly_features(X_t, d), y_t)\n",
    "\n",
    "    pred = poly_reg.predict(get_poly_features(X_val, d))\n",
    "    eval(y_val, pred)"
   ]
  },
  {
   "attachments": {},
   "cell_type": "markdown",
   "metadata": {},
   "source": [
    "Tryout with degree 10"
   ]
  },
  {
   "cell_type": "code",
   "execution_count": 130,
   "id": "bddc344c",
   "metadata": {},
   "outputs": [
    {
     "name": "stdout",
     "output_type": "stream",
     "text": [
      "MAE: 137.2609003660083\n",
      "MSE: 42937.996236420535\n",
      "R^2: 0.8234041894581152\n"
     ]
    }
   ],
   "source": [
    "simple_poly_regression(X_train, y_train, 10, X_validation, y_validation)"
   ]
  },
  {
   "cell_type": "code",
   "execution_count": 131,
   "id": "37c4bb93",
   "metadata": {},
   "outputs": [],
   "source": [
    "def ridge_reg(X_t, y_t, regu_param, d, X_val, y_val):\n",
    "    model_L2 = Ridge(alpha = regu_param, normalize = True, solver = 'lsqr')\n",
    "    model_L2.fit(get_poly_features(X_t, d), y_t)\n",
    "\n",
    "    pred = model_L2.predict(get_poly_features(X_val, d))\n",
    "    eval(y_val, pred)"
   ]
  },
  {
   "cell_type": "code",
   "execution_count": 132,
   "id": "3ab40b59",
   "metadata": {
    "scrolled": false
   },
   "outputs": [
    {
     "name": "stdout",
     "output_type": "stream",
     "text": [
      "MAE: 172.06846795415416\n",
      "MSE: 61491.61406483643\n",
      "R^2: 0.7470966887342154\n"
     ]
    }
   ],
   "source": [
    "#should have the same results as linear regression, but there may be computational complications when running with 0, according to the sklearn documentation, as in this case\n",
    "ridge_reg(X_train, y_train, 0, 10, X_validation, y_validation)"
   ]
  },
  {
   "cell_type": "code",
   "execution_count": 133,
   "id": "3ab40b59",
   "metadata": {
    "scrolled": false
   },
   "outputs": [
    {
     "name": "stdout",
     "output_type": "stream",
     "text": [
      "MAE: 235.08145490506035\n",
      "MSE: 110562.59940902198\n",
      "R^2: 0.5452770606539694\n"
     ]
    }
   ],
   "source": [
    "ridge_reg(X_train, y_train, 1, 10, X_validation, y_validation)"
   ]
  },
  {
   "cell_type": "code",
   "execution_count": 134,
   "metadata": {},
   "outputs": [],
   "source": [
    "\n",
    "def lasso_reg(X_t, y_t, regu_param, d, X_val, y_val):\n",
    "    model_L1 = Lasso(alpha = regu_param)\n",
    "    model_L1.fit(get_poly_features(X_t, d), y_t)\n",
    "\n",
    "    pred = model_L1.predict(get_poly_features(X_val, d))\n",
    "    eval(y_val, pred)"
   ]
  },
  {
   "cell_type": "code",
   "execution_count": 135,
   "metadata": {},
   "outputs": [
    {
     "name": "stdout",
     "output_type": "stream",
     "text": [
      "MAE: 158.8801601880075\n",
      "MSE: 57679.979129014086\n",
      "R^2: 0.7627732181482816\n"
     ]
    }
   ],
   "source": [
    "lasso_reg(X_train, y_train, 1, 10, X_validation, y_validation)"
   ]
  },
  {
   "cell_type": "code",
   "execution_count": 136,
   "metadata": {},
   "outputs": [],
   "source": [
    "#Try out of dummied features\n",
    "norm = StandardScaler()\n",
    "Copy = hourly_bikesharing_demand.copy()\n",
    "##Copy['trips_norm'] = norm.fit_transform(Copy[\"trips\"].values.reshape(-1, 1))\n",
    "Copy['temp_norm'] = norm.fit_transform(Copy[\"temp\"].values.reshape(-1, 1))\n",
    "\n",
    "#Copy = pd.get_dummies(Copy, columns=['weekday'])\n",
    "\n",
    "Copy = pd.get_dummies(Copy, columns=['month'])\n",
    "#Copy['month_norm'] = norm.fit_transform(Copy[\"month\"].values.reshape(-1, 1))\n",
    "\n",
    "Copy = pd.get_dummies(Copy, columns=['hour'])\n",
    "\n",
    "#Copy['hour_norm'] = norm.fit_transform(Copy[\"hour\"].values.reshape(-1, 1))"
   ]
  },
  {
   "cell_type": "code",
   "execution_count": 137,
   "metadata": {},
   "outputs": [
    {
     "name": "stdout",
     "output_type": "stream",
     "text": [
      "Size of training data set: 4380\n",
      "Size of validation data set: 2628\n",
      "Size of test data set: 1752\n"
     ]
    }
   ],
   "source": [
    "X2 = Copy[['temp_norm', 'precip', 'weekend', 'month_1', 'month_2', 'month_3',\n",
    "       'month_4', 'month_5', 'month_6', 'month_7', 'month_8', 'month_9',\n",
    "       'month_10', 'month_11', 'month_12', 'hour_0', 'hour_1', 'hour_2',\n",
    "       'hour_3', 'hour_4', 'hour_5', 'hour_6', 'hour_7', 'hour_8', 'hour_9',\n",
    "       'hour_10', 'hour_11', 'hour_12', 'hour_13', 'hour_14', 'hour_15',\n",
    "       'hour_16', 'hour_17', 'hour_18', 'hour_19', 'hour_20', 'hour_21',\n",
    "       'hour_22', 'hour_23']]\n",
    "#y_full = Copy['trips'].values.reshape(-1, 1)\n",
    "#y = scaler.fit_transform(y_full)\n",
    "y2 = Copy['trips']\n",
    "\n",
    "X_train2, X_temp2, y_train2, y_temp2 = train_test_split(X2, y2,\n",
    "    test_size=0.5, shuffle = True, random_state = 8)\n",
    "X_validation2, X_test2, y_validation2, y_test2 = train_test_split(X_temp2, y_temp2,\n",
    "    test_size=0.4, shuffle = True, random_state = 8) # 0,4 * 0,5 = 0,2\n",
    "\n",
    "print('Size of training data set: ' + str(len(X_train2)))\n",
    "print('Size of validation data set: ' + str(len(X_validation2)))\n",
    "print('Size of test data set: ' + str(len(X_test2)))"
   ]
  },
  {
   "cell_type": "code",
   "execution_count": 138,
   "id": "bddc344c",
   "metadata": {},
   "outputs": [
    {
     "name": "stdout",
     "output_type": "stream",
     "text": [
      "MAE: 114.69845697179414\n",
      "MSE: 32972.26307474278\n",
      "R^2: 0.8643913541977182\n"
     ]
    }
   ],
   "source": [
    "simple_poly_regression(X_train2, y_train2, 2, X_validation2, y_validation2)"
   ]
  },
  {
   "cell_type": "code",
   "execution_count": 139,
   "id": "3ab40b59",
   "metadata": {
    "scrolled": false
   },
   "outputs": [
    {
     "name": "stdout",
     "output_type": "stream",
     "text": [
      "MAE: 102.89544806932194\n",
      "MSE: 33610.67438059117\n",
      "R^2: 0.8617656899400142\n"
     ]
    }
   ],
   "source": [
    "ridge_reg(X_train2, y_train2, 0.05, 3, X_validation2, y_validation2)"
   ]
  },
  {
   "cell_type": "code",
   "execution_count": 140,
   "metadata": {},
   "outputs": [
    {
     "name": "stdout",
     "output_type": "stream",
     "text": [
      "MAE: 101.31906915428004\n",
      "MSE: 29706.003591068933\n",
      "R^2: 0.8778248581223901\n"
     ]
    }
   ],
   "source": [
    "lasso_reg(X_train2, y_train2, 0.05, 3, X_validation2, y_validation2)"
   ]
  },
  {
   "cell_type": "code",
   "execution_count": 141,
   "metadata": {},
   "outputs": [],
   "source": [
    "def simple_poly_regression_noeval(X_t, y_t, d):\n",
    "    poly_reg = LinearRegression()\n",
    "    poly_reg.fit(get_poly_features(X_t, d), y_t)\n",
    "\n",
    "    return poly_reg"
   ]
  },
  {
   "cell_type": "code",
   "execution_count": 142,
   "metadata": {},
   "outputs": [
    {
     "data": {
      "image/png": "[encoded data removed]",
      "text/plain": [
       "<Figure size 432x270 with 1 Axes>"
      ]
     },
     "metadata": {
      "needs_background": "light"
     },
     "output_type": "display_data"
    }
   ],
   "source": [
    "performance_train_set = list()\n",
    "performance_valid_set = list()\n",
    "\n",
    "min_degree = 2\n",
    "max_degree = 13 # can take a long time for high numbers (5min for 18)\n",
    "\n",
    "for d in range(min_degree, max_degree + 1):\n",
    "    model = simple_poly_regression_noeval(X_train, y_train, d)\n",
    "    \n",
    "    y_model = model.predict(get_poly_features(X_train, d))\n",
    "    performance_train_set.append(mean_squared_error(y_train, y_model))\n",
    "\n",
    "    y_model = model.predict(get_poly_features(X_validation, d))\n",
    "    performance_valid_set.append(mean_squared_error(y_validation, y_model))\n",
    "\n",
    "rcParams['figure.figsize'] = 6, 3.75\n",
    "plt.plot(np.linspace(min_degree, max_degree, max_degree + 1 - min_degree), performance_train_set)\n",
    "plt.plot(np.linspace(min_degree, max_degree, max_degree + 1 - min_degree), performance_valid_set)\n",
    "\n",
    "plt.title(\"Polynomial Regression optimal degree\")\n",
    "plt.legend([\"Training\", \"Validation\"])\n",
    "plt.xlabel(\"degree\")\n",
    "plt.ylabel(\"MSE\")\n",
    "plt.show()"
   ]
  },
  {
   "cell_type": "code",
   "execution_count": 143,
   "metadata": {},
   "outputs": [
    {
     "data": {
      "text/plain": [
       "Text(0, 0.5, 'MSE')"
      ]
     },
     "execution_count": 143,
     "metadata": {},
     "output_type": "execute_result"
    },
    {
     "data": {
      "image/png": "[encoded data removed]",
      "text/plain": [
       "<Figure size 432x270 with 1 Axes>"
      ]
     },
     "metadata": {
      "needs_background": "light"
     },
     "output_type": "display_data"
    }
   ],
   "source": [
    "#Both list start with [0] = degree 2\n",
    "plt.semilogy(range(8, 12), performance_train_set[6:10], range(8, 12), performance_valid_set[6:10])\n",
    "plt.title(\"Polynomial Regression optimal degree | Zoomed in\")\n",
    "plt.legend([\"Training\", \"Validation\"])\n",
    "plt.xlabel(\"Polynomial degree\")\n",
    "plt.ylabel(\"MSE\")"
   ]
  },
  {
   "attachments": {},
   "cell_type": "markdown",
   "metadata": {},
   "source": [
    "Best degree for polynomial regression 10\n",
    "Before calculating optimal degree for Ridge & Lasso first regularization parameter"
   ]
  },
  {
   "cell_type": "code",
   "execution_count": 144,
   "metadata": {},
   "outputs": [],
   "source": [
    "def ridge_reg_noeval(X_t, y_t, regu_param, d):\n",
    "    model_L2 = Ridge(alpha = regu_param, normalize = True, solver = 'lsqr')\n",
    "    model_L2.fit(get_poly_features(X_t, d), y_t)\n",
    "\n",
    "    return model_L2"
   ]
  },
  {
   "cell_type": "code",
   "execution_count": 145,
   "metadata": {},
   "outputs": [
    {
     "data": {
      "image/png": "[encoded data removed]",
      "text/plain": [
       "<Figure size 432x270 with 1 Axes>"
      ]
     },
     "metadata": {
      "needs_background": "light"
     },
     "output_type": "display_data"
    }
   ],
   "source": [
    "# ridge regression (L2) prediction\n",
    "\n",
    "# tune hyperparameter a\n",
    "performance_train_set = list()\n",
    "performance_valid_set = list()\n",
    "\n",
    "degree = 18 # increasing this will drastically increase runtime\n",
    "\n",
    "min_alpha = 1e-6\n",
    "max_alpha = 1\n",
    "steps_alpha = 20 # increasing this will increase runtime\n",
    "\n",
    "for a in np.linspace(min_alpha, max_alpha, steps_alpha):\n",
    "    model = ridge_reg_noeval(X_train, y_train, a, degree)\n",
    "    \n",
    "    y_model = model.predict(get_poly_features(X_train, degree))\n",
    "    performance_train_set.append(mean_squared_error(y_train, y_model))\n",
    "\n",
    "    y_model = model.predict(get_poly_features(X_validation, degree))\n",
    "    performance_valid_set.append(mean_squared_error(y_validation, y_model))\n",
    "\n",
    "rcParams['figure.figsize'] = 6, 3.75\n",
    "plt.plot(np.linspace(min_alpha, max_alpha, steps_alpha), performance_train_set)\n",
    "plt.plot(np.linspace(min_alpha, max_alpha, steps_alpha), performance_valid_set)\n",
    "\n",
    "plt.legend([\"Training\", \"Validation\"])\n",
    "plt.xlabel(\"alpha\")\n",
    "plt.ylabel(\"MSE\")\n",
    "plt.show()"
   ]
  },
  {
   "attachments": {},
   "cell_type": "markdown",
   "metadata": {},
   "source": [
    "Next is Lasso regression. It uses a different regularization term compared to Ridge regression."
   ]
  },
  {
   "cell_type": "code",
   "execution_count": 146,
   "metadata": {},
   "outputs": [
    {
     "ename": "NameError",
     "evalue": "name 'poly_features' is not defined",
     "output_type": "error",
     "traceback": [
      "\u001b[1;31m---------------------------------------------------------------------------\u001b[0m",
      "\u001b[1;31mNameError\u001b[0m                                 Traceback (most recent call last)",
      "\u001b[1;32mc:\\Users\\dompp\\AA_2022_Project\\AA-2022-TEAM-11\\Pred_clean.ipynb Cell 43\u001b[0m in \u001b[0;36m<cell line: 8>\u001b[1;34m()\u001b[0m\n\u001b[0;32m      <a href='vscode-notebook-cell:/c%3A/Users/dompp/AA_2022_Project/AA-2022-TEAM-11/Pred_clean.ipynb#X56sZmlsZQ%3D%3D?line=4'>5</a>\u001b[0m     \u001b[39mreturn\u001b[39;00m model\n\u001b[0;32m      <a href='vscode-notebook-cell:/c%3A/Users/dompp/AA_2022_Project/AA-2022-TEAM-11/Pred_clean.ipynb#X56sZmlsZQ%3D%3D?line=6'>7</a>\u001b[0m \u001b[39m# test lasso prediction with degree = 8\u001b[39;00m\n\u001b[1;32m----> <a href='vscode-notebook-cell:/c%3A/Users/dompp/AA_2022_Project/AA-2022-TEAM-11/Pred_clean.ipynb#X56sZmlsZQ%3D%3D?line=7'>8</a>\u001b[0m model \u001b[39m=\u001b[39m lasso_regression(X_train, y_train, \u001b[39m8\u001b[39;49m, \u001b[39m10\u001b[39;49m)\n\u001b[0;32m     <a href='vscode-notebook-cell:/c%3A/Users/dompp/AA_2022_Project/AA-2022-TEAM-11/Pred_clean.ipynb#X56sZmlsZQ%3D%3D?line=9'>10</a>\u001b[0m y_model \u001b[39m=\u001b[39m model\u001b[39m.\u001b[39mpredict(poly_features(X_valid, \u001b[39m8\u001b[39m))\n\u001b[0;32m     <a href='vscode-notebook-cell:/c%3A/Users/dompp/AA_2022_Project/AA-2022-TEAM-11/Pred_clean.ipynb#X56sZmlsZQ%3D%3D?line=11'>12</a>\u001b[0m evaluate(y_valid, y_model)\n",
      "\u001b[1;32mc:\\Users\\dompp\\AA_2022_Project\\AA-2022-TEAM-11\\Pred_clean.ipynb Cell 43\u001b[0m in \u001b[0;36mlasso_regression\u001b[1;34m(X, y, d, alpha)\u001b[0m\n\u001b[0;32m      <a href='vscode-notebook-cell:/c%3A/Users/dompp/AA_2022_Project/AA-2022-TEAM-11/Pred_clean.ipynb#X56sZmlsZQ%3D%3D?line=1'>2</a>\u001b[0m \u001b[39mdef\u001b[39;00m \u001b[39mlasso_regression\u001b[39m(X, y, d, alpha):\n\u001b[0;32m      <a href='vscode-notebook-cell:/c%3A/Users/dompp/AA_2022_Project/AA-2022-TEAM-11/Pred_clean.ipynb#X56sZmlsZQ%3D%3D?line=2'>3</a>\u001b[0m     model \u001b[39m=\u001b[39m Lasso(alpha\u001b[39m=\u001b[39malpha)\n\u001b[1;32m----> <a href='vscode-notebook-cell:/c%3A/Users/dompp/AA_2022_Project/AA-2022-TEAM-11/Pred_clean.ipynb#X56sZmlsZQ%3D%3D?line=3'>4</a>\u001b[0m     model\u001b[39m.\u001b[39mfit(poly_features(X, d), y)\n\u001b[0;32m      <a href='vscode-notebook-cell:/c%3A/Users/dompp/AA_2022_Project/AA-2022-TEAM-11/Pred_clean.ipynb#X56sZmlsZQ%3D%3D?line=4'>5</a>\u001b[0m     \u001b[39mreturn\u001b[39;00m model\n",
      "\u001b[1;31mNameError\u001b[0m: name 'poly_features' is not defined"
     ]
    }
   ],
   "source": [
    "# lasso regression\n",
    "def lasso_regression(X, y, d, alpha):\n",
    "    model = Lasso(alpha=alpha)\n",
    "    model.fit(poly_features(X, d), y)\n",
    "    return model\n",
    "\n",
    "# test lasso prediction with degree = 8\n",
    "model = lasso_regression(X_train, y_train, 8, 10)\n",
    "\n",
    "y_model = model.predict(poly_features(X_valid, 8))\n",
    "\n",
    "evaluate(y_valid, y_model)"
   ]
  },
  {
   "cell_type": "code",
   "execution_count": null,
   "metadata": {},
   "outputs": [],
   "source": []
  }
 ],
 "metadata": {
  "kernelspec": {
   "display_name": "base",
   "language": "python",
   "name": "python3"
  },
  "language_info": {
   "codemirror_mode": {
    "name": "ipython",
    "version": 3
   },
   "file_extension": ".py",
   "mimetype": "text/x-python",
   "name": "python",
   "nbconvert_exporter": "python",
   "pygments_lexer": "ipython3",
   "version": "3.9.12 (main, Apr  4 2022, 05:22:27) [MSC v.1916 64 bit (AMD64)]"
  },
  "orig_nbformat": 4,
  "vscode": {
   "interpreter": {
    "hash": "a6467a01d5df23dc51c343d569f384d6f6878013175da5eccd9655a66946a61a"
   }
  }
 },
 "nbformat": 4,
 "nbformat_minor": 2
}
