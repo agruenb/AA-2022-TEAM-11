{
 "cells": [
  {
   "attachments": {},
   "cell_type": "markdown",
   "metadata": {},
   "source": [
    "# Tree Regression Prediction\n",
    "\n",
    "In this notebook the amount of trips in an hour is predicted. The used algorithm is the Decision Tree algorithm."
   ]
  },
  {
   "cell_type": "code",
   "execution_count": 2,
   "metadata": {},
   "outputs": [],
   "source": [
    "import warnings\n",
    "warnings.filterwarnings('ignore')\n",
    "\n",
    "import pandas as pd\n",
    "import numpy as np\n",
    "import matplotlib.pyplot as plt\n",
    "import seaborn as sns\n",
    "import sklearn as sklearn\n",
    "from sklearn.metrics import mean_squared_error, mean_absolute_error, r2_score\n",
    "from sklearn.preprocessing import StandardScaler\n",
    "from sklearn.model_selection import train_test_split\n",
    "from matplotlib import rcParams\n",
    "from sklearn.tree import DecisionTreeRegressor, export_graphviz"
   ]
  },
  {
   "cell_type": "code",
   "execution_count": 3,
   "metadata": {},
   "outputs": [
    {
     "data": {
      "text/html": [
       "<div>\n",
       "<style scoped>\n",
       "    .dataframe tbody tr th:only-of-type {\n",
       "        vertical-align: middle;\n",
       "    }\n",
       "\n",
       "    .dataframe tbody tr th {\n",
       "        vertical-align: top;\n",
       "    }\n",
       "\n",
       "    .dataframe thead th {\n",
       "        text-align: right;\n",
       "    }\n",
       "</style>\n",
       "<table border=\"1\" class=\"dataframe\">\n",
       "  <thead>\n",
       "    <tr style=\"text-align: right;\">\n",
       "      <th></th>\n",
       "      <th>start_time</th>\n",
       "      <th>trip_amount</th>\n",
       "      <th>start_hour</th>\n",
       "      <th>start_day</th>\n",
       "      <th>start_month</th>\n",
       "      <th>start_weekday</th>\n",
       "      <th>is_weekend</th>\n",
       "      <th>mean_duration_min</th>\n",
       "      <th>max_temp</th>\n",
       "      <th>precip</th>\n",
       "    </tr>\n",
       "  </thead>\n",
       "  <tbody>\n",
       "    <tr>\n",
       "      <th>0</th>\n",
       "      <td>2017-01-01</td>\n",
       "      <td>4</td>\n",
       "      <td>0</td>\n",
       "      <td>1</td>\n",
       "      <td>1</td>\n",
       "      <td>6</td>\n",
       "      <td>1</td>\n",
       "      <td>9.5</td>\n",
       "      <td>-0.6</td>\n",
       "      <td>0.0</td>\n",
       "    </tr>\n",
       "  </tbody>\n",
       "</table>\n",
       "</div>"
      ],
      "text/plain": [
       "  start_time  trip_amount  start_hour  start_day  start_month  start_weekday  \\\n",
       "0 2017-01-01            4           0          1            1              6   \n",
       "\n",
       "   is_weekend  mean_duration_min  max_temp  precip  \n",
       "0           1                9.5      -0.6     0.0  "
      ]
     },
     "execution_count": 3,
     "metadata": {},
     "output_type": "execute_result"
    }
   ],
   "source": [
    "full_data = pd.read_csv(\"load_prediction_data.csv\", parse_dates=[\"start_time\"])\n",
    "full_data.head(1)"
   ]
  },
  {
   "attachments": {},
   "cell_type": "markdown",
   "metadata": {},
   "source": [
    "First we take our selected features and our target features out of the full dataset. After that we divide our input features into training, validation and test sets."
   ]
  },
  {
   "cell_type": "code",
   "execution_count": 5,
   "metadata": {},
   "outputs": [],
   "source": [
    "X_full = full_data[[\"start_hour\",\"start_month\",\"start_weekday\",\"is_weekend\",\"max_temp\"]]\n",
    "y_full = full_data[\"trip_amount\"]\n",
    "\n",
    "# train-test split (30% test 49% train 21% validation)\n",
    "X_temp, X_test, y_temp, y_test = train_test_split(X_full, y_full, test_size= 0.3, random_state= 42)\n",
    "X_train, X_valid, y_train, y_valid = train_test_split(X_temp, y_temp, test_size= 0.3, random_state= 42)"
   ]
  },
  {
   "cell_type": "code",
   "execution_count": 19,
   "metadata": {},
   "outputs": [
    {
     "name": "stdout",
     "output_type": "stream",
     "text": [
      "MSE: 406.0020610132957\n",
      "MAE: 12.024263599283593\n",
      "R^2: 0.8348974955609738\n"
     ]
    }
   ],
   "source": [
    "def reg_tree(X, y, depth):\n",
    "    tree_reg_model = DecisionTreeRegressor(max_depth=depth, criterion=\"squared_error\")\n",
    "    tree_reg_model.fit(X, y)\n",
    "    return tree_reg_model\n",
    "\n",
    "def evaluate(y_true, y_pred):\n",
    "    print(\"MSE: \" + str(mean_squared_error(y_true, y_pred)))\n",
    "    print(\"MAE: \" + str(mean_absolute_error(y_true, y_pred)))\n",
    "    print(\"R^2: \" + str(r2_score(y_true, y_pred)))\n",
    "\n",
    "model = reg_tree(X_train, y_train, 9)\n",
    "\n",
    "evaluate(y_valid, model.predict(X_valid))\n",
    "\n",
    "rcParams['figure.figsize'] = 6, 3.75"
   ]
  },
  {
   "cell_type": "code",
   "execution_count": 21,
   "metadata": {},
   "outputs": [
    {
     "data": {
      "image/png": "[encoded data removed]",
      "text/plain": [
       "<Figure size 600x375 with 1 Axes>"
      ]
     },
     "metadata": {},
     "output_type": "display_data"
    }
   ],
   "source": [
    "# tune hyperparameter depth\n",
    "performance_train_set = list()\n",
    "performance_valid_set = list()\n",
    "\n",
    "min_depth = 2\n",
    "max_depth = 16# can take a long time for high numbers (5min for 18)\n",
    "eval_function = mean_squared_error\n",
    "\n",
    "for d in range(min_depth, max_depth + 1):\n",
    "    model = reg_tree(X_train, y_train, d)\n",
    "    \n",
    "    y_model = model.predict(X_train, d)\n",
    "    performance_train_set.append(eval_function(y_train, y_model))\n",
    "\n",
    "    y_model = model.predict(X_valid, d)\n",
    "    performance_valid_set.append(eval_function(y_valid, y_model))\n",
    "\n",
    "plt.plot(np.linspace(min_depth, max_depth+1, max_depth + 1 - min_depth), performance_train_set)\n",
    "plt.plot(np.linspace(min_depth, max_depth+1, max_depth + 1 - min_depth), performance_valid_set)\n",
    "\n",
    "plt.legend([\"Training\", \"Validation\"])\n",
    "plt.xlabel(\"degree\")\n",
    "plt.ylabel(\"MSE\")\n",
    "plt.show()"
   ]
  },
  {
   "cell_type": "code",
   "execution_count": 32,
   "metadata": {},
   "outputs": [
    {
     "ename": "FileNotFoundError",
     "evalue": "[Errno 2] No such file or directory: 'xdg-open'",
     "output_type": "error",
     "traceback": [
      "\u001b[0;31m---------------------------------------------------------------------------\u001b[0m",
      "\u001b[0;31mFileNotFoundError\u001b[0m                         Traceback (most recent call last)",
      "Cell \u001b[0;32mIn[32], line 7\u001b[0m\n\u001b[1;32m      5\u001b[0m graph \u001b[39m=\u001b[39m graphviz\u001b[39m.\u001b[39mSource(dot_data)\n\u001b[1;32m      6\u001b[0m graph\u001b[39m.\u001b[39mformat \u001b[39m=\u001b[39m \u001b[39m'\u001b[39m\u001b[39mpng\u001b[39m\u001b[39m'\u001b[39m\n\u001b[0;32m----> 7\u001b[0m graph\u001b[39m.\u001b[39;49mrender(\u001b[39m'\u001b[39;49m\u001b[39mdtree_render\u001b[39;49m\u001b[39m'\u001b[39;49m,view\u001b[39m=\u001b[39;49m\u001b[39mTrue\u001b[39;49;00m) \u001b[39m# saves as image\u001b[39;00m\n\u001b[1;32m      8\u001b[0m graphviz\u001b[39m.\u001b[39mSource(dot_data)\n",
      "File \u001b[0;32m~/.local/lib/python3.10/site-packages/graphviz/_tools.py:171\u001b[0m, in \u001b[0;36mdeprecate_positional_args.<locals>.decorator.<locals>.wrapper\u001b[0;34m(*args, **kwargs)\u001b[0m\n\u001b[1;32m    162\u001b[0m     wanted \u001b[39m=\u001b[39m \u001b[39m'\u001b[39m\u001b[39m, \u001b[39m\u001b[39m'\u001b[39m\u001b[39m.\u001b[39mjoin(\u001b[39mf\u001b[39m\u001b[39m'\u001b[39m\u001b[39m{\u001b[39;00mname\u001b[39m}\u001b[39;00m\u001b[39m=\u001b[39m\u001b[39m{\u001b[39;00mvalue\u001b[39m!r}\u001b[39;00m\u001b[39m'\u001b[39m\n\u001b[1;32m    163\u001b[0m                        \u001b[39mfor\u001b[39;00m name, value \u001b[39min\u001b[39;00m deprecated\u001b[39m.\u001b[39mitems())\n\u001b[1;32m    164\u001b[0m     warnings\u001b[39m.\u001b[39mwarn(\u001b[39mf\u001b[39m\u001b[39m'\u001b[39m\u001b[39mThe signature of \u001b[39m\u001b[39m{\u001b[39;00mfunc\u001b[39m.\u001b[39m\u001b[39m__name__\u001b[39m\u001b[39m}\u001b[39;00m\u001b[39m will be reduced\u001b[39m\u001b[39m'\u001b[39m\n\u001b[1;32m    165\u001b[0m                   \u001b[39mf\u001b[39m\u001b[39m'\u001b[39m\u001b[39m to \u001b[39m\u001b[39m{\u001b[39;00msupported_number\u001b[39m}\u001b[39;00m\u001b[39m positional args\u001b[39m\u001b[39m'\u001b[39m\n\u001b[1;32m    166\u001b[0m                   \u001b[39mf\u001b[39m\u001b[39m'\u001b[39m\u001b[39m \u001b[39m\u001b[39m{\u001b[39;00m\u001b[39mlist\u001b[39m(supported)\u001b[39m}\u001b[39;00m\u001b[39m: pass \u001b[39m\u001b[39m{\u001b[39;00mwanted\u001b[39m}\u001b[39;00m\u001b[39m'\u001b[39m\n\u001b[1;32m    167\u001b[0m                   \u001b[39m'\u001b[39m\u001b[39m as keyword arg(s)\u001b[39m\u001b[39m'\u001b[39m,\n\u001b[1;32m    168\u001b[0m                   stacklevel\u001b[39m=\u001b[39mstacklevel,\n\u001b[1;32m    169\u001b[0m                   category\u001b[39m=\u001b[39mcategory)\n\u001b[0;32m--> 171\u001b[0m \u001b[39mreturn\u001b[39;00m func(\u001b[39m*\u001b[39;49margs, \u001b[39m*\u001b[39;49m\u001b[39m*\u001b[39;49mkwargs)\n",
      "File \u001b[0;32m~/.local/lib/python3.10/site-packages/graphviz/rendering.py:129\u001b[0m, in \u001b[0;36mRender.render\u001b[0;34m(self, filename, directory, view, cleanup, format, renderer, formatter, neato_no_op, quiet, quiet_view, outfile, engine, raise_if_result_exists, overwrite_source)\u001b[0m\n\u001b[1;32m    126\u001b[0m     os\u001b[39m.\u001b[39mremove(filepath)\n\u001b[1;32m    128\u001b[0m \u001b[39mif\u001b[39;00m quiet_view \u001b[39mor\u001b[39;00m view:\n\u001b[0;32m--> 129\u001b[0m     \u001b[39mself\u001b[39;49m\u001b[39m.\u001b[39;49m_view(rendered, \u001b[39mformat\u001b[39;49m\u001b[39m=\u001b[39;49m\u001b[39mself\u001b[39;49m\u001b[39m.\u001b[39;49m_format, quiet\u001b[39m=\u001b[39;49mquiet_view)\n\u001b[1;32m    131\u001b[0m \u001b[39mreturn\u001b[39;00m rendered\n",
      "File \u001b[0;32m~/.local/lib/python3.10/site-packages/graphviz/rendering.py:148\u001b[0m, in \u001b[0;36mRender._view\u001b[0;34m(self, filepath, format, quiet)\u001b[0m\n\u001b[1;32m    144\u001b[0m \u001b[39melse\u001b[39;00m:\n\u001b[1;32m    145\u001b[0m     \u001b[39mraise\u001b[39;00m \u001b[39mRuntimeError\u001b[39;00m(\u001b[39mf\u001b[39m\u001b[39m'\u001b[39m\u001b[39m{\u001b[39;00m\u001b[39mself\u001b[39m\u001b[39m.\u001b[39m\u001b[39m__class__\u001b[39m\u001b[39m!r}\u001b[39;00m\u001b[39m has no built-in viewer\u001b[39m\u001b[39m'\u001b[39m\n\u001b[1;32m    146\u001b[0m                        \u001b[39mf\u001b[39m\u001b[39m'\u001b[39m\u001b[39m support for \u001b[39m\u001b[39m{\u001b[39;00m\u001b[39mformat\u001b[39m\u001b[39m!r}\u001b[39;00m\u001b[39m'\u001b[39m\n\u001b[1;32m    147\u001b[0m                        \u001b[39mf\u001b[39m\u001b[39m'\u001b[39m\u001b[39m on \u001b[39m\u001b[39m{\u001b[39;00mbackend\u001b[39m.\u001b[39mviewing\u001b[39m.\u001b[39mPLATFORM\u001b[39m!r}\u001b[39;00m\u001b[39m platform\u001b[39m\u001b[39m'\u001b[39m)\n\u001b[0;32m--> 148\u001b[0m view_method(filepath, quiet\u001b[39m=\u001b[39;49mquiet)\n",
      "File \u001b[0;32m~/.local/lib/python3.10/site-packages/graphviz/backend/viewing.py:61\u001b[0m, in \u001b[0;36mview_unixoid\u001b[0;34m(filepath, quiet)\u001b[0m\n\u001b[1;32m     59\u001b[0m log\u001b[39m.\u001b[39mdebug(\u001b[39m'\u001b[39m\u001b[39mview: \u001b[39m\u001b[39m%r\u001b[39;00m\u001b[39m'\u001b[39m, cmd)\n\u001b[1;32m     60\u001b[0m kwargs \u001b[39m=\u001b[39m {\u001b[39m'\u001b[39m\u001b[39mstderr\u001b[39m\u001b[39m'\u001b[39m: subprocess\u001b[39m.\u001b[39mDEVNULL} \u001b[39mif\u001b[39;00m quiet \u001b[39melse\u001b[39;00m {}\n\u001b[0;32m---> 61\u001b[0m subprocess\u001b[39m.\u001b[39;49mPopen(cmd, \u001b[39m*\u001b[39;49m\u001b[39m*\u001b[39;49mkwargs)\n",
      "File \u001b[0;32m/usr/lib/python3.10/subprocess.py:969\u001b[0m, in \u001b[0;36mPopen.__init__\u001b[0;34m(self, args, bufsize, executable, stdin, stdout, stderr, preexec_fn, close_fds, shell, cwd, env, universal_newlines, startupinfo, creationflags, restore_signals, start_new_session, pass_fds, user, group, extra_groups, encoding, errors, text, umask, pipesize)\u001b[0m\n\u001b[1;32m    965\u001b[0m         \u001b[39mif\u001b[39;00m \u001b[39mself\u001b[39m\u001b[39m.\u001b[39mtext_mode:\n\u001b[1;32m    966\u001b[0m             \u001b[39mself\u001b[39m\u001b[39m.\u001b[39mstderr \u001b[39m=\u001b[39m io\u001b[39m.\u001b[39mTextIOWrapper(\u001b[39mself\u001b[39m\u001b[39m.\u001b[39mstderr,\n\u001b[1;32m    967\u001b[0m                     encoding\u001b[39m=\u001b[39mencoding, errors\u001b[39m=\u001b[39merrors)\n\u001b[0;32m--> 969\u001b[0m     \u001b[39mself\u001b[39;49m\u001b[39m.\u001b[39;49m_execute_child(args, executable, preexec_fn, close_fds,\n\u001b[1;32m    970\u001b[0m                         pass_fds, cwd, env,\n\u001b[1;32m    971\u001b[0m                         startupinfo, creationflags, shell,\n\u001b[1;32m    972\u001b[0m                         p2cread, p2cwrite,\n\u001b[1;32m    973\u001b[0m                         c2pread, c2pwrite,\n\u001b[1;32m    974\u001b[0m                         errread, errwrite,\n\u001b[1;32m    975\u001b[0m                         restore_signals,\n\u001b[1;32m    976\u001b[0m                         gid, gids, uid, umask,\n\u001b[1;32m    977\u001b[0m                         start_new_session)\n\u001b[1;32m    978\u001b[0m \u001b[39mexcept\u001b[39;00m:\n\u001b[1;32m    979\u001b[0m     \u001b[39m# Cleanup if the child failed starting.\u001b[39;00m\n\u001b[1;32m    980\u001b[0m     \u001b[39mfor\u001b[39;00m f \u001b[39min\u001b[39;00m \u001b[39mfilter\u001b[39m(\u001b[39mNone\u001b[39;00m, (\u001b[39mself\u001b[39m\u001b[39m.\u001b[39mstdin, \u001b[39mself\u001b[39m\u001b[39m.\u001b[39mstdout, \u001b[39mself\u001b[39m\u001b[39m.\u001b[39mstderr)):\n",
      "File \u001b[0;32m/usr/lib/python3.10/subprocess.py:1845\u001b[0m, in \u001b[0;36mPopen._execute_child\u001b[0;34m(self, args, executable, preexec_fn, close_fds, pass_fds, cwd, env, startupinfo, creationflags, shell, p2cread, p2cwrite, c2pread, c2pwrite, errread, errwrite, restore_signals, gid, gids, uid, umask, start_new_session)\u001b[0m\n\u001b[1;32m   1843\u001b[0m     \u001b[39mif\u001b[39;00m errno_num \u001b[39m!=\u001b[39m \u001b[39m0\u001b[39m:\n\u001b[1;32m   1844\u001b[0m         err_msg \u001b[39m=\u001b[39m os\u001b[39m.\u001b[39mstrerror(errno_num)\n\u001b[0;32m-> 1845\u001b[0m     \u001b[39mraise\u001b[39;00m child_exception_type(errno_num, err_msg, err_filename)\n\u001b[1;32m   1846\u001b[0m \u001b[39mraise\u001b[39;00m child_exception_type(err_msg)\n",
      "\u001b[0;31mFileNotFoundError\u001b[0m: [Errno 2] No such file or directory: 'xdg-open'"
     ]
    }
   ],
   "source": [
    "import graphviz\n",
    "model = reg_tree(X_train, y_train, 5)\n",
    "dot_data = export_graphviz(model, feature_names=[\"start_hour\",\"start_month\",\"start_weekday\",\"is_weekend\",\"max_temp\"])  \n",
    "    \n",
    "graph = graphviz.Source(dot_data)\n",
    "graph.format = 'png'\n",
    "# graph.render('dtree_render',view=True) # saves as image\n",
    "graphviz.Source(dot_data)"
   ]
  }
 ],
 "metadata": {
  "kernelspec": {
   "display_name": "Python 3",
   "language": "python",
   "name": "python3"
  },
  "language_info": {
   "codemirror_mode": {
    "name": "ipython",
    "version": 3
   },
   "file_extension": ".py",
   "mimetype": "text/x-python",
   "name": "python",
   "nbconvert_exporter": "python",
   "pygments_lexer": "ipython3",
   "version": "3.10.6"
  },
  "orig_nbformat": 4,
  "vscode": {
   "interpreter": {
    "hash": "eb4a0ac80907d7f44e1a5e88d3d3381b33e3dbedd3a24d113e876f30a0c46bee"
   }
  }
 },
 "nbformat": 4,
 "nbformat_minor": 2
}
