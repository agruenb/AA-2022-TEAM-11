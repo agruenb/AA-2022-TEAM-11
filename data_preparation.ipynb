{
 "cells": [
  {
   "attachments": {},
   "cell_type": "markdown",
   "metadata": {},
   "source": [
    "Importing the libraries/packages"
   ]
  },
  {
   "cell_type": "code",
   "execution_count": 2,
   "metadata": {},
   "outputs": [
    {
     "name": "stderr",
     "output_type": "stream",
     "text": [
      "c:\\Users\\annal\\anaconda3\\lib\\site-packages\\dtale\\dash_application\\charts.py:7: UserWarning: \n",
      "The dash_core_components package is deprecated. Please replace\n",
      "`import dash_core_components as dcc` with `from dash import dcc`\n",
      "  import dash_core_components as dcc\n",
      "c:\\Users\\annal\\anaconda3\\lib\\site-packages\\dtale\\dash_application\\charts.py:8: UserWarning: \n",
      "The dash_html_components package is deprecated. Please replace\n",
      "`import dash_html_components as html` with `from dash import html`\n",
      "  import dash_html_components as html\n"
     ]
    }
   ],
   "source": [
    "# libraries\n",
    "import numpy as np # used for handling numbers\n",
    "import pandas as pd # used for handling the dataset\n",
    "\n",
    "import dtale # used for better presentation of dataframes\n",
    "\n",
    "\n"
   ]
  },
  {
   "attachments": {},
   "cell_type": "markdown",
   "metadata": {},
   "source": [
    "Import of the dataset"
   ]
  },
  {
   "cell_type": "code",
   "execution_count": 3,
   "metadata": {},
   "outputs": [
    {
     "data": {
      "text/html": [
       "\n",
       "        <iframe\n",
       "            width=\"100%\"\n",
       "            height=\"475\"\n",
       "            src=\"http://AnnaleasPC:40000/dtale/iframe/1\"\n",
       "            frameborder=\"0\"\n",
       "            allowfullscreen\n",
       "            \n",
       "        ></iframe>\n",
       "        "
      ],
      "text/plain": [
       "<IPython.lib.display.IFrame at 0x23572ed2b50>"
      ]
     },
     "metadata": {},
     "output_type": "display_data"
    },
    {
     "data": {
      "text/plain": []
     },
     "execution_count": 3,
     "metadata": {},
     "output_type": "execute_result"
    }
   ],
   "source": [
    "DF_bikesharing = pd.read_csv('.\\data\\chicago_2017.csv')\n",
    "dtale.show(DF_bikesharing)"
   ]
  },
  {
   "cell_type": "code",
   "execution_count": 4,
   "metadata": {},
   "outputs": [
    {
     "data": {
      "text/html": [
       "<div>\n",
       "<style scoped>\n",
       "    .dataframe tbody tr th:only-of-type {\n",
       "        vertical-align: middle;\n",
       "    }\n",
       "\n",
       "    .dataframe tbody tr th {\n",
       "        vertical-align: top;\n",
       "    }\n",
       "\n",
       "    .dataframe thead th {\n",
       "        text-align: right;\n",
       "    }\n",
       "</style>\n",
       "<table border=\"1\" class=\"dataframe\">\n",
       "  <thead>\n",
       "    <tr style=\"text-align: right;\">\n",
       "      <th></th>\n",
       "      <th>start_time</th>\n",
       "      <th>end_time</th>\n",
       "      <th>start_station_id</th>\n",
       "      <th>end_station_id</th>\n",
       "      <th>start_station_name</th>\n",
       "      <th>end_station_name</th>\n",
       "      <th>bike_id</th>\n",
       "      <th>user_type</th>\n",
       "    </tr>\n",
       "  </thead>\n",
       "  <tbody>\n",
       "    <tr>\n",
       "      <th>0</th>\n",
       "      <td>3/31/2017 23:59:07</td>\n",
       "      <td>4/1/2017 00:13:24</td>\n",
       "      <td>66</td>\n",
       "      <td>171</td>\n",
       "      <td>Clinton St &amp; Lake St</td>\n",
       "      <td>May St &amp; Cullerton St</td>\n",
       "      <td>5292</td>\n",
       "      <td>Subscriber</td>\n",
       "    </tr>\n",
       "    <tr>\n",
       "      <th>1</th>\n",
       "      <td>3/31/2017 23:56:25</td>\n",
       "      <td>4/1/2017 00:00:21</td>\n",
       "      <td>199</td>\n",
       "      <td>26</td>\n",
       "      <td>Wabash Ave &amp; Grand Ave</td>\n",
       "      <td>McClurg Ct &amp; Illinois St</td>\n",
       "      <td>4408</td>\n",
       "      <td>Subscriber</td>\n",
       "    </tr>\n",
       "    <tr>\n",
       "      <th>2</th>\n",
       "      <td>3/31/2017 23:55:33</td>\n",
       "      <td>4/1/2017 00:01:21</td>\n",
       "      <td>520</td>\n",
       "      <td>432</td>\n",
       "      <td>Greenview Ave &amp; Jarvis Ave</td>\n",
       "      <td>Clark St &amp; Lunt Ave</td>\n",
       "      <td>696</td>\n",
       "      <td>Subscriber</td>\n",
       "    </tr>\n",
       "    <tr>\n",
       "      <th>3</th>\n",
       "      <td>3/31/2017 23:54:46</td>\n",
       "      <td>3/31/2017 23:59:34</td>\n",
       "      <td>110</td>\n",
       "      <td>142</td>\n",
       "      <td>Dearborn St &amp; Erie St</td>\n",
       "      <td>McClurg Ct &amp; Erie St</td>\n",
       "      <td>4915</td>\n",
       "      <td>Subscriber</td>\n",
       "    </tr>\n",
       "    <tr>\n",
       "      <th>4</th>\n",
       "      <td>3/31/2017 23:53:33</td>\n",
       "      <td>4/1/2017 00:00:28</td>\n",
       "      <td>327</td>\n",
       "      <td>331</td>\n",
       "      <td>Sheffield Ave &amp; Webster Ave</td>\n",
       "      <td>Halsted St &amp; Blackhawk St (*)</td>\n",
       "      <td>4247</td>\n",
       "      <td>Subscriber</td>\n",
       "    </tr>\n",
       "  </tbody>\n",
       "</table>\n",
       "</div>"
      ],
      "text/plain": [
       "           start_time            end_time  start_station_id  end_station_id  \\\n",
       "0  3/31/2017 23:59:07   4/1/2017 00:13:24                66             171   \n",
       "1  3/31/2017 23:56:25   4/1/2017 00:00:21               199              26   \n",
       "2  3/31/2017 23:55:33   4/1/2017 00:01:21               520             432   \n",
       "3  3/31/2017 23:54:46  3/31/2017 23:59:34               110             142   \n",
       "4  3/31/2017 23:53:33   4/1/2017 00:00:28               327             331   \n",
       "\n",
       "            start_station_name               end_station_name  bike_id  \\\n",
       "0         Clinton St & Lake St          May St & Cullerton St     5292   \n",
       "1       Wabash Ave & Grand Ave       McClurg Ct & Illinois St     4408   \n",
       "2   Greenview Ave & Jarvis Ave            Clark St & Lunt Ave      696   \n",
       "3        Dearborn St & Erie St           McClurg Ct & Erie St     4915   \n",
       "4  Sheffield Ave & Webster Ave  Halsted St & Blackhawk St (*)     4247   \n",
       "\n",
       "    user_type  \n",
       "0  Subscriber  \n",
       "1  Subscriber  \n",
       "2  Subscriber  \n",
       "3  Subscriber  \n",
       "4  Subscriber  "
      ]
     },
     "execution_count": 4,
     "metadata": {},
     "output_type": "execute_result"
    }
   ],
   "source": [
    "DF_bikesharing.head()"
   ]
  },
  {
   "cell_type": "code",
   "execution_count": null,
   "metadata": {},
   "outputs": [],
   "source": [
    "MLDL Projekt GitHub -> Schritte 2.1 - 2.4 "
   ]
  }
 ],
 "metadata": {
  "kernelspec": {
   "display_name": "base",
   "language": "python",
   "name": "python3"
  },
  "language_info": {
   "codemirror_mode": {
    "name": "ipython",
    "version": 3
   },
   "file_extension": ".py",
   "mimetype": "text/x-python",
   "name": "python",
   "nbconvert_exporter": "python",
   "pygments_lexer": "ipython3",
   "version": "3.9.13"
  },
  "orig_nbformat": 4,
  "vscode": {
   "interpreter": {
    "hash": "333c853947e61480d4838933ed58c120fdacd04a9d4fbfa1cc48942a2304915d"
   }
  }
 },
 "nbformat": 4,
 "nbformat_minor": 2
}
