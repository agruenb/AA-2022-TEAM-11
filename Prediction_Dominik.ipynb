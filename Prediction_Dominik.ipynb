{
 "cells": [
  {
   "cell_type": "markdown",
   "id": "8282a11d",
   "metadata": {},
   "source": [
    "# Predictive Analytics"
   ]
  },
  {
   "cell_type": "markdown",
   "id": "a8d6b734",
   "metadata": {},
   "source": [
    "### Predicting future bikesharing demand"
   ]
  },
  {
   "cell_type": "markdown",
   "id": "a8726b3e",
   "metadata": {},
   "source": [
    "Accurately predicting future demand is an important step towards providing a high service level (e.g. by deploying additional bikes or by re-positioning vehicles etc.)"
   ]
  },
  {
   "cell_type": "markdown",
   "id": "8f1b017a",
   "metadata": {},
   "source": [
    "Future demand is a key factor that will steer operational decision making of a shared rental network. As a data scientist it is your responsibility to facilitate this type of decision support. For the purpose of this assignment we will be interested in forecasting total system-level demand in the next hour. To do so, develop a prediction model that predicts bike rental demand as a function of suitable features available in or derived from the datasets (incl. the weather data). <br>\n",
    "– Feature Engineering: Develop a rich set of features that you expect to be correlated with your target. In this process you can draw on your domain knowledge and/or conduct additional research around the topic of demand prediction in vehicle rental networks. Justify your selection of features. <br>\n",
    "– Model Building: Select three regression algorithms that are suitable for the prediction task at hand. Explain and justify why you selected the three algorithms and describe their respective advantages and drawbacks. <br>\n",
    "– Model Evaluation: How well do the models perform? Evaluate and benchmark your models’ performance using suitable evaluation metrics. Which model would you select for deployment? <br>\n",
    "– Outlook: How could the selected model be improved further? Explain some of the improvement levers that you might focus on in a follow-up project. <br>"
   ]
  },
  {
   "cell_type": "markdown",
   "id": "7d0ca58e",
   "metadata": {},
   "source": [
    "## Feature Engineering"
   ]
  },
  {
   "cell_type": "markdown",
   "id": "c78664d5",
   "metadata": {},
   "source": [
    "Develop a rich set of features that you expect to be correlated with your target. In this process you can draw on your domain knowledge and/or conduct additional research around the topic of demand prediction in vehicle rental networks. Justify your selection of features."
   ]
  },
  {
   "cell_type": "code",
   "execution_count": 113,
   "id": "81df0609",
   "metadata": {},
   "outputs": [],
   "source": [
    "#Import Dataset \n",
    "#Look at Dataset / clean\n",
    "#split Dataset\n",
    "#Justify by showing correlation \n",
    "#maybe PCA"
   ]
  },
  {
   "cell_type": "code",
   "execution_count": 114,
   "id": "30819d0b",
   "metadata": {},
   "outputs": [],
   "source": [
    "import warnings\n",
    "warnings.filterwarnings('ignore')\n",
    "\n",
    "import pandas as pd\n",
    "import numpy as np\n",
    "from datetime import date, time, datetime, timedelta "
   ]
  },
  {
   "cell_type": "code",
   "execution_count": 115,
   "id": "acde3ac0",
   "metadata": {},
   "outputs": [
    {
     "data": {
      "text/html": [
       "<div>\n",
       "<style scoped>\n",
       "    .dataframe tbody tr th:only-of-type {\n",
       "        vertical-align: middle;\n",
       "    }\n",
       "\n",
       "    .dataframe tbody tr th {\n",
       "        vertical-align: top;\n",
       "    }\n",
       "\n",
       "    .dataframe thead th {\n",
       "        text-align: right;\n",
       "    }\n",
       "</style>\n",
       "<table border=\"1\" class=\"dataframe\">\n",
       "  <thead>\n",
       "    <tr style=\"text-align: right;\">\n",
       "      <th></th>\n",
       "      <th>start_time</th>\n",
       "      <th>end_time</th>\n",
       "      <th>start_station_id</th>\n",
       "      <th>end_station_id</th>\n",
       "      <th>start_station_name</th>\n",
       "      <th>end_station_name</th>\n",
       "      <th>bike_id</th>\n",
       "      <th>user_type</th>\n",
       "      <th>start_hour</th>\n",
       "      <th>start_day</th>\n",
       "      <th>start_month</th>\n",
       "      <th>start_weekday</th>\n",
       "      <th>max_temp</th>\n",
       "      <th>min_temp</th>\n",
       "      <th>precip</th>\n",
       "      <th>start_lat</th>\n",
       "      <th>start_long</th>\n",
       "      <th>end_lat</th>\n",
       "      <th>end_long</th>\n",
       "    </tr>\n",
       "  </thead>\n",
       "  <tbody>\n",
       "    <tr>\n",
       "      <th>0</th>\n",
       "      <td>2017-01-01 00:00:36</td>\n",
       "      <td>2017-01-01 00:06:32</td>\n",
       "      <td>414</td>\n",
       "      <td>191</td>\n",
       "      <td>Canal St &amp; Taylor St</td>\n",
       "      <td>Canal St &amp; Monroe St (*)</td>\n",
       "      <td>2511</td>\n",
       "      <td>Customer</td>\n",
       "      <td>0</td>\n",
       "      <td>1</td>\n",
       "      <td>1</td>\n",
       "      <td>6</td>\n",
       "      <td>-0.6</td>\n",
       "      <td>-0.6</td>\n",
       "      <td>0.0</td>\n",
       "      <td>41.870257</td>\n",
       "      <td>-87.639474</td>\n",
       "      <td>41.880884</td>\n",
       "      <td>-87.639525</td>\n",
       "    </tr>\n",
       "    <tr>\n",
       "      <th>1</th>\n",
       "      <td>2017-01-01 00:02:54</td>\n",
       "      <td>2017-01-01 00:08:21</td>\n",
       "      <td>28</td>\n",
       "      <td>20</td>\n",
       "      <td>Larrabee St &amp; Menomonee St</td>\n",
       "      <td>Sheffield Ave &amp; Kingsbury St</td>\n",
       "      <td>3660</td>\n",
       "      <td>Subscriber</td>\n",
       "      <td>0</td>\n",
       "      <td>1</td>\n",
       "      <td>1</td>\n",
       "      <td>6</td>\n",
       "      <td>-0.6</td>\n",
       "      <td>-0.6</td>\n",
       "      <td>0.0</td>\n",
       "      <td>41.914680</td>\n",
       "      <td>-87.643320</td>\n",
       "      <td>41.910522</td>\n",
       "      <td>-87.653106</td>\n",
       "    </tr>\n",
       "    <tr>\n",
       "      <th>2</th>\n",
       "      <td>2017-01-01 00:06:06</td>\n",
       "      <td>2017-01-01 00:18:31</td>\n",
       "      <td>620</td>\n",
       "      <td>333</td>\n",
       "      <td>Orleans St &amp; Chestnut St (NEXT Apts)</td>\n",
       "      <td>Ashland Ave &amp; Blackhawk St</td>\n",
       "      <td>4992</td>\n",
       "      <td>Subscriber</td>\n",
       "      <td>0</td>\n",
       "      <td>1</td>\n",
       "      <td>1</td>\n",
       "      <td>6</td>\n",
       "      <td>-0.6</td>\n",
       "      <td>-0.6</td>\n",
       "      <td>0.0</td>\n",
       "      <td>41.898203</td>\n",
       "      <td>-87.637536</td>\n",
       "      <td>41.907066</td>\n",
       "      <td>-87.667252</td>\n",
       "    </tr>\n",
       "    <tr>\n",
       "      <th>3</th>\n",
       "      <td>2017-01-01 00:07:28</td>\n",
       "      <td>2017-01-01 00:12:51</td>\n",
       "      <td>287</td>\n",
       "      <td>68</td>\n",
       "      <td>Franklin St &amp; Monroe St</td>\n",
       "      <td>Clinton St &amp; Tilden St</td>\n",
       "      <td>5637</td>\n",
       "      <td>Subscriber</td>\n",
       "      <td>0</td>\n",
       "      <td>1</td>\n",
       "      <td>1</td>\n",
       "      <td>6</td>\n",
       "      <td>-0.6</td>\n",
       "      <td>-0.6</td>\n",
       "      <td>0.0</td>\n",
       "      <td>41.880317</td>\n",
       "      <td>-87.635185</td>\n",
       "      <td>41.875885</td>\n",
       "      <td>-87.640795</td>\n",
       "    </tr>\n",
       "    <tr>\n",
       "      <th>4</th>\n",
       "      <td>2017-01-01 00:07:57</td>\n",
       "      <td>2017-01-01 00:20:53</td>\n",
       "      <td>300</td>\n",
       "      <td>118</td>\n",
       "      <td>Broadway &amp; Barry Ave</td>\n",
       "      <td>Sedgwick St &amp; North Ave</td>\n",
       "      <td>2209</td>\n",
       "      <td>Subscriber</td>\n",
       "      <td>0</td>\n",
       "      <td>1</td>\n",
       "      <td>1</td>\n",
       "      <td>6</td>\n",
       "      <td>-0.6</td>\n",
       "      <td>-0.6</td>\n",
       "      <td>0.0</td>\n",
       "      <td>41.937725</td>\n",
       "      <td>-87.644095</td>\n",
       "      <td>41.911386</td>\n",
       "      <td>-87.638677</td>\n",
       "    </tr>\n",
       "  </tbody>\n",
       "</table>\n",
       "</div>"
      ],
      "text/plain": [
       "            start_time             end_time  start_station_id  end_station_id  \\\n",
       "0  2017-01-01 00:00:36  2017-01-01 00:06:32               414             191   \n",
       "1  2017-01-01 00:02:54  2017-01-01 00:08:21                28              20   \n",
       "2  2017-01-01 00:06:06  2017-01-01 00:18:31               620             333   \n",
       "3  2017-01-01 00:07:28  2017-01-01 00:12:51               287              68   \n",
       "4  2017-01-01 00:07:57  2017-01-01 00:20:53               300             118   \n",
       "\n",
       "                     start_station_name              end_station_name  \\\n",
       "0                  Canal St & Taylor St      Canal St & Monroe St (*)   \n",
       "1            Larrabee St & Menomonee St  Sheffield Ave & Kingsbury St   \n",
       "2  Orleans St & Chestnut St (NEXT Apts)    Ashland Ave & Blackhawk St   \n",
       "3               Franklin St & Monroe St        Clinton St & Tilden St   \n",
       "4                  Broadway & Barry Ave       Sedgwick St & North Ave   \n",
       "\n",
       "   bike_id   user_type  start_hour  start_day  start_month  start_weekday  \\\n",
       "0     2511    Customer           0          1            1              6   \n",
       "1     3660  Subscriber           0          1            1              6   \n",
       "2     4992  Subscriber           0          1            1              6   \n",
       "3     5637  Subscriber           0          1            1              6   \n",
       "4     2209  Subscriber           0          1            1              6   \n",
       "\n",
       "   max_temp  min_temp  precip  start_lat  start_long    end_lat   end_long  \n",
       "0      -0.6      -0.6     0.0  41.870257  -87.639474  41.880884 -87.639525  \n",
       "1      -0.6      -0.6     0.0  41.914680  -87.643320  41.910522 -87.653106  \n",
       "2      -0.6      -0.6     0.0  41.898203  -87.637536  41.907066 -87.667252  \n",
       "3      -0.6      -0.6     0.0  41.880317  -87.635185  41.875885 -87.640795  \n",
       "4      -0.6      -0.6     0.0  41.937725  -87.644095  41.911386 -87.638677  "
      ]
     },
     "execution_count": 115,
     "metadata": {},
     "output_type": "execute_result"
    }
   ],
   "source": [
    "#Import Dataset \n",
    "file_path = \"./data/\"\n",
    "\n",
    "raw_data = pd.read_csv(f\"{file_path}chicago_2017_prepared.csv\")\n",
    "raw_data.head()"
   ]
  },
  {
   "cell_type": "code",
   "execution_count": 116,
   "id": "6e562887",
   "metadata": {},
   "outputs": [
    {
     "name": "stdout",
     "output_type": "stream",
     "text": [
      "<class 'pandas.core.frame.DataFrame'>\n",
      "RangeIndex: 3828954 entries, 0 to 3828953\n",
      "Data columns (total 19 columns):\n",
      " #   Column              Dtype  \n",
      "---  ------              -----  \n",
      " 0   start_time          object \n",
      " 1   end_time            object \n",
      " 2   start_station_id    int64  \n",
      " 3   end_station_id      int64  \n",
      " 4   start_station_name  object \n",
      " 5   end_station_name    object \n",
      " 6   bike_id             int64  \n",
      " 7   user_type           object \n",
      " 8   start_hour          int64  \n",
      " 9   start_day           int64  \n",
      " 10  start_month         int64  \n",
      " 11  start_weekday       int64  \n",
      " 12  max_temp            float64\n",
      " 13  min_temp            float64\n",
      " 14  precip              float64\n",
      " 15  start_lat           float64\n",
      " 16  start_long          float64\n",
      " 17  end_lat             float64\n",
      " 18  end_long            float64\n",
      "dtypes: float64(7), int64(7), object(5)\n",
      "memory usage: 555.0+ MB\n"
     ]
    }
   ],
   "source": [
    "raw_data.info()"
   ]
  },
  {
   "cell_type": "markdown",
   "id": "0d19cf3f",
   "metadata": {},
   "source": [
    "Our task is to predict the trip demand in the next hour in the network. To do so, we decided to fit the data into a format where one data sample (one row) contains measurements on the following features:\n",
    "\n",
    "month\n",
    "day\n",
    "hour\n",
    "weekday\n",
    "maximum temperature\n",
    "precipitation\n",
    "\n",
    "The target would then be the number of trips within that hour."
   ]
  },
  {
   "cell_type": "code",
   "execution_count": 117,
   "id": "bef95acb",
   "metadata": {},
   "outputs": [
    {
     "data": {
      "text/html": [
       "<div>\n",
       "<style scoped>\n",
       "    .dataframe tbody tr th:only-of-type {\n",
       "        vertical-align: middle;\n",
       "    }\n",
       "\n",
       "    .dataframe tbody tr th {\n",
       "        vertical-align: top;\n",
       "    }\n",
       "\n",
       "    .dataframe thead th {\n",
       "        text-align: right;\n",
       "    }\n",
       "</style>\n",
       "<table border=\"1\" class=\"dataframe\">\n",
       "  <thead>\n",
       "    <tr style=\"text-align: right;\">\n",
       "      <th></th>\n",
       "      <th>month</th>\n",
       "      <th>day</th>\n",
       "      <th>hour</th>\n",
       "      <th>weekday</th>\n",
       "      <th>precip</th>\n",
       "      <th>temp</th>\n",
       "      <th>trips</th>\n",
       "    </tr>\n",
       "  </thead>\n",
       "  <tbody>\n",
       "    <tr>\n",
       "      <th>0</th>\n",
       "      <td>1</td>\n",
       "      <td>1</td>\n",
       "      <td>0</td>\n",
       "      <td>6</td>\n",
       "      <td>0.0</td>\n",
       "      <td>-0.6</td>\n",
       "      <td>46</td>\n",
       "    </tr>\n",
       "    <tr>\n",
       "      <th>1</th>\n",
       "      <td>1</td>\n",
       "      <td>1</td>\n",
       "      <td>1</td>\n",
       "      <td>6</td>\n",
       "      <td>0.0</td>\n",
       "      <td>-2.2</td>\n",
       "      <td>46</td>\n",
       "    </tr>\n",
       "    <tr>\n",
       "      <th>2</th>\n",
       "      <td>1</td>\n",
       "      <td>1</td>\n",
       "      <td>2</td>\n",
       "      <td>6</td>\n",
       "      <td>0.0</td>\n",
       "      <td>-2.8</td>\n",
       "      <td>36</td>\n",
       "    </tr>\n",
       "    <tr>\n",
       "      <th>3</th>\n",
       "      <td>1</td>\n",
       "      <td>1</td>\n",
       "      <td>3</td>\n",
       "      <td>6</td>\n",
       "      <td>0.0</td>\n",
       "      <td>-3.3</td>\n",
       "      <td>18</td>\n",
       "    </tr>\n",
       "    <tr>\n",
       "      <th>4</th>\n",
       "      <td>1</td>\n",
       "      <td>1</td>\n",
       "      <td>4</td>\n",
       "      <td>6</td>\n",
       "      <td>0.0</td>\n",
       "      <td>-3.3</td>\n",
       "      <td>6</td>\n",
       "    </tr>\n",
       "  </tbody>\n",
       "</table>\n",
       "</div>"
      ],
      "text/plain": [
       "   month  day  hour  weekday  precip  temp  trips\n",
       "0      1    1     0        6     0.0  -0.6     46\n",
       "1      1    1     1        6     0.0  -2.2     46\n",
       "2      1    1     2        6     0.0  -2.8     36\n",
       "3      1    1     3        6     0.0  -3.3     18\n",
       "4      1    1     4        6     0.0  -3.3      6"
      ]
     },
     "execution_count": 117,
     "metadata": {},
     "output_type": "execute_result"
    }
   ],
   "source": [
    "raw_data = raw_data[[\"start_month\", \"start_day\", \"start_hour\", \"start_weekday\", \"bike_id\", \"max_temp\", \"min_temp\", \"precip\"]]\n",
    "raw_data.rename(columns={\"start_month\": \"month\", \"start_day\": \"day\", \"start_hour\": \"hour\", \"start_weekday\": \"weekday\"}, inplace=True)\n",
    "trip_number = raw_data.groupby([\"month\", \"day\", \"hour\"])['bike_id'].count()\n",
    "\n",
    "raw_data['temp'] = raw_data['min_temp'] + ((raw_data['max_temp'] - raw_data['min_temp']) /2)\n",
    "raw_data.drop(['max_temp', 'min_temp'], axis=1, inplace=True)\n",
    "\n",
    "raw_data.drop('bike_id', axis=1, inplace=True)\n",
    "raw_data.drop_duplicates(inplace=True)\n",
    "raw_data['trips'] = trip_number.values\n",
    "raw_data = raw_data.reset_index(drop=True)\n",
    "\n",
    "raw_data.head()"
   ]
  },
  {
   "cell_type": "code",
   "execution_count": 118,
   "id": "e49de861",
   "metadata": {
    "scrolled": true
   },
   "outputs": [
    {
     "data": {
      "text/plain": [
       "8743"
      ]
     },
     "execution_count": 118,
     "metadata": {},
     "output_type": "execute_result"
    }
   ],
   "source": [
    "raw_data['trips'].count()"
   ]
  },
  {
   "cell_type": "markdown",
   "id": "8481562e",
   "metadata": {},
   "source": [
    "As we can see, we only have trip data for 8743 hours of the year. A year has 365 * 24 = 8760 hours. So there were 17 hours in the year were we are missing trip data, most likely because there simply were no trips during these hours. We will look look at these missing hours after creating a new data frame implementing all hours and merging both dataframes"
   ]
  },
  {
   "cell_type": "code",
   "execution_count": 119,
   "id": "c9cedbda",
   "metadata": {},
   "outputs": [],
   "source": [
    "hourly_2017 = (datetime(year=2017, month=1, day=1, hour=0)) + pd.to_timedelta(np.arange(365 * 24), 'H')\n",
    "\n",
    "hourly_2017_df = pd.DataFrame(hourly_2017)\n",
    "hourly_2017_df[0] = pd.to_datetime(hourly_2017_df[0])\n",
    "hourly_2017_df[\"month\"] = hourly_2017_df[0].apply(lambda date: date.month)\n",
    "hourly_2017_df[\"day\"] = hourly_2017_df[0].apply(lambda date: date.day)\n",
    "hourly_2017_df[\"hour\"] = hourly_2017_df[0].apply(lambda date: date.hour)\n",
    "hourly_2017_df[\"weekday\"] = hourly_2017_df[0].apply(lambda date: date.weekday())\n",
    "hourly_2017_df = hourly_2017_df.drop(0, 1)\n",
    "\n",
    "hourly_bikesharing_demand = pd.merge(hourly_2017_df, raw_data, on=['month', 'day', 'hour', 'hour' , 'weekday'], how='left')\n",
    "#hourly_bikesharing_demand['trip_count'] = hourly_bikesharing_demand['trip_count'].fillna(0)\n",
    "#hourly_bikesharing_demand['trip_count'].count()"
   ]
  },
  {
   "cell_type": "code",
   "execution_count": 120,
   "id": "0b9f941e",
   "metadata": {
    "scrolled": true
   },
   "outputs": [
    {
     "data": {
      "text/html": [
       "<div>\n",
       "<style scoped>\n",
       "    .dataframe tbody tr th:only-of-type {\n",
       "        vertical-align: middle;\n",
       "    }\n",
       "\n",
       "    .dataframe tbody tr th {\n",
       "        vertical-align: top;\n",
       "    }\n",
       "\n",
       "    .dataframe thead th {\n",
       "        text-align: right;\n",
       "    }\n",
       "</style>\n",
       "<table border=\"1\" class=\"dataframe\">\n",
       "  <thead>\n",
       "    <tr style=\"text-align: right;\">\n",
       "      <th></th>\n",
       "      <th>month</th>\n",
       "      <th>day</th>\n",
       "      <th>hour</th>\n",
       "      <th>weekday</th>\n",
       "      <th>precip</th>\n",
       "      <th>temp</th>\n",
       "      <th>trips</th>\n",
       "    </tr>\n",
       "  </thead>\n",
       "  <tbody>\n",
       "    <tr>\n",
       "      <th>0</th>\n",
       "      <td>1</td>\n",
       "      <td>1</td>\n",
       "      <td>0</td>\n",
       "      <td>6</td>\n",
       "      <td>0.0</td>\n",
       "      <td>-0.6</td>\n",
       "      <td>46.0</td>\n",
       "    </tr>\n",
       "    <tr>\n",
       "      <th>1</th>\n",
       "      <td>1</td>\n",
       "      <td>1</td>\n",
       "      <td>1</td>\n",
       "      <td>6</td>\n",
       "      <td>0.0</td>\n",
       "      <td>-2.2</td>\n",
       "      <td>46.0</td>\n",
       "    </tr>\n",
       "    <tr>\n",
       "      <th>2</th>\n",
       "      <td>1</td>\n",
       "      <td>1</td>\n",
       "      <td>2</td>\n",
       "      <td>6</td>\n",
       "      <td>0.0</td>\n",
       "      <td>-2.8</td>\n",
       "      <td>36.0</td>\n",
       "    </tr>\n",
       "    <tr>\n",
       "      <th>3</th>\n",
       "      <td>1</td>\n",
       "      <td>1</td>\n",
       "      <td>3</td>\n",
       "      <td>6</td>\n",
       "      <td>0.0</td>\n",
       "      <td>-3.3</td>\n",
       "      <td>18.0</td>\n",
       "    </tr>\n",
       "    <tr>\n",
       "      <th>4</th>\n",
       "      <td>1</td>\n",
       "      <td>1</td>\n",
       "      <td>4</td>\n",
       "      <td>6</td>\n",
       "      <td>0.0</td>\n",
       "      <td>-3.3</td>\n",
       "      <td>6.0</td>\n",
       "    </tr>\n",
       "  </tbody>\n",
       "</table>\n",
       "</div>"
      ],
      "text/plain": [
       "   month  day  hour  weekday  precip  temp  trips\n",
       "0      1    1     0        6     0.0  -0.6   46.0\n",
       "1      1    1     1        6     0.0  -2.2   46.0\n",
       "2      1    1     2        6     0.0  -2.8   36.0\n",
       "3      1    1     3        6     0.0  -3.3   18.0\n",
       "4      1    1     4        6     0.0  -3.3    6.0"
      ]
     },
     "execution_count": 120,
     "metadata": {},
     "output_type": "execute_result"
    }
   ],
   "source": [
    "hourly_bikesharing_demand.head()"
   ]
  },
  {
   "cell_type": "code",
   "execution_count": 121,
   "id": "e849fb1a",
   "metadata": {
    "scrolled": true
   },
   "outputs": [
    {
     "data": {
      "text/html": [
       "<div>\n",
       "<style scoped>\n",
       "    .dataframe tbody tr th:only-of-type {\n",
       "        vertical-align: middle;\n",
       "    }\n",
       "\n",
       "    .dataframe tbody tr th {\n",
       "        vertical-align: top;\n",
       "    }\n",
       "\n",
       "    .dataframe thead th {\n",
       "        text-align: right;\n",
       "    }\n",
       "</style>\n",
       "<table border=\"1\" class=\"dataframe\">\n",
       "  <thead>\n",
       "    <tr style=\"text-align: right;\">\n",
       "      <th></th>\n",
       "      <th>month</th>\n",
       "      <th>day</th>\n",
       "      <th>hour</th>\n",
       "      <th>weekday</th>\n",
       "      <th>precip</th>\n",
       "      <th>temp</th>\n",
       "      <th>trips</th>\n",
       "    </tr>\n",
       "  </thead>\n",
       "  <tbody>\n",
       "    <tr>\n",
       "      <th>195</th>\n",
       "      <td>1</td>\n",
       "      <td>9</td>\n",
       "      <td>3</td>\n",
       "      <td>0</td>\n",
       "      <td>NaN</td>\n",
       "      <td>NaN</td>\n",
       "      <td>NaN</td>\n",
       "    </tr>\n",
       "    <tr>\n",
       "      <th>387</th>\n",
       "      <td>1</td>\n",
       "      <td>17</td>\n",
       "      <td>3</td>\n",
       "      <td>1</td>\n",
       "      <td>NaN</td>\n",
       "      <td>NaN</td>\n",
       "      <td>NaN</td>\n",
       "    </tr>\n",
       "    <tr>\n",
       "      <th>938</th>\n",
       "      <td>2</td>\n",
       "      <td>9</td>\n",
       "      <td>2</td>\n",
       "      <td>3</td>\n",
       "      <td>NaN</td>\n",
       "      <td>NaN</td>\n",
       "      <td>NaN</td>\n",
       "    </tr>\n",
       "    <tr>\n",
       "      <th>963</th>\n",
       "      <td>2</td>\n",
       "      <td>10</td>\n",
       "      <td>3</td>\n",
       "      <td>4</td>\n",
       "      <td>NaN</td>\n",
       "      <td>NaN</td>\n",
       "      <td>NaN</td>\n",
       "    </tr>\n",
       "    <tr>\n",
       "      <th>1562</th>\n",
       "      <td>3</td>\n",
       "      <td>7</td>\n",
       "      <td>2</td>\n",
       "      <td>1</td>\n",
       "      <td>NaN</td>\n",
       "      <td>NaN</td>\n",
       "      <td>NaN</td>\n",
       "    </tr>\n",
       "    <tr>\n",
       "      <th>1682</th>\n",
       "      <td>3</td>\n",
       "      <td>12</td>\n",
       "      <td>2</td>\n",
       "      <td>6</td>\n",
       "      <td>NaN</td>\n",
       "      <td>NaN</td>\n",
       "      <td>NaN</td>\n",
       "    </tr>\n",
       "    <tr>\n",
       "      <th>2114</th>\n",
       "      <td>3</td>\n",
       "      <td>30</td>\n",
       "      <td>2</td>\n",
       "      <td>3</td>\n",
       "      <td>NaN</td>\n",
       "      <td>NaN</td>\n",
       "      <td>NaN</td>\n",
       "    </tr>\n",
       "    <tr>\n",
       "      <th>8472</th>\n",
       "      <td>12</td>\n",
       "      <td>20</td>\n",
       "      <td>0</td>\n",
       "      <td>2</td>\n",
       "      <td>NaN</td>\n",
       "      <td>NaN</td>\n",
       "      <td>NaN</td>\n",
       "    </tr>\n",
       "    <tr>\n",
       "      <th>8473</th>\n",
       "      <td>12</td>\n",
       "      <td>20</td>\n",
       "      <td>1</td>\n",
       "      <td>2</td>\n",
       "      <td>NaN</td>\n",
       "      <td>NaN</td>\n",
       "      <td>NaN</td>\n",
       "    </tr>\n",
       "    <tr>\n",
       "      <th>8474</th>\n",
       "      <td>12</td>\n",
       "      <td>20</td>\n",
       "      <td>2</td>\n",
       "      <td>2</td>\n",
       "      <td>NaN</td>\n",
       "      <td>NaN</td>\n",
       "      <td>NaN</td>\n",
       "    </tr>\n",
       "    <tr>\n",
       "      <th>8475</th>\n",
       "      <td>12</td>\n",
       "      <td>20</td>\n",
       "      <td>3</td>\n",
       "      <td>2</td>\n",
       "      <td>NaN</td>\n",
       "      <td>NaN</td>\n",
       "      <td>NaN</td>\n",
       "    </tr>\n",
       "    <tr>\n",
       "      <th>8476</th>\n",
       "      <td>12</td>\n",
       "      <td>20</td>\n",
       "      <td>4</td>\n",
       "      <td>2</td>\n",
       "      <td>NaN</td>\n",
       "      <td>NaN</td>\n",
       "      <td>NaN</td>\n",
       "    </tr>\n",
       "    <tr>\n",
       "      <th>8477</th>\n",
       "      <td>12</td>\n",
       "      <td>20</td>\n",
       "      <td>5</td>\n",
       "      <td>2</td>\n",
       "      <td>NaN</td>\n",
       "      <td>NaN</td>\n",
       "      <td>NaN</td>\n",
       "    </tr>\n",
       "    <tr>\n",
       "      <th>8615</th>\n",
       "      <td>12</td>\n",
       "      <td>25</td>\n",
       "      <td>23</td>\n",
       "      <td>0</td>\n",
       "      <td>NaN</td>\n",
       "      <td>NaN</td>\n",
       "      <td>NaN</td>\n",
       "    </tr>\n",
       "    <tr>\n",
       "      <th>8617</th>\n",
       "      <td>12</td>\n",
       "      <td>26</td>\n",
       "      <td>1</td>\n",
       "      <td>1</td>\n",
       "      <td>NaN</td>\n",
       "      <td>NaN</td>\n",
       "      <td>NaN</td>\n",
       "    </tr>\n",
       "    <tr>\n",
       "      <th>8642</th>\n",
       "      <td>12</td>\n",
       "      <td>27</td>\n",
       "      <td>2</td>\n",
       "      <td>2</td>\n",
       "      <td>NaN</td>\n",
       "      <td>NaN</td>\n",
       "      <td>NaN</td>\n",
       "    </tr>\n",
       "    <tr>\n",
       "      <th>8717</th>\n",
       "      <td>12</td>\n",
       "      <td>30</td>\n",
       "      <td>5</td>\n",
       "      <td>5</td>\n",
       "      <td>NaN</td>\n",
       "      <td>NaN</td>\n",
       "      <td>NaN</td>\n",
       "    </tr>\n",
       "  </tbody>\n",
       "</table>\n",
       "</div>"
      ],
      "text/plain": [
       "      month  day  hour  weekday  precip  temp  trips\n",
       "195       1    9     3        0     NaN   NaN    NaN\n",
       "387       1   17     3        1     NaN   NaN    NaN\n",
       "938       2    9     2        3     NaN   NaN    NaN\n",
       "963       2   10     3        4     NaN   NaN    NaN\n",
       "1562      3    7     2        1     NaN   NaN    NaN\n",
       "1682      3   12     2        6     NaN   NaN    NaN\n",
       "2114      3   30     2        3     NaN   NaN    NaN\n",
       "8472     12   20     0        2     NaN   NaN    NaN\n",
       "8473     12   20     1        2     NaN   NaN    NaN\n",
       "8474     12   20     2        2     NaN   NaN    NaN\n",
       "8475     12   20     3        2     NaN   NaN    NaN\n",
       "8476     12   20     4        2     NaN   NaN    NaN\n",
       "8477     12   20     5        2     NaN   NaN    NaN\n",
       "8615     12   25    23        0     NaN   NaN    NaN\n",
       "8617     12   26     1        1     NaN   NaN    NaN\n",
       "8642     12   27     2        2     NaN   NaN    NaN\n",
       "8717     12   30     5        5     NaN   NaN    NaN"
      ]
     },
     "execution_count": 121,
     "metadata": {},
     "output_type": "execute_result"
    }
   ],
   "source": [
    "hourly_bikesharing_demand[hourly_bikesharing_demand[\"trips\"].isnull() == True]"
   ]
  },
  {
   "cell_type": "markdown",
   "id": "b7a1bfc6",
   "metadata": {},
   "source": [
    "These 17 missing values will be filled with 0 since there were no trips and the missing weather data will be filled forward filled just like in the data preperation"
   ]
  },
  {
   "cell_type": "code",
   "execution_count": 122,
   "id": "7534d7e2",
   "metadata": {
    "scrolled": false
   },
   "outputs": [
    {
     "name": "stdout",
     "output_type": "stream",
     "text": [
      "<class 'pandas.core.frame.DataFrame'>\n",
      "Int64Index: 8760 entries, 0 to 8759\n",
      "Data columns (total 7 columns):\n",
      " #   Column   Non-Null Count  Dtype  \n",
      "---  ------   --------------  -----  \n",
      " 0   month    8760 non-null   int64  \n",
      " 1   day      8760 non-null   int64  \n",
      " 2   hour     8760 non-null   int64  \n",
      " 3   weekday  8760 non-null   int64  \n",
      " 4   precip   8760 non-null   float64\n",
      " 5   temp     8760 non-null   float64\n",
      " 6   trips    8760 non-null   float64\n",
      "dtypes: float64(3), int64(4)\n",
      "memory usage: 547.5 KB\n"
     ]
    }
   ],
   "source": [
    "hourly_bikesharing_demand['trips'] = hourly_bikesharing_demand['trips'].fillna(0)\n",
    "hourly_bikesharing_demand = hourly_bikesharing_demand.fillna(method='ffill')\n",
    "hourly_bikesharing_demand.info()"
   ]
  },
  {
   "cell_type": "markdown",
   "id": "aa03cce0",
   "metadata": {},
   "source": [
    "Our precipitation, trip count as well as weekday features are in float, while they should simply be an int (0 or 1)."
   ]
  },
  {
   "cell_type": "code",
   "execution_count": 123,
   "id": "d19e64a0",
   "metadata": {
    "scrolled": true
   },
   "outputs": [
    {
     "data": {
      "text/html": [
       "<div>\n",
       "<style scoped>\n",
       "    .dataframe tbody tr th:only-of-type {\n",
       "        vertical-align: middle;\n",
       "    }\n",
       "\n",
       "    .dataframe tbody tr th {\n",
       "        vertical-align: top;\n",
       "    }\n",
       "\n",
       "    .dataframe thead th {\n",
       "        text-align: right;\n",
       "    }\n",
       "</style>\n",
       "<table border=\"1\" class=\"dataframe\">\n",
       "  <thead>\n",
       "    <tr style=\"text-align: right;\">\n",
       "      <th></th>\n",
       "      <th>month</th>\n",
       "      <th>day</th>\n",
       "      <th>hour</th>\n",
       "      <th>weekday</th>\n",
       "      <th>precip</th>\n",
       "      <th>temp</th>\n",
       "      <th>trips</th>\n",
       "    </tr>\n",
       "  </thead>\n",
       "  <tbody>\n",
       "    <tr>\n",
       "      <th>0</th>\n",
       "      <td>1</td>\n",
       "      <td>1</td>\n",
       "      <td>0</td>\n",
       "      <td>6</td>\n",
       "      <td>0</td>\n",
       "      <td>-0.6</td>\n",
       "      <td>46</td>\n",
       "    </tr>\n",
       "    <tr>\n",
       "      <th>1</th>\n",
       "      <td>1</td>\n",
       "      <td>1</td>\n",
       "      <td>1</td>\n",
       "      <td>6</td>\n",
       "      <td>0</td>\n",
       "      <td>-2.2</td>\n",
       "      <td>46</td>\n",
       "    </tr>\n",
       "    <tr>\n",
       "      <th>2</th>\n",
       "      <td>1</td>\n",
       "      <td>1</td>\n",
       "      <td>2</td>\n",
       "      <td>6</td>\n",
       "      <td>0</td>\n",
       "      <td>-2.8</td>\n",
       "      <td>36</td>\n",
       "    </tr>\n",
       "    <tr>\n",
       "      <th>3</th>\n",
       "      <td>1</td>\n",
       "      <td>1</td>\n",
       "      <td>3</td>\n",
       "      <td>6</td>\n",
       "      <td>0</td>\n",
       "      <td>-3.3</td>\n",
       "      <td>18</td>\n",
       "    </tr>\n",
       "    <tr>\n",
       "      <th>4</th>\n",
       "      <td>1</td>\n",
       "      <td>1</td>\n",
       "      <td>4</td>\n",
       "      <td>6</td>\n",
       "      <td>0</td>\n",
       "      <td>-3.3</td>\n",
       "      <td>6</td>\n",
       "    </tr>\n",
       "    <tr>\n",
       "      <th>...</th>\n",
       "      <td>...</td>\n",
       "      <td>...</td>\n",
       "      <td>...</td>\n",
       "      <td>...</td>\n",
       "      <td>...</td>\n",
       "      <td>...</td>\n",
       "      <td>...</td>\n",
       "    </tr>\n",
       "    <tr>\n",
       "      <th>8755</th>\n",
       "      <td>12</td>\n",
       "      <td>31</td>\n",
       "      <td>19</td>\n",
       "      <td>6</td>\n",
       "      <td>0</td>\n",
       "      <td>-11.1</td>\n",
       "      <td>20</td>\n",
       "    </tr>\n",
       "    <tr>\n",
       "      <th>8756</th>\n",
       "      <td>12</td>\n",
       "      <td>31</td>\n",
       "      <td>20</td>\n",
       "      <td>6</td>\n",
       "      <td>0</td>\n",
       "      <td>-10.6</td>\n",
       "      <td>20</td>\n",
       "    </tr>\n",
       "    <tr>\n",
       "      <th>8757</th>\n",
       "      <td>12</td>\n",
       "      <td>31</td>\n",
       "      <td>21</td>\n",
       "      <td>6</td>\n",
       "      <td>0</td>\n",
       "      <td>-10.6</td>\n",
       "      <td>13</td>\n",
       "    </tr>\n",
       "    <tr>\n",
       "      <th>8758</th>\n",
       "      <td>12</td>\n",
       "      <td>31</td>\n",
       "      <td>22</td>\n",
       "      <td>6</td>\n",
       "      <td>0</td>\n",
       "      <td>-11.7</td>\n",
       "      <td>9</td>\n",
       "    </tr>\n",
       "    <tr>\n",
       "      <th>8759</th>\n",
       "      <td>12</td>\n",
       "      <td>31</td>\n",
       "      <td>23</td>\n",
       "      <td>6</td>\n",
       "      <td>0</td>\n",
       "      <td>-12.8</td>\n",
       "      <td>6</td>\n",
       "    </tr>\n",
       "  </tbody>\n",
       "</table>\n",
       "<p>8760 rows × 7 columns</p>\n",
       "</div>"
      ],
      "text/plain": [
       "      month  day  hour  weekday  precip  temp  trips\n",
       "0         1    1     0        6       0  -0.6     46\n",
       "1         1    1     1        6       0  -2.2     46\n",
       "2         1    1     2        6       0  -2.8     36\n",
       "3         1    1     3        6       0  -3.3     18\n",
       "4         1    1     4        6       0  -3.3      6\n",
       "...     ...  ...   ...      ...     ...   ...    ...\n",
       "8755     12   31    19        6       0 -11.1     20\n",
       "8756     12   31    20        6       0 -10.6     20\n",
       "8757     12   31    21        6       0 -10.6     13\n",
       "8758     12   31    22        6       0 -11.7      9\n",
       "8759     12   31    23        6       0 -12.8      6\n",
       "\n",
       "[8760 rows x 7 columns]"
      ]
     },
     "execution_count": 123,
     "metadata": {},
     "output_type": "execute_result"
    }
   ],
   "source": [
    "hourly_bikesharing_demand['precip'] = hourly_bikesharing_demand['precip'].apply(lambda precip: int(precip))\n",
    "hourly_bikesharing_demand['trips'] = hourly_bikesharing_demand['trips'].apply(lambda count: int(count))\n",
    "hourly_bikesharing_demand"
   ]
  },
  {
   "cell_type": "markdown",
   "id": "64898547",
   "metadata": {},
   "source": [
    "Before we can proceed with our predictive machine learning algorithm, we still have some things to do. First, we need to normalize the trip count and max temp features. Secondly, we need to get the dummy variables for the weekday, month, and hour features. Also we will drop the day column since it will not help explain variance"
   ]
  },
  {
   "cell_type": "code",
   "execution_count": 125,
   "id": "f80eb827",
   "metadata": {},
   "outputs": [],
   "source": [
    "from sklearn.preprocessing import StandardScaler\n",
    "\n",
    "norm = StandardScaler()\n",
    "hourly_bikesharing_demand['trips_norm'] = norm.fit_transform(hourly_bikesharing_demand[\"trips\"].values.reshape(-1, 1))\n",
    "hourly_bikesharing_demand['temp_norm'] = norm.fit_transform(hourly_bikesharing_demand[\"temp\"].values.reshape(-1, 1))"
   ]
  },
  {
   "cell_type": "code",
   "execution_count": 126,
   "id": "9cb3a80d",
   "metadata": {},
   "outputs": [],
   "source": [
    "def weekend_(x):\n",
    "    if x >= 5:\n",
    "        return '1'\n",
    "    else:\n",
    "        return '0'"
   ]
  },
  {
   "cell_type": "markdown",
   "id": "8fb62c5a",
   "metadata": {},
   "source": [
    "Now we can proceed with generating the dummy variables for the hour, month, and weekday features."
   ]
  },
  {
   "cell_type": "code",
   "execution_count": 127,
   "id": "710eed6a",
   "metadata": {},
   "outputs": [],
   "source": [
    "hourly_bikesharing_demand['weekend'] = hourly_bikesharing_demand['weekday'].apply(weekend_)\n",
    "\n",
    "#hourly_bikesharing_demand = pd.get_dummies(hourly_bikesharing_demand, columns=['weekday'])\n",
    "#hourly_bikesharing_demand = pd.get_dummies(hourly_bikesharing_demand, columns=['month'])\n",
    "hourly_bikesharing_demand['month_norm'] = norm.fit_transform(hourly_bikesharing_demand[\"month\"].values.reshape(-1, 1))\n",
    "#hourly_bikesharing_demand = pd.get_dummies(hourly_bikesharing_demand, columns=['hour'])\n",
    "hourly_bikesharing_demand['hour_norm'] = norm.fit_transform(hourly_bikesharing_demand[\"hour\"].values.reshape(-1, 1))"
   ]
  },
  {
   "cell_type": "code",
   "execution_count": 128,
   "id": "8d565eec",
   "metadata": {},
   "outputs": [],
   "source": [
    "#vis_df = hourly_bikesharing_demand[['trips', 'temp', 'precip', 'hour', 'weekday', 'month']]\n",
    "hourly_bikesharing_demand.drop(['day', 'weekday'], axis=1, inplace=True)\n",
    "#hourly_bikesharing_demand.drop(['day'], axis=1, inplace=True)"
   ]
  },
  {
   "cell_type": "code",
   "execution_count": 129,
   "id": "2b350876",
   "metadata": {
    "scrolled": false
   },
   "outputs": [
    {
     "data": {
      "text/plain": [
       "'\\nimport matplotlib.pyplot as plt\\nimport seaborn as sns\\n\\nf, axes = plt.subplots(1, 2, sharey = False, figsize = (16, 10))\\n\\nsns.scatterplot(data = vis_df, x = \\'temp\\', y = \\'trips\\', ax = axes[0], hue = \\'month\\', palette = \"deep\")\\nsns.boxplot(data = vis_df, x = \\'precip\\', y = \\'trips\\', ax = axes[1])\\n\\naxes[0].set_xlabel(\"temp\")\\naxes[0].set_ylabel(\"trips\")\\n\\naxes[1].set_xlabel(\"precip\")\\naxes[1].set_ylabel(\"trips\")\\n'"
      ]
     },
     "execution_count": 129,
     "metadata": {},
     "output_type": "execute_result"
    }
   ],
   "source": [
    "\"\"\"\n",
    "import matplotlib.pyplot as plt\n",
    "import seaborn as sns\n",
    "\n",
    "f, axes = plt.subplots(1, 2, sharey = False, figsize = (16, 10))\n",
    "\n",
    "sns.scatterplot(data = vis_df, x = 'temp', y = 'trips', ax = axes[0], hue = 'month', palette = \"deep\")\n",
    "sns.boxplot(data = vis_df, x = 'precip', y = 'trips', ax = axes[1])\n",
    "\n",
    "axes[0].set_xlabel(\"temp\")\n",
    "axes[0].set_ylabel(\"trips\")\n",
    "\n",
    "axes[1].set_xlabel(\"precip\")\n",
    "axes[1].set_ylabel(\"trips\")\n",
    "\"\"\""
   ]
  },
  {
   "cell_type": "code",
   "execution_count": 130,
   "id": "7fa1ee22",
   "metadata": {},
   "outputs": [
    {
     "data": {
      "text/plain": [
       "'\\nf, axes = plt.subplots(1, 2, sharey = False, figsize = (16, 10))\\n\\nsns.boxplot(data = vis_df, x = \\'hour\\', y = \\'trips\\', ax = axes[0])\\nsns.boxplot(data = vis_df, x = \\'weekday\\', y = \\'trips\\', ax = axes[1])\\n\\naxes[0].set_xlabel(\"hour\")\\naxes[0].set_ylabel(\"trips\")\\n\\naxes[1].set_xlabel(\"weekday\")\\naxes[1].set_ylabel(\"trips\")\\n'"
      ]
     },
     "execution_count": 130,
     "metadata": {},
     "output_type": "execute_result"
    }
   ],
   "source": [
    "\"\"\"\n",
    "f, axes = plt.subplots(1, 2, sharey = False, figsize = (16, 10))\n",
    "\n",
    "sns.boxplot(data = vis_df, x = 'hour', y = 'trips', ax = axes[0])\n",
    "sns.boxplot(data = vis_df, x = 'weekday', y = 'trips', ax = axes[1])\n",
    "\n",
    "axes[0].set_xlabel(\"hour\")\n",
    "axes[0].set_ylabel(\"trips\")\n",
    "\n",
    "axes[1].set_xlabel(\"weekday\")\n",
    "axes[1].set_ylabel(\"trips\")\n",
    "\"\"\""
   ]
  },
  {
   "cell_type": "code",
   "execution_count": 131,
   "id": "30b1e6d7",
   "metadata": {},
   "outputs": [
    {
     "data": {
      "text/plain": [
       "'\\nf, axes = plt.subplots(1, 1, sharey = False, figsize = (16, 10))\\n\\nsns.boxplot(data = vis_df, x = \\'month\\', y = \\'trips\\')\\n\\naxes.set_xlabel(\"month\")\\naxes.set_ylabel(\"trips\")\\n'"
      ]
     },
     "execution_count": 131,
     "metadata": {},
     "output_type": "execute_result"
    }
   ],
   "source": [
    "\"\"\"\n",
    "f, axes = plt.subplots(1, 1, sharey = False, figsize = (16, 10))\n",
    "\n",
    "sns.boxplot(data = vis_df, x = 'month', y = 'trips')\n",
    "\n",
    "axes.set_xlabel(\"month\")\n",
    "axes.set_ylabel(\"trips\")\n",
    "\"\"\""
   ]
  },
  {
   "cell_type": "markdown",
   "id": "1cde0cd0",
   "metadata": {},
   "source": [
    "## Model Building"
   ]
  },
  {
   "cell_type": "markdown",
   "id": "f0f71cc4",
   "metadata": {},
   "source": [
    "Select three regression algorithms that are suitable for the prediction task at hand. Explain and justify why you selected the three algorithms and describe their respective advantages and drawbacks."
   ]
  },
  {
   "cell_type": "code",
   "execution_count": null,
   "id": "e2e33aaa",
   "metadata": {},
   "outputs": [],
   "source": []
  },
  {
   "cell_type": "code",
   "execution_count": 132,
   "id": "04322841",
   "metadata": {},
   "outputs": [
    {
     "name": "stdout",
     "output_type": "stream",
     "text": [
      "Size of training data set: 4380\n",
      "Size of validation data set: 2628\n",
      "Size of test data set: 1752\n"
     ]
    }
   ],
   "source": [
    "from sklearn.model_selection import train_test_split\n",
    "\n",
    "X = hourly_bikesharing_demand[['temp_norm', 'precip', 'weekend', 'month_norm', 'hour_norm']]\n",
    "y = hourly_bikesharing_demand['trips_norm'].values.reshape(-1, 1)\n",
    "\n",
    "X_train, X_temp, y_train, y_temp = train_test_split(X, y,\n",
    "    test_size=0.5, shuffle = True, random_state = 8)\n",
    "X_validation, X_test, y_validation, y_test = train_test_split(X_temp, y_temp,\n",
    "    test_size=0.4, shuffle = True, random_state = 8) # 0,4 * 0,5 = 0,2\n",
    "\n",
    "print('Size of training data set: ' + str(len(X_train)))\n",
    "print('Size of validation data set: ' + str(len(X_validation)))\n",
    "print('Size of test data set: ' + str(len(X_test)))"
   ]
  },
  {
   "cell_type": "code",
   "execution_count": 133,
   "id": "37c4bb93",
   "metadata": {},
   "outputs": [],
   "source": [
    "from sklearn.metrics import mean_absolute_error, mean_squared_error, r2_score\n",
    "from sklearn.linear_model import Ridge\n",
    "\n",
    "def ridge_reg(features, target, regularization_param):\n",
    "    model_L2 = Ridge(alpha = regularization_param, normalize = True, solver = 'lsqr')\n",
    "    model_L2.fit(features, target)\n",
    "\n",
    "    training_predictions = model_L2.predict(features)\n",
    "    \n",
    "    # ---\n",
    "\n",
    "    MAE = mean_absolute_error(target, training_predictions)\n",
    "    MSE = mean_squared_error(target, training_predictions)\n",
    "    R2 = r2_score(target, training_predictions)\n",
    "    \n",
    "    return[model_L2, MAE, MSE, R2]\n",
    "\n"
   ]
  },
  {
   "cell_type": "code",
   "execution_count": 134,
   "id": "83780223",
   "metadata": {},
   "outputs": [],
   "source": [
    "from sklearn.preprocessing import PolynomialFeatures\n",
    "\n",
    "def get_poly_features_prime(features, degree):\n",
    "    poly_features = PolynomialFeatures(degree = degree)\n",
    "    return_features = poly_features.fit_transform(features)\n",
    "    \n",
    "    return return_features\n",
    "\n",
    "def get_poly_features(features, degree):\n",
    "    poly_max_temp = pd.DataFrame(get_poly_features_prime(features[['temp_norm']], degree))\n",
    "\n",
    "    merged = pd.concat([features.reset_index(drop=True), poly_max_temp.reset_index(drop=True)], axis=1)\n",
    "    merged = merged.drop(['temp_norm'], 1)\n",
    "    return merged"
   ]
  },
  {
   "cell_type": "markdown",
   "id": "aa5b5ec5",
   "metadata": {},
   "source": [
    "We can now train our model with our training data. As a first estimate, we will use polynomial features of degree 10 and a regularization parameter of 0.05. "
   ]
  },
  {
   "cell_type": "code",
   "execution_count": 135,
   "id": "3ab40b59",
   "metadata": {
    "scrolled": false
   },
   "outputs": [
    {
     "name": "stdout",
     "output_type": "stream",
     "text": [
      "For degree: 10, normalization parameter: 5 \n",
      " - MAE: 0.6392 \n",
      " - ME: 0.74473 \n",
      " - R^2-score: 25.3096%\n"
     ]
    }
   ],
   "source": [
    "X_train_poly = get_poly_features(X_train, 10)\n",
    "res = ridge_reg(X_train_poly, y_train, 0.05)\n",
    "\n",
    "print('For degree: 10, normalization parameter: 5 \\n - MAE: ' + str(res[1])[:6] + ' \\n - ME: ' + str(res[2])[:7] + ' \\n - R^2-score: ' + str(res[3] * 100)[:7] + '%')"
   ]
  },
  {
   "cell_type": "markdown",
   "id": "a51d8f7d",
   "metadata": {},
   "source": [
    "(Note that trip_count_norm is normalized. This means that the MAE and ME also return \"normalized\" errors.)"
   ]
  },
  {
   "cell_type": "code",
   "execution_count": null,
   "id": "ad196a66",
   "metadata": {},
   "outputs": [],
   "source": []
  },
  {
   "cell_type": "code",
   "execution_count": null,
   "id": "e8fedeb0",
   "metadata": {},
   "outputs": [],
   "source": []
  },
  {
   "cell_type": "code",
   "execution_count": null,
   "id": "6175115d",
   "metadata": {},
   "outputs": [],
   "source": []
  },
  {
   "cell_type": "code",
   "execution_count": 18,
   "id": "86a96c8a",
   "metadata": {},
   "outputs": [
    {
     "name": "stdout",
     "output_type": "stream",
     "text": [
      "Size of training data set: 4380\n",
      "Size of validation data set: 2628\n",
      "Size of test data set: 1752\n"
     ]
    }
   ],
   "source": [
    "from sklearn.model_selection import train_test_split\n",
    "\n",
    "X = hourly_bikesharing_demand[['temp_norm', 'precip', 'weekday_0', 'weekday_1', 'weekday_2', 'weekday_3',\n",
    "       'weekday_4', 'weekday_5', 'weekday_6', 'month_1', 'month_2', 'month_3',\n",
    "       'month_4', 'month_5', 'month_6', 'month_7', 'month_8', 'month_9',\n",
    "       'month_10', 'month_11', 'month_12', 'hour_0', 'hour_1', 'hour_2',\n",
    "       'hour_3', 'hour_4', 'hour_5', 'hour_6', 'hour_7', 'hour_8', 'hour_9',\n",
    "       'hour_10', 'hour_11', 'hour_12', 'hour_13', 'hour_14', 'hour_15',\n",
    "       'hour_16', 'hour_17', 'hour_18', 'hour_19', 'hour_20', 'hour_21',\n",
    "       'hour_22', 'hour_23']]\n",
    "y = hourly_bikesharing_demand['trips_norm'].values.reshape(-1, 1)\n",
    "\n",
    "X_train, X_temp, y_train, y_temp = train_test_split(X, y,\n",
    "    test_size=0.5, shuffle = True, random_state = 8)\n",
    "X_validation, X_test, y_validation, y_test = train_test_split(X_temp, y_temp,\n",
    "    test_size=0.4, shuffle = True, random_state = 8) # 0,4 * 0,5 = 0,2\n",
    "\n",
    "print('Size of training data set: ' + str(len(X_train)))\n",
    "print('Size of validation data set: ' + str(len(X_validation)))\n",
    "print('Size of test data set: ' + str(len(X_test)))"
   ]
  },
  {
   "cell_type": "code",
   "execution_count": 19,
   "id": "58d94350",
   "metadata": {},
   "outputs": [],
   "source": [
    "from sklearn.metrics import mean_absolute_error, r2_score\n",
    "from sklearn.linear_model import Ridge\n",
    "\n",
    "def mean_error(y_true, y_pred):\n",
    "    # credit: https://datascience.stackexchange.com/questions/34141/mean-error-not-squared-in-scikit-learn-cross-val-score\n",
    "    # assuming y and y_pred are numpy arrays\n",
    "    return np.mean(y_pred - y_true)\n",
    "\n",
    "\n",
    "def ridge_reg(features, target, regularization_param):\n",
    "    model_L2 = Ridge(alpha = regularization_param, normalize = True, solver = 'lsqr')\n",
    "    model_L2.fit(features, target)\n",
    "\n",
    "    training_predictions = model_L2.predict(features)\n",
    "    \n",
    "    # ---\n",
    "\n",
    "    MAE = mean_absolute_error(target, training_predictions)\n",
    "    ME = mean_error(target, training_predictions)\n",
    "    R2 = r2_score(target, training_predictions)\n",
    "    \n",
    "    return[model_L2, MAE, ME, R2]\n",
    "\n"
   ]
  },
  {
   "cell_type": "code",
   "execution_count": 20,
   "id": "4857e6a8",
   "metadata": {},
   "outputs": [],
   "source": [
    "from sklearn.preprocessing import PolynomialFeatures\n",
    "\n",
    "def get_poly_features_prime(features, degree):\n",
    "    poly_features = PolynomialFeatures(degree = degree)\n",
    "    return_features = poly_features.fit_transform(features)\n",
    "    \n",
    "    return return_features\n",
    "\n",
    "def get_poly_features(features, degree):\n",
    "    poly_max_temp = pd.DataFrame(get_poly_features_prime(features[['temp_norm']], degree))\n",
    "\n",
    "    merged = pd.concat([features.reset_index(drop=True), poly_max_temp.reset_index(drop=True)], axis=1)\n",
    "    merged = merged.drop(['temp_norm'], 1)\n",
    "    return merged"
   ]
  },
  {
   "cell_type": "markdown",
   "id": "7638bf0e",
   "metadata": {},
   "source": [
    "We can now train our model with our training data. As a first estimate, we will use polynomial features of degree 10 and a regularization parameter of 0.05. "
   ]
  },
  {
   "cell_type": "code",
   "execution_count": 21,
   "id": "6bd0d35c",
   "metadata": {
    "scrolled": false
   },
   "outputs": [
    {
     "name": "stdout",
     "output_type": "stream",
     "text": [
      "For degree: 10, normalization parameter: 5 \n",
      " - MAE: 0.4152 \n",
      " - ME: 5.37368 \n",
      " - R^2-score: 68.0640%\n"
     ]
    }
   ],
   "source": [
    "X_train_poly = get_poly_features(X_train, 10)\n",
    "res = ridge_reg(X_train_poly, y_train, 0.05)\n",
    "\n",
    "print('For degree: 10, normalization parameter: 5 \\n - MAE: ' + str(res[1])[:6] + ' \\n - ME: ' + str(res[2])[:7] + ' \\n - R^2-score: ' + str(res[3] * 100)[:7] + '%')"
   ]
  },
  {
   "cell_type": "markdown",
   "id": "c047e0e4",
   "metadata": {},
   "source": [
    "(Note that trip_count_norm is normalized. This means that the MAE and ME also return \"normalized\" errors.)"
   ]
  },
  {
   "cell_type": "markdown",
   "id": "8c83d036",
   "metadata": {},
   "source": [
    "---\n",
    "\n",
    "### Hyperparameter Tweaking - Model 1.1 (Ridge)\n",
    "\n",
    "Okay, now we can continue with hyperparameter tweaking. We will begin with a regularization parameter of 0, so no regularization."
   ]
  },
  {
   "cell_type": "code",
   "execution_count": 22,
   "id": "a07ab3b5",
   "metadata": {
    "scrolled": false
   },
   "outputs": [],
   "source": [
    "max_degree = 50\n",
    "train_res_arr = []\n",
    "validation_res_arr = []\n",
    "\n",
    "for i in range(max_degree + 1):\n",
    "    X_train_poly = get_poly_features(X_train, i)\n",
    "    res_train = ridge_reg(X_train_poly, y_train, 0)\n",
    "    \n",
    "    train_res_arr.append([i, res_train[1], res_train[2], res_train[3]])\n",
    "    \n",
    "    # ---\n",
    "    \n",
    "    X_validation_poly = get_poly_features(X_validation, i)\n",
    "    predictions_validation = res_train[0].predict(X_validation_poly)\n",
    "    \n",
    "    MAE = mean_absolute_error(y_validation, predictions_validation)\n",
    "    ME = mean_error(y_validation, predictions_validation)\n",
    "    R2 = r2_score(y_validation, predictions_validation)\n",
    "    \n",
    "    validation_res_arr.append([i, MAE, ME, R2])\n",
    "    \n",
    "# ---    \n",
    "\n",
    "train_res_arr_df = pd.DataFrame(train_res_arr)\n",
    "train_res_arr_df = train_res_arr_df.rename(columns={0: \"poly_degree\", 1: \"MAE_training\", 2: \"ME_training\", 3: \"R2_score_training\"})\n",
    "\n",
    "validation_res_arr_df = pd.DataFrame(validation_res_arr)\n",
    "validation_res_arr_df = validation_res_arr_df.rename(columns={0: \"poly_degree\", 1: \"MAE_validation\", 2: \"ME_validation\", 3: \"R2_score_validation\"})\n",
    "\n",
    "hyperparameter_tweaking_polydegr_results = pd.merge(train_res_arr_df, validation_res_arr_df, on='poly_degree', how='inner')"
   ]
  },
  {
   "cell_type": "code",
   "execution_count": 23,
   "id": "4c647628",
   "metadata": {},
   "outputs": [],
   "source": [
    "def plot_tweaking_res(data, x):\n",
    "    f, axes = plt.subplots(1, 3, sharey=False, figsize=(16, 10))\n",
    "\n",
    "    sns.lineplot(data=data, x=x, y='MAE_training', ax=axes[0], color=\"red\")\n",
    "    sns.lineplot(data=data, x=x, y='MAE_validation', ax=axes[0], color=\"blue\")\n",
    "\n",
    "    sns.lineplot(data=data, x=x, y='ME_training', ax=axes[1], color=\"red\")\n",
    "    sns.lineplot(data=data, x=x, y='ME_validation', ax=axes[1], color=\"blue\")\n",
    "\n",
    "    sns.lineplot(data=data, x=x, y='R2_score_training', ax=axes[2], color=\"red\")\n",
    "    sns.lineplot(data=data, x=x, y='R2_score_validation', ax=axes[2], color=\"blue\")\n",
    "    \n",
    "    axes[0].set_xlabel(x)\n",
    "    axes[0].set_ylabel(\"Mean Average Error\")\n",
    "    axes[0].set_title(x + \" to MAE\", fontsize=14)\n",
    "    \n",
    "    axes[1].set_xlabel(x)\n",
    "    axes[1].set_ylabel(\"Mean Error\")\n",
    "    axes[1].set_title(x + \" to ME\", fontsize=14)\n",
    "\n",
    "    axes[2].set_xlabel(x)\n",
    "    axes[2].set_ylabel(\"R^2-score\")\n",
    "    axes[2].set_title(x + \" to R^2-score\", fontsize=14)\n",
    "\n",
    "    print('Red: training data set \\nBlue: validation data set')"
   ]
  },
  {
   "cell_type": "code",
   "execution_count": 24,
   "id": "b731dbe9",
   "metadata": {},
   "outputs": [
    {
     "name": "stdout",
     "output_type": "stream",
     "text": [
      "Red: training data set \n",
      "Blue: validation data set\n"
     ]
    },
    {
     "data": {
      "image/png": "[encoded data removed]",
      "text/plain": [
       "<Figure size 1152x720 with 3 Axes>"
      ]
     },
     "metadata": {
      "needs_background": "light"
     },
     "output_type": "display_data"
    }
   ],
   "source": [
    "plot_tweaking_res(hyperparameter_tweaking_polydegr_results, 'poly_degree')"
   ]
  },
  {
   "cell_type": "code",
   "execution_count": 25,
   "id": "619a573f",
   "metadata": {},
   "outputs": [
    {
     "data": {
      "text/plain": [
       "poly_degree            4.000000e+00\n",
       "MAE_training           4.185674e-01\n",
       "ME_training           -4.461170e-18\n",
       "R2_score_training      6.817749e-01\n",
       "MAE_validation         4.323883e-01\n",
       "ME_validation          3.028879e-03\n",
       "R2_score_validation    6.508372e-01\n",
       "Name: 4, dtype: float64"
      ]
     },
     "execution_count": 25,
     "metadata": {},
     "output_type": "execute_result"
    }
   ],
   "source": [
    "min_MAE_id = hyperparameter_tweaking_polydegr_results['MAE_validation'].idxmin()\n",
    "hyperparameter_tweaking_polydegr_results.iloc[min_MAE_id]"
   ]
  },
  {
   "cell_type": "code",
   "execution_count": 26,
   "id": "b0796a8d",
   "metadata": {
    "scrolled": true
   },
   "outputs": [
    {
     "data": {
      "text/plain": [
       "poly_degree            3.000000e+00\n",
       "MAE_training           4.187330e-01\n",
       "ME_training            9.733462e-18\n",
       "R2_score_training      6.817967e-01\n",
       "MAE_validation         4.326619e-01\n",
       "ME_validation          2.877780e-03\n",
       "R2_score_validation    6.509984e-01\n",
       "Name: 3, dtype: float64"
      ]
     },
     "execution_count": 26,
     "metadata": {},
     "output_type": "execute_result"
    }
   ],
   "source": [
    "max_R2_id = hyperparameter_tweaking_polydegr_results['R2_score_validation'].idxmax()\n",
    "hyperparameter_tweaking_polydegr_results.iloc[max_R2_id]"
   ]
  },
  {
   "cell_type": "markdown",
   "id": "dbd5cae4",
   "metadata": {},
   "source": [
    "As can be seen by the results above, the best MAE and R^2-score in the validation data set is achieved by a polynomial of degree 40 (we will pay more attention to our MAE because we are more interested in minimizing our MAE than we are in explaining variance in the data). So let us set our optimal degree to 40 for now and tweak our regularization parameter. "
   ]
  },
  {
   "cell_type": "code",
   "execution_count": 49,
   "id": "9a29729b",
   "metadata": {},
   "outputs": [],
   "source": [
    "max_reg_param = 500\n",
    "opt_degree = 40\n",
    "train_res_arr = []\n",
    "validation_res_arr = []\n",
    "\n",
    "for i in range(max_reg_param + 1):\n",
    "    reg_param = 0.001 * i\n",
    "    \n",
    "    X_train_poly = get_poly_features(X_train, opt_degree)\n",
    "    res_train = ridge_reg(X_train_poly, y_train, reg_param)\n",
    "    \n",
    "    train_res_arr.append([reg_param, res_train[1], res_train[2], res_train[3]])\n",
    "    \n",
    "    # ---\n",
    "    \n",
    "    X_validation_poly = get_poly_features(X_validation, opt_degree)\n",
    "    predictions_validation = res_train[0].predict(X_validation_poly)\n",
    "    \n",
    "    MAE = mean_absolute_error(y_validation, predictions_validation)\n",
    "    ME = mean_error(y_validation, predictions_validation)\n",
    "    R2 = r2_score(y_validation, predictions_validation)\n",
    "    \n",
    "    validation_res_arr.append([reg_param, MAE, ME, R2])\n",
    "    \n",
    "# ---    \n",
    "\n",
    "train_res_arr_df = pd.DataFrame(train_res_arr)\n",
    "train_res_arr_df = train_res_arr_df.rename(columns={0: \"regularization_param\", 1: \"MAE_training\", 2: \"ME_training\", 3: \"R2_score_training\"})\n",
    "\n",
    "validation_res_arr_df = pd.DataFrame(validation_res_arr)\n",
    "validation_res_arr_df = validation_res_arr_df.rename(columns={0: \"regularization_param\", 1: \"MAE_validation\", 2: \"ME_validation\", 3: \"R2_score_validation\"})\n",
    "\n",
    "hyperparameter_tweaking_regparam_results = pd.merge(train_res_arr_df, validation_res_arr_df, on='regularization_param', how='inner')"
   ]
  },
  {
   "cell_type": "code",
   "execution_count": 50,
   "id": "f08568b5",
   "metadata": {
    "scrolled": true
   },
   "outputs": [
    {
     "name": "stdout",
     "output_type": "stream",
     "text": [
      "Red: training data set \n",
      "Blue: validation data set\n"
     ]
    },
    {
     "data": {
      "image/png": "[encoded data removed]",
      "text/plain": [
       "<Figure size 1152x720 with 3 Axes>"
      ]
     },
     "metadata": {
      "needs_background": "light"
     },
     "output_type": "display_data"
    }
   ],
   "source": [
    "plot_tweaking_res(hyperparameter_tweaking_regparam_results, 'regularization_param')"
   ]
  },
  {
   "cell_type": "code",
   "execution_count": 51,
   "id": "a46f360a",
   "metadata": {
    "scrolled": true
   },
   "outputs": [
    {
     "data": {
      "text/plain": [
       "regularization_param    2.130000e-01\n",
       "MAE_training            4.136015e-01\n",
       "ME_training            -4.968121e-17\n",
       "R2_score_training       6.663848e-01\n",
       "MAE_validation          4.222294e-01\n",
       "ME_validation           4.500942e-03\n",
       "R2_score_validation     6.417849e-01\n",
       "Name: 213, dtype: float64"
      ]
     },
     "execution_count": 51,
     "metadata": {},
     "output_type": "execute_result"
    }
   ],
   "source": [
    "min_MAE_id = hyperparameter_tweaking_regparam_results['MAE_validation'].idxmin()\n",
    "hyperparameter_tweaking_regparam_results.iloc[min_MAE_id]"
   ]
  },
  {
   "cell_type": "code",
   "execution_count": 52,
   "id": "192fd5aa",
   "metadata": {},
   "outputs": [
    {
     "data": {
      "text/plain": [
       "regularization_param    4.600000e-02\n",
       "MAE_training            4.150645e-01\n",
       "ME_training             8.313999e-18\n",
       "R2_score_training       6.812108e-01\n",
       "MAE_validation          4.280286e-01\n",
       "ME_validation           4.236469e-03\n",
       "R2_score_validation     6.510002e-01\n",
       "Name: 46, dtype: float64"
      ]
     },
     "execution_count": 52,
     "metadata": {},
     "output_type": "execute_result"
    }
   ],
   "source": [
    "max_R2_id = hyperparameter_tweaking_regparam_results['R2_score_validation'].idxmax()\n",
    "hyperparameter_tweaking_regparam_results.iloc[max_R2_id]"
   ]
  },
  {
   "cell_type": "markdown",
   "id": "dacf8f6d",
   "metadata": {},
   "source": [
    "Our optimal regularization parameter for degree 40 was 0.21 (we will pay more attention to our MAE because we are more interested in minimizing our MAE than we are in explaining variance in the data).\n",
    " \n",
    "#While writing this notebook we now put our optimal regularization parameter into our polynomial degree tweaking, and then put #that new optimal polynomial degree into our regularization parameter tweaking and iterated through this process a couple of #times, until we reached equilibrium. This section is skipped here because if we would have included it, this notebook would #have gotten very long. We will however show you, that we have found our equilibrium at a regularization parameter of ? and #a polynomial degree of ?."
   ]
  },
  {
   "cell_type": "code",
   "execution_count": 31,
   "id": "43cb1ca7",
   "metadata": {
    "scrolled": false
   },
   "outputs": [
    {
     "name": "stdout",
     "output_type": "stream",
     "text": [
      "Red: training data set \n",
      "Blue: validation data set\n"
     ]
    },
    {
     "data": {
      "image/png": "[encoded data removed]",
      "text/plain": [
       "<Figure size 1152x720 with 3 Axes>"
      ]
     },
     "metadata": {
      "needs_background": "light"
     },
     "output_type": "display_data"
    }
   ],
   "source": [
    "max_degree = 50\n",
    "opt_reg_param = 0.21\n",
    "train_res_arr = []\n",
    "validation_res_arr = []\n",
    "\n",
    "for i in range(max_degree + 1):\n",
    "    X_train_poly = get_poly_features(X_train, i)\n",
    "    res_train = ridge_reg(X_train_poly, y_train, opt_reg_param)\n",
    "    \n",
    "    train_res_arr.append([i, res_train[1], res_train[2], res_train[3]])\n",
    "    \n",
    "    # ---\n",
    "    \n",
    "    X_validation_poly = get_poly_features(X_validation, i)\n",
    "    predictions_validation = res_train[0].predict(X_validation_poly)\n",
    "    \n",
    "    MAE = mean_absolute_error(y_validation, predictions_validation)\n",
    "    ME = mean_error(y_validation, predictions_validation)\n",
    "    R2 = r2_score(y_validation, predictions_validation)\n",
    "    \n",
    "    validation_res_arr.append([i, MAE, ME, R2])\n",
    "    \n",
    "# ---    \n",
    "\n",
    "train_res_arr_df = pd.DataFrame(train_res_arr)\n",
    "train_res_arr_df = train_res_arr_df.rename(columns={0: \"poly_degree\", 1: \"MAE_training\", 2: \"ME_training\", 3: \"R2_score_training\"})\n",
    "\n",
    "validation_res_arr_df = pd.DataFrame(validation_res_arr)\n",
    "validation_res_arr_df = validation_res_arr_df.rename(columns={0: \"poly_degree\", 1: \"MAE_validation\", 2: \"ME_validation\", 3: \"R2_score_validation\"})\n",
    "\n",
    "hyperparameter_tweaking_polydegr_results = pd.merge(train_res_arr_df, validation_res_arr_df, on='poly_degree', how='inner')\n",
    "\n",
    "# ---\n",
    "\n",
    "plot_tweaking_res(hyperparameter_tweaking_polydegr_results, 'poly_degree')"
   ]
  },
  {
   "cell_type": "code",
   "execution_count": 32,
   "id": "da308566",
   "metadata": {},
   "outputs": [
    {
     "data": {
      "text/plain": [
       "poly_degree            5.000000e+00\n",
       "MAE_training           4.137414e-01\n",
       "ME_training           -2.940317e-17\n",
       "R2_score_training      6.783971e-01\n",
       "MAE_validation         4.250199e-01\n",
       "ME_validation          3.417943e-03\n",
       "R2_score_validation    6.506368e-01\n",
       "Name: 5, dtype: float64"
      ]
     },
     "execution_count": 32,
     "metadata": {},
     "output_type": "execute_result"
    }
   ],
   "source": [
    "min_MAE_id = hyperparameter_tweaking_polydegr_results['MAE_validation'].idxmin()\n",
    "hyperparameter_tweaking_polydegr_results.iloc[min_MAE_id]"
   ]
  },
  {
   "cell_type": "code",
   "execution_count": 33,
   "id": "8bd64c31",
   "metadata": {},
   "outputs": [
    {
     "data": {
      "text/plain": [
       "poly_degree            2.000000e+00\n",
       "MAE_training           4.140452e-01\n",
       "ME_training           -4.400336e-17\n",
       "R2_score_training      6.785098e-01\n",
       "MAE_validation         4.253735e-01\n",
       "ME_validation          3.355025e-03\n",
       "R2_score_validation    6.509254e-01\n",
       "Name: 2, dtype: float64"
      ]
     },
     "execution_count": 33,
     "metadata": {},
     "output_type": "execute_result"
    }
   ],
   "source": [
    "max_R2_id = hyperparameter_tweaking_polydegr_results['R2_score_validation'].idxmax()\n",
    "hyperparameter_tweaking_polydegr_results.iloc[max_R2_id]"
   ]
  },
  {
   "cell_type": "code",
   "execution_count": 53,
   "id": "8d8a5fbd",
   "metadata": {},
   "outputs": [],
   "source": [
    "max_reg_param = 500\n",
    "opt_degree = 50\n",
    "train_res_arr = []\n",
    "validation_res_arr = []\n",
    "\n",
    "for i in range(max_reg_param + 1):\n",
    "    reg_param = 0.001 * i\n",
    "    \n",
    "    X_train_poly = get_poly_features(X_train, opt_degree)\n",
    "    res_train = ridge_reg(X_train_poly, y_train, reg_param)\n",
    "    \n",
    "    train_res_arr.append([reg_param, res_train[1], res_train[2], res_train[3]])\n",
    "    \n",
    "    # ---\n",
    "    \n",
    "    X_validation_poly = get_poly_features(X_validation, opt_degree)\n",
    "    predictions_validation = res_train[0].predict(X_validation_poly)\n",
    "    \n",
    "    MAE = mean_absolute_error(y_validation, predictions_validation)\n",
    "    ME = mean_error(y_validation, predictions_validation)\n",
    "    R2 = r2_score(y_validation, predictions_validation)\n",
    "    \n",
    "    validation_res_arr.append([reg_param, MAE, ME, R2])\n",
    "    \n",
    "# ---    \n",
    "\n",
    "train_res_arr_df = pd.DataFrame(train_res_arr)\n",
    "train_res_arr_df = train_res_arr_df.rename(columns={0: \"regularization_param\", 1: \"MAE_training\", 2: \"ME_training\", 3: \"R2_score_training\"})\n",
    "\n",
    "validation_res_arr_df = pd.DataFrame(validation_res_arr)\n",
    "validation_res_arr_df = validation_res_arr_df.rename(columns={0: \"regularization_param\", 1: \"MAE_validation\", 2: \"ME_validation\", 3: \"R2_score_validation\"})\n",
    "\n",
    "hyperparameter_tweaking_regparam_results = pd.merge(train_res_arr_df, validation_res_arr_df, on='regularization_param', how='inner')"
   ]
  },
  {
   "cell_type": "code",
   "execution_count": 54,
   "id": "d03382f1",
   "metadata": {},
   "outputs": [
    {
     "name": "stdout",
     "output_type": "stream",
     "text": [
      "Red: training data set \n",
      "Blue: validation data set\n"
     ]
    },
    {
     "data": {
      "image/png": "[encoded data removed]",
      "text/plain": [
       "<Figure size 1152x720 with 3 Axes>"
      ]
     },
     "metadata": {
      "needs_background": "light"
     },
     "output_type": "display_data"
    }
   ],
   "source": [
    "plot_tweaking_res(hyperparameter_tweaking_regparam_results, 'regularization_param')"
   ]
  },
  {
   "cell_type": "code",
   "execution_count": 36,
   "id": "784d46ce",
   "metadata": {},
   "outputs": [
    {
     "data": {
      "text/plain": [
       "regularization_param    2.120000e-01\n",
       "MAE_training            4.136694e-01\n",
       "ME_training            -3.771717e-17\n",
       "R2_score_training       6.662963e-01\n",
       "MAE_validation          4.221708e-01\n",
       "ME_validation           3.980882e-03\n",
       "R2_score_validation     6.420516e-01\n",
       "Name: 212, dtype: float64"
      ]
     },
     "execution_count": 36,
     "metadata": {},
     "output_type": "execute_result"
    }
   ],
   "source": [
    "min_MAE_id = hyperparameter_tweaking_regparam_results['MAE_validation'].idxmin()\n",
    "hyperparameter_tweaking_regparam_results.iloc[min_MAE_id]"
   ]
  },
  {
   "cell_type": "code",
   "execution_count": 37,
   "id": "c912d501",
   "metadata": {},
   "outputs": [
    {
     "data": {
      "text/plain": [
       "regularization_param    4.100000e-02\n",
       "MAE_training            4.152619e-01\n",
       "ME_training             8.516779e-18\n",
       "R2_score_training       6.813874e-01\n",
       "MAE_validation          4.285118e-01\n",
       "ME_validation           3.898383e-03\n",
       "R2_score_validation     6.512527e-01\n",
       "Name: 41, dtype: float64"
      ]
     },
     "execution_count": 37,
     "metadata": {},
     "output_type": "execute_result"
    }
   ],
   "source": [
    "max_R2_id = hyperparameter_tweaking_regparam_results['R2_score_validation'].idxmax()\n",
    "hyperparameter_tweaking_regparam_results.iloc[max_R2_id]"
   ]
  },
  {
   "cell_type": "markdown",
   "id": "bc40ee2d",
   "metadata": {},
   "source": [
    "Equilibrium was reached for optimal parameters:\n",
    "- polynomial degree: 18\n",
    "- regularization parameter: 0.088"
   ]
  },
  {
   "cell_type": "markdown",
   "id": "ba61e6b6",
   "metadata": {},
   "source": [
    "---\n",
    "\n",
    "### Performance Evaluation - Model 1.1 (Ridge)\n",
    "\n",
    "Let us finally test our models performance with our test data set."
   ]
  },
  {
   "cell_type": "code",
   "execution_count": 38,
   "id": "965102d0",
   "metadata": {
    "scrolled": true
   },
   "outputs": [
    {
     "name": "stdout",
     "output_type": "stream",
     "text": [
      "Performance on test data set:\n",
      "Mean average error: 0.4274 | 213.01 trips\n",
      "Mean error: 0.01247 | 6.21845 trips\n",
      "R^2-score: 66.0820%\n"
     ]
    }
   ],
   "source": [
    "opt_degree = 18\n",
    "opt_regularization = 0.088\n",
    "\n",
    "X_train_poly = get_poly_features(X_train, opt_degree)\n",
    "res_train = ridge_reg(X_train_poly, y_train, opt_regularization)\n",
    "    \n",
    "# ---\n",
    "    \n",
    "X_test_poly = get_poly_features(X_test, opt_degree)\n",
    "predictions_test = res_train[0].predict(X_test_poly)\n",
    "    \n",
    "MAE = mean_absolute_error(y_test, predictions_test)\n",
    "ME = mean_error(y_test, predictions_test)\n",
    "R2 = r2_score(y_test, predictions_test)\n",
    "    \n",
    "std_trip_count = hourly_bikesharing_demand['trips'].std()\n",
    "\n",
    "print('Performance on test data set:')\n",
    "print('Mean absolute error: ' + str(MAE)[:6] + ' | ' + str(MAE * std_trip_count)[:6] + ' trips')\n",
    "print('Mean error: ' + str(ME)[:7] + ' | ' + str(ME * std_trip_count)[:7] + ' trips')\n",
    "print('R^2-score: ' + str(R2 * 100)[:7] + '%')"
   ]
  },
  {
   "cell_type": "code",
   "execution_count": null,
   "id": "3c2de375",
   "metadata": {},
   "outputs": [],
   "source": []
  },
  {
   "cell_type": "markdown",
   "id": "1b0214cb",
   "metadata": {},
   "source": [
    "## Model Evaluation"
   ]
  },
  {
   "cell_type": "markdown",
   "id": "f0c4c53f",
   "metadata": {},
   "source": [
    "How well do the models perform? Evaluate and benchmark your models’ performance using suitable evaluation metrics. Which model would you select for deployment?"
   ]
  },
  {
   "cell_type": "markdown",
   "id": "26ba08ca",
   "metadata": {},
   "source": [
    "## Outlook"
   ]
  },
  {
   "cell_type": "markdown",
   "id": "30556655",
   "metadata": {},
   "source": [
    "How could the selected model be improved further? Explain some of the improvement levers that you might focus on in a follow-up project."
   ]
  }
 ],
 "metadata": {
  "kernelspec": {
   "display_name": "Python 3 (ipykernel)",
   "language": "python",
   "name": "python3"
  },
  "language_info": {
   "codemirror_mode": {
    "name": "ipython",
    "version": 3
   },
   "file_extension": ".py",
   "mimetype": "text/x-python",
   "name": "python",
   "nbconvert_exporter": "python",
   "pygments_lexer": "ipython3",
   "version": "3.9.7"
  }
 },
 "nbformat": 4,
 "nbformat_minor": 5
}
