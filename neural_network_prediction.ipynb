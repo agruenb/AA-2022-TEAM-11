{
 "cells": [
  {
   "attachments": {},
   "cell_type": "markdown",
   "metadata": {},
   "source": [
    "# Neural Network Prediction\n",
    "\n",
    "In this notebook the amount of trips in an hour is predicted. The used method is the Neural Network."
   ]
  },
  {
   "cell_type": "code",
   "execution_count": 1,
   "metadata": {},
   "outputs": [],
   "source": [
    "import warnings\n",
    "warnings.filterwarnings('ignore')\n",
    "\n",
    "import pandas as pd\n",
    "import numpy as np\n",
    "import matplotlib.pyplot as plt\n",
    "import seaborn as sns\n",
    "import sklearn as sklearn\n",
    "from sklearn.metrics import mean_squared_error, mean_absolute_error, r2_score\n",
    "from sklearn.preprocessing import StandardScaler\n",
    "from sklearn.model_selection import train_test_split\n",
    "from matplotlib import rcParams\n",
    "from sklearn.tree import DecisionTreeRegressor, export_graphviz\n",
    "from sklearn.neural_network import MLPRegressor"
   ]
  },
  {
   "cell_type": "code",
   "execution_count": 2,
   "metadata": {},
   "outputs": [
    {
     "data": {
      "text/html": [
       "<div>\n",
       "<style scoped>\n",
       "    .dataframe tbody tr th:only-of-type {\n",
       "        vertical-align: middle;\n",
       "    }\n",
       "\n",
       "    .dataframe tbody tr th {\n",
       "        vertical-align: top;\n",
       "    }\n",
       "\n",
       "    .dataframe thead th {\n",
       "        text-align: right;\n",
       "    }\n",
       "</style>\n",
       "<table border=\"1\" class=\"dataframe\">\n",
       "  <thead>\n",
       "    <tr style=\"text-align: right;\">\n",
       "      <th></th>\n",
       "      <th>start_time</th>\n",
       "      <th>trip_amount</th>\n",
       "      <th>start_hour</th>\n",
       "      <th>start_day</th>\n",
       "      <th>start_month</th>\n",
       "      <th>start_weekday</th>\n",
       "      <th>is_weekend</th>\n",
       "      <th>mean_duration_min</th>\n",
       "      <th>max_temp</th>\n",
       "      <th>precip</th>\n",
       "    </tr>\n",
       "  </thead>\n",
       "  <tbody>\n",
       "    <tr>\n",
       "      <th>0</th>\n",
       "      <td>2017-01-01</td>\n",
       "      <td>4</td>\n",
       "      <td>0</td>\n",
       "      <td>1</td>\n",
       "      <td>1</td>\n",
       "      <td>6</td>\n",
       "      <td>1</td>\n",
       "      <td>9.5</td>\n",
       "      <td>-0.6</td>\n",
       "      <td>0.0</td>\n",
       "    </tr>\n",
       "  </tbody>\n",
       "</table>\n",
       "</div>"
      ],
      "text/plain": [
       "  start_time  trip_amount  start_hour  start_day  start_month  start_weekday  \\\n",
       "0 2017-01-01            4           0          1            1              6   \n",
       "\n",
       "   is_weekend  mean_duration_min  max_temp  precip  \n",
       "0           1                9.5      -0.6     0.0  "
      ]
     },
     "execution_count": 2,
     "metadata": {},
     "output_type": "execute_result"
    }
   ],
   "source": [
    "full_data = pd.read_csv(\"load_prediction_data.csv\", parse_dates=[\"start_time\"])\n",
    "full_data.head(1)"
   ]
  },
  {
   "attachments": {},
   "cell_type": "markdown",
   "metadata": {},
   "source": [
    "First we take our selected features and our target features out of the full dataset. Then the input features are scaled. After that we divide our input features into training, validation and test sets."
   ]
  },
  {
   "cell_type": "code",
   "execution_count": 3,
   "metadata": {},
   "outputs": [],
   "source": [
    "X_full = full_data[[\"start_hour\",\"start_month\",\"start_weekday\",\"is_weekend\",\"max_temp\"]]\n",
    "y_full = full_data[\"trip_amount\"]\n",
    "\n",
    "scaler = StandardScaler()\n",
    "X_full_scaled = scaler.fit_transform(X_full)\n",
    "\n",
    "# train-test split (30% test 49% train 21% validation)\n",
    "X_temp, X_test, y_temp, y_test = train_test_split(X_full, y_full, test_size= 0.3, random_state= 42)\n",
    "X_train, X_valid, y_train, y_valid = train_test_split(X_temp, y_temp, test_size= 0.3, random_state= 42)"
   ]
  },
  {
   "cell_type": "code",
   "execution_count": 4,
   "metadata": {},
   "outputs": [
    {
     "name": "stdout",
     "output_type": "stream",
     "text": [
      "MSE: 411.5613332688739\n",
      "MAE: 12.238985286791028\n",
      "R^2: 0.8326367933124098\n"
     ]
    }
   ],
   "source": [
    "def neural_network(X, y, layers):\n",
    "    nn_model = MLPRegressor(hidden_layer_sizes = layers, random_state=1, max_iter=500, learning_rate=\"constant\",solver=\"adam\")\n",
    "    nn_model.fit(X, y)\n",
    "    return nn_model\n",
    "\n",
    "def evaluate(y_true, y_pred):\n",
    "    print(\"MSE: \" + str(mean_squared_error(y_true, y_pred)))\n",
    "    print(\"MAE: \" + str(mean_absolute_error(y_true, y_pred)))\n",
    "    print(\"R^2: \" + str(r2_score(y_true, y_pred)))\n",
    "\n",
    "model = neural_network(X_train, y_train, (70,30,10))\n",
    "\n",
    "evaluate(y_valid, model.predict(X_valid))\n",
    "\n",
    "rcParams['figure.figsize'] = 6, 3.75"
   ]
  },
  {
   "cell_type": "code",
   "execution_count": 5,
   "metadata": {},
   "outputs": [
    {
     "name": "stdout",
     "output_type": "stream",
     "text": [
      "- (120, 100, 80) -\n",
      "MSE: 436.5044226491905\n",
      "MAE: 12.756028844260847\n",
      "R^2: 0.8224935775000106\n",
      "- (100, 80, 40) -\n",
      "MSE: 414.9558005291214\n",
      "MAE: 12.60049249041636\n",
      "R^2: 0.8312564184332666\n",
      "- (80, 40, 20) -\n",
      "MSE: 414.9558005291214\n",
      "MAE: 12.60049249041636\n",
      "R^2: 0.8312564184332666\n",
      "- (60, 20, 10) -\n",
      "MSE: 414.9558005291214\n",
      "MAE: 12.60049249041636\n",
      "R^2: 0.8312564184332666\n"
     ]
    }
   ],
   "source": [
    "# try some different networks\n",
    "print(\"- (120, 100, 80) -\")\n",
    "model = neural_network(X_train, y_train, (120,100,80))\n",
    "evaluate(y_valid, model.predict(X_valid))\n",
    "\n",
    "print(\"- (100, 80, 40) -\")\n",
    "model = neural_network(X_train, y_train, (100,80,40))\n",
    "evaluate(y_valid, model.predict(X_valid))\n",
    "\n",
    "print(\"- (80, 40, 20) -\")\n",
    "model = neural_network(X_train, y_train, (100,80,40))\n",
    "evaluate(y_valid, model.predict(X_valid))\n",
    "\n",
    "print(\"- (60, 20, 10) -\")\n",
    "model = neural_network(X_train, y_train, (100,80,40))\n",
    "evaluate(y_valid, model.predict(X_valid))"
   ]
  }
 ],
 "metadata": {
  "kernelspec": {
   "display_name": "Python 3",
   "language": "python",
   "name": "python3"
  },
  "language_info": {
   "codemirror_mode": {
    "name": "ipython",
    "version": 3
   },
   "file_extension": ".py",
   "mimetype": "text/x-python",
   "name": "python",
   "nbconvert_exporter": "python",
   "pygments_lexer": "ipython3",
   "version": "3.10.6"
  },
  "orig_nbformat": 4,
  "vscode": {
   "interpreter": {
    "hash": "eb4a0ac80907d7f44e1a5e88d3d3381b33e3dbedd3a24d113e876f30a0c46bee"
   }
  }
 },
 "nbformat": 4,
 "nbformat_minor": 2
}
