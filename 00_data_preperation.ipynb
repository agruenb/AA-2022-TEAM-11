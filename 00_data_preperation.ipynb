{
 "cells": [
  {
   "cell_type": "markdown",
   "id": "72ebabca",
   "metadata": {},
   "source": [
    "# Data Collection and Preperation"
   ]
  },
  {
   "cell_type": "markdown",
   "id": "c3f99a1b",
   "metadata": {},
   "source": [
    "You have been provided with a full dataset of bike sharing rentals. Select the cities you have been allocated and clean your dataset for use in later stages of your project. Briefly describe how you proceeded and how you dealt with possible missing/erroneous data."
   ]
  },
  {
   "cell_type": "markdown",
   "id": "37cbea80",
   "metadata": {},
   "source": [
    "### Data preperation"
   ]
  },
  {
   "cell_type": "code",
   "execution_count": 1,
   "id": "906dfccf",
   "metadata": {},
   "outputs": [],
   "source": [
    "# importing the libraries\n",
    "import numpy as np\n",
    "import pandas as pd\n",
    "import matplotlib.pyplot as plt"
   ]
  },
  {
   "cell_type": "code",
   "execution_count": 2,
   "id": "a26a45e6",
   "metadata": {},
   "outputs": [],
   "source": [
    "# importing trip-data and weather-data provided by the chair\n",
    "file_path = \"./data/\"\n",
    "\n",
    "# parsing bikesharing dates to pandas datetime (pls note high runtime due to high number of lines)\n",
    "bikesharing = pd.read_csv(f\"{file_path}chicago_2017.csv\", parse_dates=[\"start_time\",\"end_time\"], infer_datetime_format=True)\n",
    "\n",
    "hourly_weather = pd.read_csv(f\"{file_path}weather_hourly_chicago.csv\", sep=\",\", parse_dates = [\"date_time\"])"
   ]
  },
  {
   "cell_type": "code",
   "execution_count": 3,
   "id": "7b304b1e",
   "metadata": {},
   "outputs": [
    {
     "name": "stdout",
     "output_type": "stream",
     "text": [
      "number of rows in weatherdata: 43848\n"
     ]
    },
    {
     "data": {
      "text/html": [
       "<div>\n",
       "<style scoped>\n",
       "    .dataframe tbody tr th:only-of-type {\n",
       "        vertical-align: middle;\n",
       "    }\n",
       "\n",
       "    .dataframe tbody tr th {\n",
       "        vertical-align: top;\n",
       "    }\n",
       "\n",
       "    .dataframe thead th {\n",
       "        text-align: right;\n",
       "    }\n",
       "</style>\n",
       "<table border=\"1\" class=\"dataframe\">\n",
       "  <thead>\n",
       "    <tr style=\"text-align: right;\">\n",
       "      <th></th>\n",
       "      <th>date_time</th>\n",
       "      <th>max_temp</th>\n",
       "      <th>min_temp</th>\n",
       "      <th>precip</th>\n",
       "    </tr>\n",
       "  </thead>\n",
       "  <tbody>\n",
       "    <tr>\n",
       "      <th>0</th>\n",
       "      <td>2015-01-02 01:00:00</td>\n",
       "      <td>-1.7</td>\n",
       "      <td>-1.7</td>\n",
       "      <td>0.0</td>\n",
       "    </tr>\n",
       "  </tbody>\n",
       "</table>\n",
       "</div>"
      ],
      "text/plain": [
       "            date_time  max_temp  min_temp  precip\n",
       "0 2015-01-02 01:00:00      -1.7      -1.7     0.0"
      ]
     },
     "execution_count": 3,
     "metadata": {},
     "output_type": "execute_result"
    }
   ],
   "source": [
    "# data inspection\n",
    "# taking a look at the weather data\n",
    "print(\"number of rows in weatherdata:\", len(hourly_weather))\n",
    "hourly_weather.head(1)"
   ]
  },
  {
   "cell_type": "code",
   "execution_count": 4,
   "id": "b1a3ae68",
   "metadata": {},
   "outputs": [
    {
     "name": "stdout",
     "output_type": "stream",
     "text": [
      "number of rows in bikesharing data: 3829014\n"
     ]
    },
    {
     "data": {
      "text/html": [
       "<div>\n",
       "<style scoped>\n",
       "    .dataframe tbody tr th:only-of-type {\n",
       "        vertical-align: middle;\n",
       "    }\n",
       "\n",
       "    .dataframe tbody tr th {\n",
       "        vertical-align: top;\n",
       "    }\n",
       "\n",
       "    .dataframe thead th {\n",
       "        text-align: right;\n",
       "    }\n",
       "</style>\n",
       "<table border=\"1\" class=\"dataframe\">\n",
       "  <thead>\n",
       "    <tr style=\"text-align: right;\">\n",
       "      <th></th>\n",
       "      <th>start_time</th>\n",
       "      <th>end_time</th>\n",
       "      <th>start_station_id</th>\n",
       "      <th>end_station_id</th>\n",
       "      <th>start_station_name</th>\n",
       "      <th>end_station_name</th>\n",
       "      <th>bike_id</th>\n",
       "      <th>user_type</th>\n",
       "    </tr>\n",
       "  </thead>\n",
       "  <tbody>\n",
       "    <tr>\n",
       "      <th>0</th>\n",
       "      <td>2017-03-31 23:59:07</td>\n",
       "      <td>2017-04-01 00:13:24</td>\n",
       "      <td>66</td>\n",
       "      <td>171</td>\n",
       "      <td>Clinton St &amp; Lake St</td>\n",
       "      <td>May St &amp; Cullerton St</td>\n",
       "      <td>5292</td>\n",
       "      <td>Subscriber</td>\n",
       "    </tr>\n",
       "  </tbody>\n",
       "</table>\n",
       "</div>"
      ],
      "text/plain": [
       "           start_time            end_time  start_station_id  end_station_id  \\\n",
       "0 2017-03-31 23:59:07 2017-04-01 00:13:24                66             171   \n",
       "\n",
       "     start_station_name       end_station_name  bike_id   user_type  \n",
       "0  Clinton St & Lake St  May St & Cullerton St     5292  Subscriber  "
      ]
     },
     "execution_count": 4,
     "metadata": {},
     "output_type": "execute_result"
    }
   ],
   "source": [
    "# taking a look at the bikesharing data\n",
    "print(\"number of rows in bikesharing data:\", len(bikesharing))\n",
    "bikesharing.head(1)"
   ]
  },
  {
   "cell_type": "code",
   "execution_count": 5,
   "id": "b4a8704e",
   "metadata": {},
   "outputs": [
    {
     "name": "stdout",
     "output_type": "stream",
     "text": [
      "weather data we should have: 8760\n"
     ]
    }
   ],
   "source": [
    "# calculating number of weather data points needed for hourly data of one year\n",
    "print(\"weather data we should have:\", 24*365)\n"
   ]
  },
  {
   "attachments": {},
   "cell_type": "markdown",
   "id": "b42a8eeb",
   "metadata": {},
   "source": [
    "The number of hourly weather data points for one year should be 8760. As identified above, the weather dataset consists of 43848 data points (number of rows in weather data). Therefore, there must be more data in the dataset than just for the year of 2017. We will check this in the next step."
   ]
  },
  {
   "cell_type": "code",
   "execution_count": 6,
   "id": "48e79866",
   "metadata": {},
   "outputs": [
    {
     "name": "stdout",
     "output_type": "stream",
     "text": [
      "existing weather data for 2017: 8751\n"
     ]
    }
   ],
   "source": [
    "# making sure we only work with weather data from 2017\n",
    "hourly_weather = hourly_weather[hourly_weather[\"date_time\"].dt.year == 2017]\n",
    "print(\"existing weather data for 2017:\", len(hourly_weather))"
   ]
  },
  {
   "attachments": {},
   "cell_type": "markdown",
   "id": "51f08171",
   "metadata": {},
   "source": [
    "As it turns out, the data regarding the year 2017 sums up to 8751 data points. \n",
    "In the next step, we will perform the same check for the bikesharing data."
   ]
  },
  {
   "cell_type": "code",
   "execution_count": 7,
   "id": "70d0381d",
   "metadata": {},
   "outputs": [
    {
     "name": "stdout",
     "output_type": "stream",
     "text": [
      "0\n",
      "3\n"
     ]
    }
   ],
   "source": [
    "# checking for data in the bikesharing df that is not from 2017\n",
    "print(len(bikesharing[bikesharing[\"start_time\"].dt.year != 2017]))\n",
    "print(len(bikesharing[bikesharing[\"end_time\"].dt.year != 2017]))"
   ]
  },
  {
   "attachments": {},
   "cell_type": "markdown",
   "id": "64be7263",
   "metadata": {},
   "source": [
    "There are three data points for trips which did not end in 2017, indicating that these trips ended in 2018. As this is only a small sample, we will remove the respective lines from the df in the following."
   ]
  },
  {
   "cell_type": "code",
   "execution_count": 8,
   "id": "4b363289",
   "metadata": {},
   "outputs": [
    {
     "name": "stdout",
     "output_type": "stream",
     "text": [
      "0\n"
     ]
    }
   ],
   "source": [
    "# removing this small sample\n",
    "bikesharing = bikesharing[bikesharing[\"end_time\"].dt.year == 2017]\n",
    "print(len(bikesharing[bikesharing[\"end_time\"].dt.year != 2017]))"
   ]
  },
  {
   "cell_type": "code",
   "execution_count": 9,
   "id": "129728ad",
   "metadata": {},
   "outputs": [
    {
     "name": "stdout",
     "output_type": "stream",
     "text": [
      "start_time            3829011\n",
      "end_time              3829011\n",
      "start_station_id      3829011\n",
      "end_station_id        3829011\n",
      "start_station_name    3829011\n",
      "end_station_name      3829011\n",
      "bike_id               3829011\n",
      "user_type             3829011\n",
      "dtype: int64\n",
      "Null Values: 0\n"
     ]
    }
   ],
   "source": [
    "# further inspection of the bikesharing data\n",
    "# checking for null values\n",
    "print(bikesharing.count())\n",
    "print(\"Null Values:\", len(bikesharing) - len(bikesharing.dropna(axis=0)))"
   ]
  },
  {
   "cell_type": "code",
   "execution_count": 10,
   "id": "5ec854cb",
   "metadata": {},
   "outputs": [
    {
     "name": "stdout",
     "output_type": "stream",
     "text": [
      "Dupes: 57\n"
     ]
    }
   ],
   "source": [
    "# checking for duplicates\n",
    "print(\"Dupes:\", len(bikesharing)-len(bikesharing.drop_duplicates()))"
   ]
  },
  {
   "cell_type": "code",
   "execution_count": 11,
   "id": "a26db7fa",
   "metadata": {},
   "outputs": [
    {
     "data": {
      "text/plain": [
       "3828954"
      ]
     },
     "execution_count": 11,
     "metadata": {},
     "output_type": "execute_result"
    }
   ],
   "source": [
    "# since there are no missing values we will just need to drop the duplicates\n",
    "bikesharing.drop_duplicates(inplace=True)\n",
    "len(bikesharing)"
   ]
  },
  {
   "cell_type": "code",
   "execution_count": 12,
   "id": "9e26a2d4",
   "metadata": {},
   "outputs": [
    {
     "name": "stdout",
     "output_type": "stream",
     "text": [
      "date_time    8751\n",
      "max_temp     8751\n",
      "min_temp     8751\n",
      "precip       8751\n",
      "dtype: int64\n",
      "Null Values: 0\n"
     ]
    }
   ],
   "source": [
    "# Further inspection of the weather data\n",
    "# checking for null values\n",
    "print(hourly_weather.count())\n",
    "print(\"Null Values:\", len(hourly_weather) - len(hourly_weather.dropna(axis=0)))"
   ]
  },
  {
   "cell_type": "code",
   "execution_count": 13,
   "id": "e53b9bd8",
   "metadata": {},
   "outputs": [
    {
     "name": "stdout",
     "output_type": "stream",
     "text": [
      "number of duplicate data: 121\n",
      "number of duplicate date_time data: 514\n"
     ]
    }
   ],
   "source": [
    "# checking for duplicates\n",
    "print(\"number of duplicate data:\", len(hourly_weather)-len(hourly_weather.drop_duplicates()))\n",
    "print(\"number of duplicate date_time data:\", len(hourly_weather)-len(hourly_weather.drop_duplicates(subset=\"date_time\")))"
   ]
  },
  {
   "cell_type": "code",
   "execution_count": 14,
   "id": "39892b27",
   "metadata": {},
   "outputs": [
    {
     "name": "stdout",
     "output_type": "stream",
     "text": [
      "remaining weather data rows: 8237\n"
     ]
    }
   ],
   "source": [
    "# lines that are complete duplicates can be dropped, since they have no added value\n",
    "hourly_weather.drop_duplicates(inplace=True)\n",
    "# Rows with duplicate date_time but differing weather data may just be rows with wrongly assigned date_time stamps.\n",
    "# However, since we cannot verify this, these rows will also be dropped\n",
    "hourly_weather.drop_duplicates(subset=\"date_time\", inplace=True)\n",
    "print(\"remaining weather data rows:\", len(hourly_weather))"
   ]
  },
  {
   "attachments": {},
   "cell_type": "markdown",
   "id": "8d148b5d",
   "metadata": {},
   "source": [
    "The number of cleaned weather data consists of 8237 data points."
   ]
  },
  {
   "cell_type": "code",
   "execution_count": 15,
   "id": "c5137e43",
   "metadata": {},
   "outputs": [],
   "source": [
    "# to implement weather data into the bikesharing df, we first split the date into hour, day, month and for later analysis weekday\n",
    "bikesharing[\"start_hour\"] = bikesharing[\"start_time\"].apply(lambda x: x.hour)\n",
    "bikesharing[\"start_day\"] = bikesharing[\"start_time\"].apply(lambda x: x.day)\n",
    "bikesharing[\"start_month\"] = bikesharing[\"start_time\"].apply(lambda x: x.month)\n",
    "bikesharing[\"start_weekday\"] = bikesharing[\"start_time\"].apply(lambda x: x.dayofweek)\n",
    "\n",
    "hourly_weather[\"hour\"] = hourly_weather[\"date_time\"].apply(lambda x: x.hour)\n",
    "hourly_weather[\"day\"] = hourly_weather[\"date_time\"].apply(lambda x: x.day)\n",
    "hourly_weather[\"month\"] = hourly_weather[\"date_time\"].apply(lambda x: x.month)"
   ]
  },
  {
   "cell_type": "code",
   "execution_count": 16,
   "id": "085c2c00",
   "metadata": {},
   "outputs": [],
   "source": [
    "# merging the data along the coloums to make sure the weather data will only be applied to the start dates, \n",
    "# which are more relevant for the predictions we plan to make (no predictions about under which weather conditions trips are ended)\n",
    "bikesharing = bikesharing.merge(hourly_weather[[\"max_temp\",\"min_temp\",\"precip\",\"hour\",\"day\",\"month\"]], how=\"left\", left_on=[\"start_hour\",\"start_day\",\"start_month\"], right_on=[\"hour\",\"day\",\"month\"])"
   ]
  },
  {
   "attachments": {},
   "cell_type": "markdown",
   "id": "71b09f50",
   "metadata": {},
   "source": [
    "At this point we decide to only include the weather at the beginning of a trip in the further analysis. As we do not have any data one bike maintenance, bike conditions, etc. which could also be influenced by the weather at the end of a trip, we cannot gain further insights with the data available for this analysis. The weather at the beginning of a trip, however, could be assumed to influence the decision to start one, which is why we will focus on this data."
   ]
  },
  {
   "cell_type": "code",
   "execution_count": 17,
   "id": "f960258d",
   "metadata": {},
   "outputs": [
    {
     "name": "stdout",
     "output_type": "stream",
     "text": [
      "start_time            3828954\n",
      "end_time              3828954\n",
      "start_station_id      3828954\n",
      "end_station_id        3828954\n",
      "start_station_name    3828954\n",
      "end_station_name      3828954\n",
      "bike_id               3828954\n",
      "user_type             3828954\n",
      "start_hour            3828954\n",
      "start_day             3828954\n",
      "start_month           3828954\n",
      "start_weekday         3828954\n",
      "max_temp              3641523\n",
      "min_temp              3641523\n",
      "precip                3641523\n",
      "dtype: int64\n"
     ]
    }
   ],
   "source": [
    "# removing douplicate data in bikesharing\n",
    "bikesharing.drop([\"hour\", \"day\", \"month\"], axis=1, inplace=True)\n",
    "# test data\n",
    "print(bikesharing.count())"
   ]
  },
  {
   "cell_type": "code",
   "execution_count": 18,
   "id": "27f18d7f",
   "metadata": {
    "scrolled": true
   },
   "outputs": [
    {
     "name": "stdout",
     "output_type": "stream",
     "text": [
      "start_time            3828954\n",
      "end_time              3828954\n",
      "start_station_id      3828954\n",
      "end_station_id        3828954\n",
      "start_station_name    3828954\n",
      "end_station_name      3828954\n",
      "bike_id               3828954\n",
      "user_type             3828954\n",
      "start_hour            3828954\n",
      "start_day             3828954\n",
      "start_month           3828954\n",
      "start_weekday         3828954\n",
      "max_temp              3828954\n",
      "min_temp              3828954\n",
      "precip                3828954\n",
      "dtype: int64\n"
     ]
    }
   ],
   "source": [
    "# For some columns (max_temp, min_temp, precip) data is missing.\n",
    "# We will fill the missing data forward with next available weather data set. \n",
    "\n",
    "bikesharing.sort_values(by=[\"start_time\"], inplace=True)\n",
    "bikesharing = bikesharing.fillna(method='ffill')\n",
    "print(bikesharing.count())"
   ]
  },
  {
   "cell_type": "code",
   "execution_count": 19,
   "id": "36cc5319",
   "metadata": {},
   "outputs": [],
   "source": [
    "# importing station data per half year provided by Divvy Bike and joining it to a complete list. \n",
    "# Concluding we will drop duplicates, so that every possible station is noted\n",
    "\n",
    "station_dataQ12 = pd.read_csv(f\"{file_path}Divvy_Stations_2017_Q1Q2.csv\", parse_dates=[\"online_date\"], infer_datetime_format=True)\n",
    "station_dataQ34 = pd.read_csv(f\"{file_path}Divvy_Stations_2017_Q3Q4.csv\", parse_dates=[\"online_date\"], infer_datetime_format=True)\n",
    "station_data = pd.concat([station_dataQ12, station_dataQ34])\n",
    "station_data.drop_duplicates(subset=\"id\", inplace=True)"
   ]
  },
  {
   "cell_type": "code",
   "execution_count": 20,
   "id": "eaa02afb",
   "metadata": {},
   "outputs": [
    {
     "name": "stdout",
     "output_type": "stream",
     "text": [
      "number of stations in the first half of 2017: 582\n",
      "number of stations in the second half of 2017: 585\n",
      "number of stations for the combined list: 585\n"
     ]
    },
    {
     "data": {
      "text/html": [
       "<div>\n",
       "<style scoped>\n",
       "    .dataframe tbody tr th:only-of-type {\n",
       "        vertical-align: middle;\n",
       "    }\n",
       "\n",
       "    .dataframe tbody tr th {\n",
       "        vertical-align: top;\n",
       "    }\n",
       "\n",
       "    .dataframe thead th {\n",
       "        text-align: right;\n",
       "    }\n",
       "</style>\n",
       "<table border=\"1\" class=\"dataframe\">\n",
       "  <thead>\n",
       "    <tr style=\"text-align: right;\">\n",
       "      <th></th>\n",
       "      <th>id</th>\n",
       "      <th>name</th>\n",
       "      <th>city</th>\n",
       "      <th>latitude</th>\n",
       "      <th>longitude</th>\n",
       "      <th>dpcapacity</th>\n",
       "      <th>online_date</th>\n",
       "      <th>Unnamed: 7</th>\n",
       "    </tr>\n",
       "  </thead>\n",
       "  <tbody>\n",
       "    <tr>\n",
       "      <th>0</th>\n",
       "      <td>456</td>\n",
       "      <td>2112 W Peterson Ave</td>\n",
       "      <td>Chicago</td>\n",
       "      <td>41.991178</td>\n",
       "      <td>-87.683593</td>\n",
       "      <td>15</td>\n",
       "      <td>2015-02-10 14:04:42</td>\n",
       "      <td>NaN</td>\n",
       "    </tr>\n",
       "    <tr>\n",
       "      <th>1</th>\n",
       "      <td>101</td>\n",
       "      <td>63rd St Beach</td>\n",
       "      <td>Chicago</td>\n",
       "      <td>41.781016</td>\n",
       "      <td>-87.576120</td>\n",
       "      <td>23</td>\n",
       "      <td>2013-07-16 01:27:50</td>\n",
       "      <td>NaN</td>\n",
       "    </tr>\n",
       "    <tr>\n",
       "      <th>2</th>\n",
       "      <td>109</td>\n",
       "      <td>900 W Harrison St</td>\n",
       "      <td>Chicago</td>\n",
       "      <td>41.874675</td>\n",
       "      <td>-87.650019</td>\n",
       "      <td>19</td>\n",
       "      <td>2013-07-18 16:45:02</td>\n",
       "      <td>NaN</td>\n",
       "    </tr>\n",
       "  </tbody>\n",
       "</table>\n",
       "</div>"
      ],
      "text/plain": [
       "    id                 name     city   latitude  longitude  dpcapacity  \\\n",
       "0  456  2112 W Peterson Ave  Chicago  41.991178 -87.683593          15   \n",
       "1  101        63rd St Beach  Chicago  41.781016 -87.576120          23   \n",
       "2  109    900 W Harrison St  Chicago  41.874675 -87.650019          19   \n",
       "\n",
       "          online_date  Unnamed: 7  \n",
       "0 2015-02-10 14:04:42         NaN  \n",
       "1 2013-07-16 01:27:50         NaN  \n",
       "2 2013-07-18 16:45:02         NaN  "
      ]
     },
     "execution_count": 20,
     "metadata": {},
     "output_type": "execute_result"
    }
   ],
   "source": [
    "# Printing length of station list and head to check if station_data has calculated correctly\n",
    "print(\"number of stations in the first half of 2017:\", len(station_dataQ12))\n",
    "print(\"number of stations in the second half of 2017:\", len(station_dataQ34))\n",
    "print(\"number of stations for the combined list:\", len(station_data))\n",
    "station_data.head(3)"
   ]
  },
  {
   "cell_type": "code",
   "execution_count": 21,
   "id": "430a2ee3",
   "metadata": {},
   "outputs": [
    {
     "name": "stdout",
     "output_type": "stream",
     "text": [
      "id             585\n",
      "name           585\n",
      "city           585\n",
      "latitude       585\n",
      "longitude      585\n",
      "dpcapacity     585\n",
      "online_date    585\n",
      "Unnamed: 7       0\n",
      "dtype: int64\n"
     ]
    }
   ],
   "source": [
    "# Since Divvy_Stations_2017_Q3Q4.csv has an comma at the end of every line, pandas reads in a 7 column without any values\n",
    "print(station_data.count())\n",
    "station_data.drop(station_data.columns[7], axis=1,  inplace=True)"
   ]
  },
  {
   "cell_type": "code",
   "execution_count": 22,
   "id": "c559dc4c",
   "metadata": {},
   "outputs": [
    {
     "data": {
      "text/html": [
       "<div>\n",
       "<style scoped>\n",
       "    .dataframe tbody tr th:only-of-type {\n",
       "        vertical-align: middle;\n",
       "    }\n",
       "\n",
       "    .dataframe tbody tr th {\n",
       "        vertical-align: top;\n",
       "    }\n",
       "\n",
       "    .dataframe thead th {\n",
       "        text-align: right;\n",
       "    }\n",
       "</style>\n",
       "<table border=\"1\" class=\"dataframe\">\n",
       "  <thead>\n",
       "    <tr style=\"text-align: right;\">\n",
       "      <th></th>\n",
       "      <th>start_time</th>\n",
       "      <th>end_time</th>\n",
       "      <th>start_station_id</th>\n",
       "      <th>end_station_id</th>\n",
       "      <th>start_station_name</th>\n",
       "      <th>end_station_name</th>\n",
       "      <th>bike_id</th>\n",
       "      <th>user_type</th>\n",
       "      <th>start_hour</th>\n",
       "      <th>start_day</th>\n",
       "      <th>start_month</th>\n",
       "      <th>start_weekday</th>\n",
       "      <th>max_temp</th>\n",
       "      <th>min_temp</th>\n",
       "      <th>precip</th>\n",
       "      <th>start_lat</th>\n",
       "      <th>start_long</th>\n",
       "      <th>end_lat</th>\n",
       "      <th>end_long</th>\n",
       "    </tr>\n",
       "  </thead>\n",
       "  <tbody>\n",
       "    <tr>\n",
       "      <th>0</th>\n",
       "      <td>2017-01-01 00:00:36</td>\n",
       "      <td>2017-01-01 00:06:32</td>\n",
       "      <td>414</td>\n",
       "      <td>191</td>\n",
       "      <td>Canal St &amp; Taylor St</td>\n",
       "      <td>Canal St &amp; Monroe St (*)</td>\n",
       "      <td>2511</td>\n",
       "      <td>Customer</td>\n",
       "      <td>0</td>\n",
       "      <td>1</td>\n",
       "      <td>1</td>\n",
       "      <td>6</td>\n",
       "      <td>-0.6</td>\n",
       "      <td>-0.6</td>\n",
       "      <td>0.0</td>\n",
       "      <td>41.870257</td>\n",
       "      <td>-87.639474</td>\n",
       "      <td>41.880884</td>\n",
       "      <td>-87.639525</td>\n",
       "    </tr>\n",
       "    <tr>\n",
       "      <th>1</th>\n",
       "      <td>2017-01-01 00:02:54</td>\n",
       "      <td>2017-01-01 00:08:21</td>\n",
       "      <td>28</td>\n",
       "      <td>20</td>\n",
       "      <td>Larrabee St &amp; Menomonee St</td>\n",
       "      <td>Sheffield Ave &amp; Kingsbury St</td>\n",
       "      <td>3660</td>\n",
       "      <td>Subscriber</td>\n",
       "      <td>0</td>\n",
       "      <td>1</td>\n",
       "      <td>1</td>\n",
       "      <td>6</td>\n",
       "      <td>-0.6</td>\n",
       "      <td>-0.6</td>\n",
       "      <td>0.0</td>\n",
       "      <td>41.914680</td>\n",
       "      <td>-87.643320</td>\n",
       "      <td>41.910522</td>\n",
       "      <td>-87.653106</td>\n",
       "    </tr>\n",
       "    <tr>\n",
       "      <th>2</th>\n",
       "      <td>2017-01-01 00:06:06</td>\n",
       "      <td>2017-01-01 00:18:31</td>\n",
       "      <td>620</td>\n",
       "      <td>333</td>\n",
       "      <td>Orleans St &amp; Chestnut St (NEXT Apts)</td>\n",
       "      <td>Ashland Ave &amp; Blackhawk St</td>\n",
       "      <td>4992</td>\n",
       "      <td>Subscriber</td>\n",
       "      <td>0</td>\n",
       "      <td>1</td>\n",
       "      <td>1</td>\n",
       "      <td>6</td>\n",
       "      <td>-0.6</td>\n",
       "      <td>-0.6</td>\n",
       "      <td>0.0</td>\n",
       "      <td>41.898203</td>\n",
       "      <td>-87.637536</td>\n",
       "      <td>41.907066</td>\n",
       "      <td>-87.667252</td>\n",
       "    </tr>\n",
       "  </tbody>\n",
       "</table>\n",
       "</div>"
      ],
      "text/plain": [
       "           start_time            end_time  start_station_id  end_station_id  \\\n",
       "0 2017-01-01 00:00:36 2017-01-01 00:06:32               414             191   \n",
       "1 2017-01-01 00:02:54 2017-01-01 00:08:21                28              20   \n",
       "2 2017-01-01 00:06:06 2017-01-01 00:18:31               620             333   \n",
       "\n",
       "                     start_station_name              end_station_name  \\\n",
       "0                  Canal St & Taylor St      Canal St & Monroe St (*)   \n",
       "1            Larrabee St & Menomonee St  Sheffield Ave & Kingsbury St   \n",
       "2  Orleans St & Chestnut St (NEXT Apts)    Ashland Ave & Blackhawk St   \n",
       "\n",
       "   bike_id   user_type  start_hour  start_day  start_month  start_weekday  \\\n",
       "0     2511    Customer           0          1            1              6   \n",
       "1     3660  Subscriber           0          1            1              6   \n",
       "2     4992  Subscriber           0          1            1              6   \n",
       "\n",
       "   max_temp  min_temp  precip  start_lat  start_long    end_lat   end_long  \n",
       "0      -0.6      -0.6     0.0  41.870257  -87.639474  41.880884 -87.639525  \n",
       "1      -0.6      -0.6     0.0  41.914680  -87.643320  41.910522 -87.653106  \n",
       "2      -0.6      -0.6     0.0  41.898203  -87.637536  41.907066 -87.667252  "
      ]
     },
     "execution_count": 22,
     "metadata": {},
     "output_type": "execute_result"
    }
   ],
   "source": [
    "# combine stations and bikesharing\n",
    "bikesharing = bikesharing.merge(station_data[[\"latitude\",\"longitude\", \"id\"]], how=\"left\", left_on=[\"start_station_id\"], right_on=[\"id\"])\n",
    "bikesharing.rename(columns={\"latitude\": \"start_lat\", \"longitude\": \"start_long\"}, inplace=True)\n",
    "bikesharing.drop(\"id\", axis=1,  inplace=True)\n",
    "bikesharing = bikesharing.merge(station_data[[\"latitude\",\"longitude\", \"id\"]], how=\"left\", left_on=[\"end_station_id\"], right_on=[\"id\"])\n",
    "bikesharing.rename(columns={\"latitude\": \"end_lat\", \"longitude\": \"end_long\"}, inplace=True)\n",
    "bikesharing.drop(\"id\", axis=1,  inplace=True)\n",
    "bikesharing.head(3)"
   ]
  },
  {
   "cell_type": "code",
   "execution_count": 23,
   "id": "705ce6c8",
   "metadata": {},
   "outputs": [],
   "source": [
    "# saving the fully cleaned and prepared dataset to a new csv file\n",
    "file_path = \"./data/\"\n",
    "bikesharing.to_csv(f\"{file_path}chicago_2017_prepared.csv\", index=False)"
   ]
  }
 ],
 "metadata": {
  "kernelspec": {
   "display_name": "base",
   "language": "python",
   "name": "python3"
  },
  "language_info": {
   "codemirror_mode": {
    "name": "ipython",
    "version": 3
   },
   "file_extension": ".py",
   "mimetype": "text/x-python",
   "name": "python",
   "nbconvert_exporter": "python",
   "pygments_lexer": "ipython3",
   "version": "3.9.13"
  },
  "vscode": {
   "interpreter": {
    "hash": "333c853947e61480d4838933ed58c120fdacd04a9d4fbfa1cc48942a2304915d"
   }
  }
 },
 "nbformat": 4,
 "nbformat_minor": 5
}
